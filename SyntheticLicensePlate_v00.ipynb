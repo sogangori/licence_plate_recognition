{
 "cells": [
  {
   "cell_type": "code",
   "execution_count": 1,
   "metadata": {},
   "outputs": [],
   "source": [
    "import os\n",
    "import re\n",
    "import zipfile\n",
    "\n",
    "import numpy as np\n",
    "import matplotlib.pyplot as plt\n",
    "import pandas as pd\n",
    "\n",
    "from PIL import Image\n",
    "import ast\n",
    "import json\n",
    "from glob import glob\n",
    "\n",
    "import tensorflow as tf\n",
    "from tensorflow import keras\n",
    "import tensorflow_datasets as tfds"
   ]
  },
  {
   "cell_type": "code",
   "execution_count": 2,
   "metadata": {},
   "outputs": [],
   "source": [
    "#!pip install tensorflow_datasets"
   ]
  },
  {
   "cell_type": "code",
   "execution_count": 3,
   "metadata": {},
   "outputs": [],
   "source": [
    "os.environ[\"CUDA_VISIBLE_DEVICES\"] = \"-1\" #CPU"
   ]
  },
  {
   "cell_type": "code",
   "execution_count": 2,
   "metadata": {},
   "outputs": [
    {
     "name": "stdout",
     "output_type": "stream",
     "text": [
      "WARNING:tensorflow:From <ipython-input-2-5405bb3c52bd>:1: is_gpu_available (from tensorflow.python.framework.test_util) is deprecated and will be removed in a future version.\n",
      "Instructions for updating:\n",
      "Use `tf.config.list_physical_devices('GPU')` instead.\n"
     ]
    },
    {
     "data": {
      "text/plain": [
       "('2.3.0', True)"
      ]
     },
     "execution_count": 2,
     "metadata": {},
     "output_type": "execute_result"
    }
   ],
   "source": [
    "tf.__version__, tf.test.is_gpu_available()"
   ]
  },
  {
   "cell_type": "code",
   "execution_count": 3,
   "metadata": {},
   "outputs": [
    {
     "data": {
      "text/plain": [
       "118"
      ]
     },
     "execution_count": 3,
     "metadata": {},
     "output_type": "execute_result"
    }
   ],
   "source": [
    "max_sequence = 9\n",
    "blank_num = -1\n",
    "characters_0 = '0123456789'\n",
    "characters_alphabet = 'ABCDEFGHIJKLMNPQRSTUVWXYZ-'\n",
    "characters_1 = '가나다라마바사아자하거너더러머버서어저허고노도로모보소오조호구누두루무부수우주'\n",
    "characters_1d = 'GNDLMBSOJHgndlmbsojhgNDLMBSOJHGNDLMBSUJ'\n",
    "characters_2 = '대배해제기교표외인천국합육공영준협정울경강원충북운남전산광'\n",
    "characters_2d = 'DBHJGGPYICGHUGYJHJUGKWCBUNJSG'\n",
    "characters_3 = '_       abcd  '\n",
    "plate_characters = characters_0 + characters_alphabet + characters_1 + characters_2 + characters_3\n",
    "num_classes = len(plate_characters)\n",
    "num_classes"
   ]
  },
  {
   "cell_type": "code",
   "execution_count": 4,
   "metadata": {},
   "outputs": [
    {
     "data": {
      "text/plain": [
       "(116, 117)"
      ]
     },
     "execution_count": 4,
     "metadata": {},
     "output_type": "execute_result"
    }
   ],
   "source": [
    "padded_image_shape = (32*4, 32*12)\n",
    "EOS = num_classes - 1\n",
    "SOS = EOS - 1\n",
    "head_n = 8\n",
    "l1 = 1e-8\n",
    "activation = 'relu'#'selu' is not converted to tflite\n",
    "kernel_init = tf.initializers.he_normal()\n",
    "path_weight = \"model/LPR\"\n",
    "SOS, EOS"
   ]
  },
  {
   "cell_type": "code",
   "execution_count": 5,
   "metadata": {},
   "outputs": [],
   "source": [
    "path_synthetic = '/home/mvlab/Downloads/plate_generator/gen/'\n",
    "path_label = path_synthetic + 'label.csv'"
   ]
  },
  {
   "cell_type": "code",
   "execution_count": 6,
   "metadata": {},
   "outputs": [
    {
     "data": {
      "text/plain": [
       "(True, True)"
      ]
     },
     "execution_count": 6,
     "metadata": {},
     "output_type": "execute_result"
    }
   ],
   "source": [
    "os.path.isdir(path_synthetic), os.path.isfile(path_label)"
   ]
  },
  {
   "cell_type": "code",
   "execution_count": 7,
   "metadata": {},
   "outputs": [],
   "source": [
    "np.set_printoptions(precision=3)"
   ]
  },
  {
   "cell_type": "code",
   "execution_count": 8,
   "metadata": {},
   "outputs": [
    {
     "data": {
      "text/plain": [
       "(6251, 29)"
      ]
     },
     "execution_count": 8,
     "metadata": {},
     "output_type": "execute_result"
    }
   ],
   "source": [
    "df = pd.read_csv(path_label, sep=' ')\n",
    "df.shape"
   ]
  },
  {
   "cell_type": "code",
   "execution_count": 9,
   "metadata": {},
   "outputs": [
    {
     "data": {
      "text/plain": [
       "Index(['path', 'x0', 'y0', 'x1', 'y1', 'x2', 'y2', 'x3', 'y3', 'type', 'text',\n",
       "       '0', '1', '2', '3', '4', '5', '6', '7', '8', '9', '10', '11', '12',\n",
       "       '13', '14', '15', '16', '17'],\n",
       "      dtype='object')"
      ]
     },
     "execution_count": 9,
     "metadata": {},
     "output_type": "execute_result"
    }
   ],
   "source": [
    "df.columns"
   ]
  },
  {
   "cell_type": "code",
   "execution_count": 10,
   "metadata": {
    "scrolled": true
   },
   "outputs": [
    {
     "data": {
      "text/html": [
       "<div>\n",
       "<style scoped>\n",
       "    .dataframe tbody tr th:only-of-type {\n",
       "        vertical-align: middle;\n",
       "    }\n",
       "\n",
       "    .dataframe tbody tr th {\n",
       "        vertical-align: top;\n",
       "    }\n",
       "\n",
       "    .dataframe thead th {\n",
       "        text-align: right;\n",
       "    }\n",
       "</style>\n",
       "<table border=\"1\" class=\"dataframe\">\n",
       "  <thead>\n",
       "    <tr style=\"text-align: right;\">\n",
       "      <th></th>\n",
       "      <th>path</th>\n",
       "      <th>x0</th>\n",
       "      <th>y0</th>\n",
       "      <th>x1</th>\n",
       "      <th>y1</th>\n",
       "      <th>x2</th>\n",
       "      <th>y2</th>\n",
       "      <th>x3</th>\n",
       "      <th>y3</th>\n",
       "      <th>type</th>\n",
       "      <th>...</th>\n",
       "      <th>8</th>\n",
       "      <th>9</th>\n",
       "      <th>10</th>\n",
       "      <th>11</th>\n",
       "      <th>12</th>\n",
       "      <th>13</th>\n",
       "      <th>14</th>\n",
       "      <th>15</th>\n",
       "      <th>16</th>\n",
       "      <th>17</th>\n",
       "    </tr>\n",
       "  </thead>\n",
       "  <tbody>\n",
       "    <tr>\n",
       "      <th>0</th>\n",
       "      <td>1_49소4994.png</td>\n",
       "      <td>263</td>\n",
       "      <td>56</td>\n",
       "      <td>782</td>\n",
       "      <td>56</td>\n",
       "      <td>782</td>\n",
       "      <td>165</td>\n",
       "      <td>263</td>\n",
       "      <td>165</td>\n",
       "      <td>1</td>\n",
       "      <td>...</td>\n",
       "      <td>608</td>\n",
       "      <td>110</td>\n",
       "      <td>665</td>\n",
       "      <td>110</td>\n",
       "      <td>723</td>\n",
       "      <td>110</td>\n",
       "      <td>0.0</td>\n",
       "      <td>0.0</td>\n",
       "      <td>0.0</td>\n",
       "      <td>0.0</td>\n",
       "    </tr>\n",
       "    <tr>\n",
       "      <th>1</th>\n",
       "      <td>1_87거5293.png</td>\n",
       "      <td>260</td>\n",
       "      <td>55</td>\n",
       "      <td>779</td>\n",
       "      <td>55</td>\n",
       "      <td>779</td>\n",
       "      <td>164</td>\n",
       "      <td>260</td>\n",
       "      <td>164</td>\n",
       "      <td>1</td>\n",
       "      <td>...</td>\n",
       "      <td>601</td>\n",
       "      <td>109</td>\n",
       "      <td>658</td>\n",
       "      <td>109</td>\n",
       "      <td>715</td>\n",
       "      <td>109</td>\n",
       "      <td>0.0</td>\n",
       "      <td>0.0</td>\n",
       "      <td>0.0</td>\n",
       "      <td>0.0</td>\n",
       "    </tr>\n",
       "    <tr>\n",
       "      <th>2</th>\n",
       "      <td>1_52머9472.png</td>\n",
       "      <td>262</td>\n",
       "      <td>50</td>\n",
       "      <td>781</td>\n",
       "      <td>50</td>\n",
       "      <td>781</td>\n",
       "      <td>159</td>\n",
       "      <td>262</td>\n",
       "      <td>159</td>\n",
       "      <td>1</td>\n",
       "      <td>...</td>\n",
       "      <td>598</td>\n",
       "      <td>104</td>\n",
       "      <td>654</td>\n",
       "      <td>104</td>\n",
       "      <td>710</td>\n",
       "      <td>104</td>\n",
       "      <td>0.0</td>\n",
       "      <td>0.0</td>\n",
       "      <td>0.0</td>\n",
       "      <td>0.0</td>\n",
       "    </tr>\n",
       "    <tr>\n",
       "      <th>3</th>\n",
       "      <td>1_20모3579.png</td>\n",
       "      <td>260</td>\n",
       "      <td>55</td>\n",
       "      <td>779</td>\n",
       "      <td>55</td>\n",
       "      <td>779</td>\n",
       "      <td>164</td>\n",
       "      <td>260</td>\n",
       "      <td>164</td>\n",
       "      <td>1</td>\n",
       "      <td>...</td>\n",
       "      <td>600</td>\n",
       "      <td>109</td>\n",
       "      <td>657</td>\n",
       "      <td>109</td>\n",
       "      <td>714</td>\n",
       "      <td>109</td>\n",
       "      <td>0.0</td>\n",
       "      <td>0.0</td>\n",
       "      <td>0.0</td>\n",
       "      <td>0.0</td>\n",
       "    </tr>\n",
       "    <tr>\n",
       "      <th>4</th>\n",
       "      <td>1_79노4785.png</td>\n",
       "      <td>255</td>\n",
       "      <td>52</td>\n",
       "      <td>774</td>\n",
       "      <td>52</td>\n",
       "      <td>774</td>\n",
       "      <td>161</td>\n",
       "      <td>255</td>\n",
       "      <td>161</td>\n",
       "      <td>1</td>\n",
       "      <td>...</td>\n",
       "      <td>600</td>\n",
       "      <td>106</td>\n",
       "      <td>658</td>\n",
       "      <td>106</td>\n",
       "      <td>715</td>\n",
       "      <td>106</td>\n",
       "      <td>0.0</td>\n",
       "      <td>0.0</td>\n",
       "      <td>0.0</td>\n",
       "      <td>0.0</td>\n",
       "    </tr>\n",
       "  </tbody>\n",
       "</table>\n",
       "<p>5 rows × 29 columns</p>\n",
       "</div>"
      ],
      "text/plain": [
       "            path   x0  y0   x1  y1   x2   y2   x3   y3  type  ...    8    9  \\\n",
       "0  1_49소4994.png  263  56  782  56  782  165  263  165     1  ...  608  110   \n",
       "1  1_87거5293.png  260  55  779  55  779  164  260  164     1  ...  601  109   \n",
       "2  1_52머9472.png  262  50  781  50  781  159  262  159     1  ...  598  104   \n",
       "3  1_20모3579.png  260  55  779  55  779  164  260  164     1  ...  600  109   \n",
       "4  1_79노4785.png  255  52  774  52  774  161  255  161     1  ...  600  106   \n",
       "\n",
       "    10   11   12   13   14   15   16   17  \n",
       "0  665  110  723  110  0.0  0.0  0.0  0.0  \n",
       "1  658  109  715  109  0.0  0.0  0.0  0.0  \n",
       "2  654  104  710  104  0.0  0.0  0.0  0.0  \n",
       "3  657  109  714  109  0.0  0.0  0.0  0.0  \n",
       "4  658  106  715  106  0.0  0.0  0.0  0.0  \n",
       "\n",
       "[5 rows x 29 columns]"
      ]
     },
     "execution_count": 10,
     "metadata": {},
     "output_type": "execute_result"
    }
   ],
   "source": [
    "df.head()"
   ]
  },
  {
   "cell_type": "code",
   "execution_count": 11,
   "metadata": {},
   "outputs": [
    {
     "data": {
      "text/plain": [
       "array([ 1,  2,  3,  4,  5,  6,  7,  8,  9, 10])"
      ]
     },
     "execution_count": 11,
     "metadata": {},
     "output_type": "execute_result"
    }
   ],
   "source": [
    "df['type'].unique()"
   ]
  },
  {
   "cell_type": "code",
   "execution_count": 12,
   "metadata": {},
   "outputs": [
    {
     "data": {
      "text/plain": [
       "path    1_49소4994.png\n",
       "x0                263\n",
       "y0                 56\n",
       "x1                782\n",
       "y1                 56\n",
       "x2                782\n",
       "y2                165\n",
       "x3                263\n",
       "y3                165\n",
       "type                1\n",
       "text          49소4994\n",
       "0                 336\n",
       "1                 110\n",
       "2                 394\n",
       "3                 110\n",
       "4                 464\n",
       "5                 104\n",
       "6                 550\n",
       "7                 110\n",
       "8                 608\n",
       "9                 110\n",
       "10                665\n",
       "11                110\n",
       "12                723\n",
       "13                110\n",
       "14                  0\n",
       "15                  0\n",
       "16                  0\n",
       "17                  0\n",
       "Name: 0, dtype: object"
      ]
     },
     "execution_count": 12,
     "metadata": {},
     "output_type": "execute_result"
    }
   ],
   "source": [
    "df.iloc[0]"
   ]
  },
  {
   "cell_type": "code",
   "execution_count": 13,
   "metadata": {},
   "outputs": [],
   "source": [
    "def read_synthetic(max_m=10000):\n",
    "    df = pd.read_csv(path_label, sep=' ')\n",
    "    df = df[:max_m]\n",
    "    m = len(df)\n",
    "    x0 = df['x0']\n",
    "    x1 = df['x1']\n",
    "    x2 = df['x2']\n",
    "    x3 = df['x3']\n",
    "    y0 = df['y0']\n",
    "    y1 = df['y1']\n",
    "    y2 = df['y2']\n",
    "    y3 = df['y3']\n",
    "    \n",
    "    min_x = np.minimum(df['x0'], df['x3'])\n",
    "    min_y = np.minimum(df['y0'], df['y1'])\n",
    "    max_x = np.maximum(df['x1'], df['x2'])\n",
    "    max_y = np.maximum(df['y2'], df['y3'])\n",
    "    box_ratio = (max_x - min_x) / (max_y - min_y)\n",
    "    shear_y0 = -box_ratio * (y2 - y3) / (x2 - x3)\n",
    "    shear_y1 = -box_ratio * (y1 - y0) / (x1 - x0)\n",
    "    shear_x0 = -box_ratio * (x3 - x0) / (y3 - y0)\n",
    "    shear_x1 = -box_ratio * (x2 - x1) / (y2 - y1)\n",
    "    shear_y = (shear_y0 + shear_y1) / 2\n",
    "    shear_x = (shear_x0 + shear_x1) / 2\n",
    "    df['min_x'] = min_x\n",
    "    df['min_y'] = min_y\n",
    "    df['max_x'] = max_x\n",
    "    df['max_y'] = max_y\n",
    "    df['shear_x'] = shear_x\n",
    "    df['shear_y'] = shear_y\n",
    "\n",
    "    plate_chars = plate_characters\n",
    "    bbox = df[['min_x', 'min_y', 'max_x', 'max_y', 'type']].values\n",
    "    vertex = df[['x0', 'y0', 'x1', 'y1', 'x2', 'y2', 'x3', 'y3','type']].values\n",
    "    cxy_col = [str(i) for i in range(18)]\n",
    "    char_cxy = df[cxy_col].values\n",
    "    plate_type = df['type'].values\n",
    "\n",
    "    text_len = max_sequence\n",
    "    m = len(df)\n",
    "    class_nums = np.zeros((m, text_len)) - 1\n",
    "    for i in range(m):\n",
    "        text0 = df.loc[i, 'text']\n",
    "        for j in range(len(text0)):\n",
    "            class_num = plate_chars.index(text0[j])\n",
    "            class_nums[i, j] = class_num\n",
    "    print('class_nums', class_nums.shape)\n",
    "    print('char_cxy', char_cxy.shape)\n",
    "    \n",
    "    label = np.concatenate((vertex, class_nums, char_cxy), axis=-1)    \n",
    "    print('label', label.shape)\n",
    "    \n",
    "    img_path_list = list(path_synthetic + df['path'].values)\n",
    "    return img_path_list, label"
   ]
  },
  {
   "cell_type": "code",
   "execution_count": 14,
   "metadata": {},
   "outputs": [
    {
     "name": "stdout",
     "output_type": "stream",
     "text": [
      "class_nums (10, 9)\n",
      "char_cxy (10, 18)\n",
      "label (10, 36)\n",
      "labels 10 10\n",
      "[263.  56. 782.  56. 782. 165. 263. 165.   1.   4.   9.  62.   4.   9.\n",
      "   9.   4.  -1.  -1. 336. 110. 394. 110. 464. 104. 550. 110. 608. 110.\n",
      " 665. 110. 723. 110.   0.   0.   0.   0.]\n"
     ]
    }
   ],
   "source": [
    "paths, labels = read_synthetic(10)\n",
    "print('labels', len(labels), len(paths))\n",
    "print(labels[0])"
   ]
  },
  {
   "cell_type": "code",
   "execution_count": 19,
   "metadata": {},
   "outputs": [
    {
     "ename": "NameError",
     "evalue": "name 'generate_HK_GT' is not defined",
     "output_type": "error",
     "traceback": [
      "\u001b[0;31m---------------------------------------------------------------------------\u001b[0m",
      "\u001b[0;31mNameError\u001b[0m                                 Traceback (most recent call last)",
      "\u001b[0;32m<ipython-input-19-f63ec3d48857>\u001b[0m in \u001b[0;36m<module>\u001b[0;34m\u001b[0m\n\u001b[1;32m      2\u001b[0m \u001b[0;31m#get_class_index(100)\u001b[0m\u001b[0;34m\u001b[0m\u001b[0;34m\u001b[0m\u001b[0;34m\u001b[0m\u001b[0m\n\u001b[1;32m      3\u001b[0m \u001b[0;34m\u001b[0m\u001b[0m\n\u001b[0;32m----> 4\u001b[0;31m \u001b[0minfo\u001b[0m\u001b[0;34m,\u001b[0m \u001b[0mlabels\u001b[0m\u001b[0;34m,\u001b[0m \u001b[0mpaths\u001b[0m \u001b[0;34m=\u001b[0m \u001b[0mgenerate_HK_GT\u001b[0m\u001b[0;34m(\u001b[0m\u001b[0mm\u001b[0m\u001b[0;34m,\u001b[0m \u001b[0mis_synthetic\u001b[0m\u001b[0;34m=\u001b[0m\u001b[0;32mFalse\u001b[0m\u001b[0;34m)\u001b[0m\u001b[0;34m\u001b[0m\u001b[0;34m\u001b[0m\u001b[0m\n\u001b[0m\u001b[1;32m      5\u001b[0m \u001b[0mprint\u001b[0m\u001b[0;34m(\u001b[0m\u001b[0;34m'info'\u001b[0m\u001b[0;34m,\u001b[0m \u001b[0minfo\u001b[0m\u001b[0;34m)\u001b[0m\u001b[0;34m\u001b[0m\u001b[0;34m\u001b[0m\u001b[0m\n\u001b[1;32m      6\u001b[0m \u001b[0mprint\u001b[0m\u001b[0;34m(\u001b[0m\u001b[0;34m'labels'\u001b[0m\u001b[0;34m,\u001b[0m \u001b[0mlen\u001b[0m\u001b[0;34m(\u001b[0m\u001b[0mlabels\u001b[0m\u001b[0;34m)\u001b[0m\u001b[0;34m,\u001b[0m \u001b[0mlen\u001b[0m\u001b[0;34m(\u001b[0m\u001b[0mpaths\u001b[0m\u001b[0;34m)\u001b[0m\u001b[0;34m,\u001b[0m \u001b[0mlabels\u001b[0m\u001b[0;34m[\u001b[0m\u001b[0;36m0\u001b[0m\u001b[0;34m]\u001b[0m\u001b[0;34m)\u001b[0m\u001b[0;34m\u001b[0m\u001b[0;34m\u001b[0m\u001b[0m\n",
      "\u001b[0;31mNameError\u001b[0m: name 'generate_HK_GT' is not defined"
     ]
    }
   ],
   "source": [
    "m = 10#2500\n",
    "#get_class_index(100)\n",
    "\n",
    "info, labels, paths = generate_HK_GT(m, is_synthetic=False)\n",
    "print('info', info)\n",
    "print('labels', len(labels), len(paths), labels[0])\n"
   ]
  },
  {
   "cell_type": "code",
   "execution_count": 20,
   "metadata": {},
   "outputs": [
    {
     "name": "stdout",
     "output_type": "stream",
     "text": [
      "x_list 10 10\n"
     ]
    }
   ],
   "source": [
    "x_list = []\n",
    "y_list = []\n",
    "for i in range(len(paths)):\n",
    "    path_img = paths[i]\n",
    "    label = labels[i]\n",
    "    if os.path.isfile(path_img):\n",
    "        img = Image.open(path_img)\n",
    "        arr = np.array(img)\n",
    "        \n",
    "        \n",
    "        img_h, img_w, img_c = arr.shape\n",
    "        #print('label', label.shape)\n",
    "        coord = label[:8]\n",
    "        type_text = label[8:8+1+max_sequence]        \n",
    "        char_cxy = label[8+1+max_sequence:]\n",
    "        \n",
    "        coord_2d = np.reshape(coord, [-1, 2])\n",
    "        coord_2d_norm = coord_2d / (np.array((img_w, img_h), np.float))\n",
    "        coord_norm = np.reshape(coord_2d_norm, [-1])\n",
    "        \n",
    "        char_cxy_2d = np.reshape(char_cxy, [-1, 2])\n",
    "        char_cxy_2d_norm = char_cxy_2d / (np.array((img_w, img_h), np.float))\n",
    "        char_cxy_norm = np.reshape(char_cxy_2d_norm, [-1])\n",
    "        \n",
    "        label_norm = np.concatenate((coord_norm, type_text, char_cxy_norm), -1)\n",
    "        \n",
    "        x_list.append(arr)\n",
    "        y_list.append(label_norm)\n",
    "        \n",
    "print('x_list', len(x_list), len(y_list))"
   ]
  },
  {
   "cell_type": "code",
   "execution_count": 21,
   "metadata": {},
   "outputs": [
    {
     "data": {
      "text/plain": [
       "<matplotlib.image.AxesImage at 0x7fa2db61f820>"
      ]
     },
     "execution_count": 21,
     "metadata": {},
     "output_type": "execute_result"
    },
    {
     "data": {
      "image/png": "[encoded data removed]",
      "text/plain": [
       "<Figure size 432x288 with 1 Axes>"
      ]
     },
     "metadata": {
      "needs_background": "light"
     },
     "output_type": "display_data"
    }
   ],
   "source": [
    "plt.imshow(x_list[0])"
   ]
  },
  {
   "cell_type": "code",
   "execution_count": 22,
   "metadata": {},
   "outputs": [],
   "source": [
    "def visualize_plate(\n",
    "    image, y, figsize=(12, 12), linewidth=1, color=[0, 0, 1]\n",
    "):\n",
    "    \"\"\"Visualize Detections\"\"\"    \n",
    "    img_h, img_w, img_c = image.shape\n",
    "    plt.figure(figsize=figsize)\n",
    "    plt.axis(\"off\")\n",
    "    plt.imshow(image)\n",
    "    ax = plt.gca()\n",
    "    \n",
    "    vertices_norm = y[:8]    \n",
    "    plate_type = y[8]\n",
    "    plate_text = y[9:]\n",
    "    vertices_norm_2d = np.reshape(vertices_norm, [-1, 2])\n",
    "    vertices_2d = vertices_norm_2d * np.array((img_w, img_h), np.float)\n",
    "    \n",
    "    x0, y0, x1, y1, x2, y2, x3, y3 = np.reshape(vertices_2d, [-1])\n",
    "    \n",
    "    w, h = x2 - x1, y2 - y1    \n",
    "    color = [1,0,0]\n",
    "    linewidth = 10\n",
    "    plt.plot(x0, y0, x1, y1, 'go-', linewidth=linewidth)\n",
    "    plt.plot(x1, y1, x2, y2, 'ro--', linewidth=linewidth)\n",
    "    plt.plot(x2, y2, x3, y3, marker = 'o', linewidth=linewidth)\n",
    "    plt.plot(x3, y3, x0, y0, marker = 'o', linewidth=linewidth)\n",
    "        \n",
    "    txt = str.format('(%d)' % (plate_type)) + str(plate_text)\n",
    "    ax.text(x0, y0, txt, bbox={\"facecolor\": [1,1,0], \"alpha\": 0.4}, clip_box=ax.clipbox, clip_on=True,)\n",
    "        \n",
    "    plt.show()\n",
    "    return ax"
   ]
  },
  {
   "cell_type": "code",
   "execution_count": 23,
   "metadata": {},
   "outputs": [],
   "source": [
    "def display_data(X, Y, stride=1):\n",
    "    for i in range(len(X)):\n",
    "        if i%stride==0:            \n",
    "            ax = visualize_plate(X[i], Y[i])"
   ]
  },
  {
   "cell_type": "code",
   "execution_count": 24,
   "metadata": {},
   "outputs": [
    {
     "data": {
      "image/png": "[encoded data removed]",
      "text/plain": [
       "<Figure size 864x864 with 1 Axes>"
      ]
     },
     "metadata": {
      "needs_background": "light"
     },
     "output_type": "display_data"
    },
    {
     "data": {
      "image/png": "[encoded data removed]",
      "text/plain": [
       "<Figure size 864x864 with 1 Axes>"
      ]
     },
     "metadata": {
      "needs_background": "light"
     },
     "output_type": "display_data"
    }
   ],
   "source": [
    "display_data(x_list, y_list, stride=5)"
   ]
  },
  {
   "cell_type": "code",
   "execution_count": 25,
   "metadata": {},
   "outputs": [],
   "source": [
    "def convert_norm_to_uv(coord):\n",
    "    return coord * 2 - 1 \n",
    "\n",
    "def convert_uv_to_norm_to(coord):\n",
    "    return coord + 1 / 2\n",
    "\n",
    "\n",
    "def transform_uv(uv, mat):\n",
    "    #coord : (m, n, 2)\n",
    "    #theta : (m, 2, 3)    \n",
    "    inv_mat = tf.linalg.inv(mat)        \n",
    "    xyo = tf.concat((uv, 1 + 0 * uv[:, :, :1]), -1)\n",
    "    new_xy = tf.einsum('mrc,msc->mrs', inv_mat, xyo)\n",
    "    new_xy = tf.transpose(new_xy, [0, 2, 1])\n",
    "    new_xy = new_xy[:, :, :2]\n",
    "    return new_xy\n",
    "\n",
    "\n",
    "def transform_xy(xy, theta):\n",
    "    m = tf.shape(xy)[0]\n",
    "    theta = tf.linalg.inv(theta)\n",
    "    theta = theta[:, :2]\n",
    "    # xy [0, 1] > [-1, 1]\n",
    "    xy = (xy - 0.5) * 2\n",
    "    theta = tf.reshape(theta, [-1, 2, 3])\n",
    "    xy = tf.reshape(xy, [m, -1, 2])\n",
    "    xyo = tf.concat((xy, 1 + 0 * xy[:, :, :1]), -1)\n",
    "    new_xy = tf.einsum('mrc,msc->mrs', theta, xyo)\n",
    "    new_xy = tf.transpose(new_xy, [0, 2, 1])\n",
    "\n",
    "    return new_xy"
   ]
  },
  {
   "cell_type": "code",
   "execution_count": 26,
   "metadata": {},
   "outputs": [],
   "source": [
    "def get_x1(t1, t2, width, height):\n",
    "    a = tf.sign(t2) * width - height * tf.sin(t2)/tf.cos(t2)\n",
    "    b = (tf.sign(t2) * tf.cos(t1) * tf.cos(t2) - tf.sign(t1) * tf.sin(t1) * tf.sin(t2)) / (tf.cos(t1)*tf.cos(t2))\n",
    "    x1 = a / b\n",
    "    return x1\n",
    "\n",
    "def get_v1_v2(t1, t2, width, height):\n",
    "    x1 = get_x1(t1, t2, width, height)\n",
    "    #x1 = get_x1_new(t1, t2, width, height)\n",
    "    y1 = x1 / tf.cos(t1) * tf.sin(t1)\n",
    "    x2 = width * tf.sign(t2) - tf.sign(t2) * x1\n",
    "    y2 = height - tf.sign(t1) * y1\n",
    "    return x1,y1,x2,y2\n",
    "\n",
    "def get_wH(t1, t2, width, height):\n",
    "    x1, y1, x2, y2 = get_v1_v2(t1, t2, width, height)\n",
    "    w = x1/tf.cos(t1)\n",
    "    h = y2/tf.cos(t2)\n",
    "    pi = 3.141592653589793\n",
    "    right = 90 * pi / 180\n",
    "    H = tf.sin(right - t1 - t2) * h\n",
    "    return w / width, H / height\n",
    "\n",
    "def get_align_scale_matrix(radian_x, radian_y, width, height):\n",
    "    min_angle = 0.0001\n",
    "    rotate_mat = rotate_matrix(-radian_y)\n",
    "    shear_x_mat = shear_x_matrix(-radian_x - radian_y)\n",
    "\n",
    "    radian_x = tf.where(tf.abs(radian_x) < min_angle, tf.sign(radian_x) * radian_x * 0+min_angle, radian_x)\n",
    "    radian_y = tf.where(tf.abs(radian_y) < min_angle, tf.sign(radian_y) * radian_y * 0+min_angle, radian_y)\n",
    "    w, h = get_wH(-radian_y, -radian_x, width, height) \n",
    "    scale_down_rotate_o = scale_matrix(w, h)\n",
    "\n",
    "    rot_mat = tf.matmul(rotate_mat, shear_x_mat)\n",
    "    rot_scale_mat = tf.matmul(rot_mat, scale_down_rotate_o) #[2,3,3] vs [4,3,3]\n",
    "\n",
    "    return rot_scale_mat"
   ]
  },
  {
   "cell_type": "code",
   "execution_count": 27,
   "metadata": {},
   "outputs": [],
   "source": [
    "def shift_matrix(x, y):\n",
    "    z = x * 0\n",
    "    o = z + 1\n",
    "    mat = tf.stack([o, z, x, z, o, y], -1)\n",
    "    row = tf.stack([z, z, z+1], -1)\n",
    "    mat = tf.concat((mat, row), -1)\n",
    "    mat = tf.reshape(mat, [-1, 3, 3])\n",
    "    return mat\n",
    "\n",
    "def scale_matrix(x, y):\n",
    "    z = x * 0\n",
    "    mat = tf.stack([x, z, z, z, y, z], -1)\n",
    "    row = tf.stack([z, z, z + 1], -1)\n",
    "    mat = tf.concat((mat, row), -1)\n",
    "    mat = tf.reshape(mat, [-1, 3, 3])\n",
    "    return mat\n",
    "\n",
    "def rotate_matrix(radian):\n",
    "    c = tf.math.cos(radian)\n",
    "    s = tf.math.sin(radian)\n",
    "    z = c * 0\n",
    "    mat = tf.stack([c, -s, z, s, c, z], -1)\n",
    "    row = tf.stack([z, z, z + 1], -1)\n",
    "    mat = tf.concat((mat, row), -1)\n",
    "    mat = tf.reshape(mat, [-1, 3, 3])\n",
    "    return mat\n",
    "\n",
    "\n",
    "def shear_x_matrix(radian_x):\n",
    "    x = tf.math.tan(radian_x)\n",
    "    z = x * 0\n",
    "    o = z + 1\n",
    "    mat = tf.stack([o, x, z, z, o, z], -1)\n",
    "    row = tf.stack([z, z, z + 1], -1)\n",
    "    mat = tf.concat((mat, row), -1)\n",
    "    mat = tf.reshape(mat, [-1, 3, 3])\n",
    "    return mat\n",
    "\n",
    "def shear_y_matrix(radian_y):\n",
    "    y = tf.math.tan(radian_y)\n",
    "    z = y * 0\n",
    "    o = z + 1\n",
    "    mat = tf.stack([o, z, z, y, o, z], -1)\n",
    "    row = tf.stack([z, z, z + 1], -1)\n",
    "    mat = tf.concat((mat, row), -1)\n",
    "    mat = tf.reshape(mat, [-1, 3, 3])\n",
    "    return mat\n",
    "\n",
    "def shear_matrix(radian_x, radian_y):\n",
    "    x = tf.math.tan(radian_x)\n",
    "    y = tf.math.tan(radian_y)\n",
    "    z = x * 0\n",
    "    o = z + 1\n",
    "    mat = tf.stack([o, x, z, y, o, z], -1)\n",
    "    row = tf.stack([z, z, z + 1], -1)\n",
    "    mat = tf.concat((mat, row), -1)\n",
    "    mat = tf.reshape(mat, [-1, 3, 3])\n",
    "    return mat\n"
   ]
  },
  {
   "cell_type": "code",
   "execution_count": 28,
   "metadata": {},
   "outputs": [],
   "source": [
    "def affine_grid_generator(height, width, theta):\n",
    "    num_batch = tf.shape(theta)[0]\n",
    "    \n",
    "    x = tf.linspace(-1.0, 1.0, width)\n",
    "    y = tf.linspace(-1.0, 1.0, height)\n",
    "    x_t, y_t = tf.meshgrid(x, y)\n",
    "    x_t_flat = tf.reshape(x_t, [-1])\n",
    "    y_t_flat = tf.reshape(y_t, [-1])\n",
    "\n",
    "    ones = tf.ones_like(x_t_flat)\n",
    "    sampling_grid = tf.stack([x_t_flat, y_t_flat, ones])  # (3, h*w)\n",
    "    sampling_grid = tf.expand_dims(sampling_grid, axis=0)\n",
    "    # sampling_grid = tf.tile(sampling_grid, tf.stack([num_batch, 1, 1]))#(num_batch, 3, h*w)\n",
    "    sampling_grid = tf.tile(sampling_grid, [num_batch, 1, 1])  # (num_batch, 3, h*w)\n",
    "    theta = tf.cast(theta, tf.float32)\n",
    "    sampling_grid = tf.cast(sampling_grid, tf.float32)\n",
    "\n",
    "    batch_grids = tf.matmul(theta, sampling_grid)  # (m, 2, 3)@(m, 3, h*w)=(m,2,h*w)\n",
    "    batch_grids = tf.reshape(batch_grids, [num_batch, 2, height, width])\n",
    "    return batch_grids\n",
    "\n",
    "\n",
    "def get_pixel_value(img, x, y):\n",
    "    # img (m,h,w,c)\n",
    "    # x,y (m,h,w)\n",
    "    shape = tf.shape(x)\n",
    "    m = shape[0]\n",
    "    h = shape[1]\n",
    "    w = shape[2]\n",
    "    batch_idx = tf.range(0, m)\n",
    "    batch_idx = tf.reshape(batch_idx, [m, 1, 1])\n",
    "    b = tf.tile(batch_idx, [1, h, w])\n",
    "\n",
    "    indices = tf.stack([b, y, x], axis=3)  # (m,h,w,3)\n",
    "\n",
    "    return tf.gather_nd(img, indices)\n",
    "\n",
    "\n",
    "def bilinear_sampler(img, batch_grids):\n",
    "    # batch_grids (m, 2, h, w)\n",
    "    # img (m,h,w,c)\n",
    "    uv_x = batch_grids[:, 0]\n",
    "    uv_y = batch_grids[:, 1]\n",
    "    H = tf.shape(img)[1]\n",
    "    W = tf.shape(img)[2]\n",
    "    max_y = tf.cast(H - 1, tf.float32)\n",
    "    max_x = tf.cast(W - 1, tf.float32)\n",
    "    # x [-1, 1]\n",
    "    x = 0.5 * ((uv_x + 1.0) * max_x)\n",
    "    y = 0.5 * ((uv_y + 1.0) * max_y)\n",
    "\n",
    "    # grab 4 nearest corner points for each (x_i, y_i)\n",
    "    x0 = tf.floor(x)  # precision bad?\n",
    "    x1 = x0 + 1\n",
    "    y0 = tf.floor(y)\n",
    "    y1 = y0 + 1\n",
    "\n",
    "    # clip out of boundary index\n",
    "    x0 = tf.clip_by_value(x0, 0, max_x)\n",
    "    x1 = tf.clip_by_value(x1, 0, max_x)\n",
    "    y0 = tf.clip_by_value(y0, 0, max_y)\n",
    "    y1 = tf.clip_by_value(y1, 0, max_y)\n",
    "\n",
    "    # deltas\n",
    "    wa = (x1 - x) * (y1 - y)\n",
    "    wb = (x1 - x) * (y - y0)\n",
    "    wc = (x - x0) * (y1 - y)\n",
    "    wd = (x - x0) * (y - y0)\n",
    "\n",
    "    wa = tf.expand_dims(wa, -1)\n",
    "    wb = tf.expand_dims(wb, -1)\n",
    "    wc = tf.expand_dims(wc, -1)\n",
    "    wd = tf.expand_dims(wd, -1)\n",
    "\n",
    "    x0 = tf.cast(x0, tf.int32)\n",
    "    x1 = tf.cast(x1, tf.int32)\n",
    "    y0 = tf.cast(y0, tf.int32)\n",
    "    y1 = tf.cast(y1, tf.int32)\n",
    "\n",
    "    Ia = get_pixel_value(img, x0, y0)\n",
    "    Ib = get_pixel_value(img, x0, y1)\n",
    "    Ic = get_pixel_value(img, x1, y0)\n",
    "    Id = get_pixel_value(img, x1, y1)\n",
    "\n",
    "    out = tf.add_n([wa*Ia, wb*Ib, wc*Ic, wd*Id])\n",
    "    #out = wa * Ia + wb * Ib + wc * Ic + wd * Id\n",
    "\n",
    "    return out\n",
    "\n",
    "\n",
    "def sampling(net, theta, dst_h, dst_w):\n",
    "    theta = tf.reshape(theta, [-1, 2, 3])\n",
    "    #h = tf.shape(net)[1]\n",
    "    #w = tf.shape(net)[2]\n",
    "    batch_grids = affine_grid_generator(dst_h, dst_w, theta)\n",
    "    out = bilinear_sampler(net, batch_grids)\n",
    "    return out"
   ]
  },
  {
   "cell_type": "code",
   "execution_count": 29,
   "metadata": {},
   "outputs": [],
   "source": [
    "def get_box_center_and_size(bbox):\n",
    "    x0, y0, x1, y1 = tf.split(bbox, 4, -1)\n",
    "    w = x1 - x0\n",
    "    h = y1 - y0\n",
    "    cx = (x1 + x0) / 2\n",
    "    cy = (y1 + y0) / 2\n",
    "    return cx, cy, w, h"
   ]
  },
  {
   "cell_type": "code",
   "execution_count": 30,
   "metadata": {
    "scrolled": true
   },
   "outputs": [
    {
     "data": {
      "text/plain": [
       "(TensorShape([10, 220, 1040, 3]),\n",
       " TensorShape([10, 36]),\n",
       " <tf.Tensor: shape=(36,), dtype=float64, numpy=\n",
       " array([ 0.253,  0.255,  0.752,  0.255,  0.752,  0.75 ,  0.253,  0.75 ,\n",
       "         1.   ,  4.   ,  9.   , 62.   ,  4.   ,  9.   ,  9.   ,  4.   ,\n",
       "        -1.   , -1.   ,  0.323,  0.5  ,  0.379,  0.5  ,  0.446,  0.473,\n",
       "         0.529,  0.5  ,  0.585,  0.5  ,  0.639,  0.5  ,  0.695,  0.5  ,\n",
       "         0.   ,  0.   ,  0.   ,  0.   ])>)"
      ]
     },
     "execution_count": 30,
     "metadata": {},
     "output_type": "execute_result"
    }
   ],
   "source": [
    "X = tf.constant(x_list)\n",
    "X = tf.cast(X, tf.float32)\n",
    "Y = tf.constant(y_list)\n",
    "X.shape, Y.shape, Y[0]"
   ]
  },
  {
   "cell_type": "code",
   "execution_count": 31,
   "metadata": {},
   "outputs": [],
   "source": [
    "def get_theta_from_coords(coords):\n",
    "    x0 = coords[:, 0, 0]\n",
    "    y0 = coords[:, 0, 1]\n",
    "    x1 = coords[:, 1, 0]\n",
    "    y1 = coords[:, 1, 1]\n",
    "    x2 = coords[:, 2, 0]\n",
    "    y2 = coords[:, 2, 1]\n",
    "    x3 = coords[:, 3, 0]\n",
    "    y3 = coords[:, 3, 1]\n",
    "        \n",
    "    tx = (x0 + x1 + x2 + x3)/4\n",
    "    ty = (y0 + y1 + y2 + y3)/4\n",
    "    #scale_x = ((x1 - x0) + (x2 - x3))/2    \n",
    "    #scale_y = ((y3 - y0) + (y2 - y1))/2\n",
    "    shear_x = -((x0 - x3) / (y0 - y3) + (x1 - x2) / (y1 - y2)) / 2\n",
    "    shear_y = -((y1 - y0) / (x1 - x0) + (y2 - y3) / (x2 - x3)) / 2\n",
    "    shear_x = tf.math.atan(shear_x)\n",
    "    shear_y = tf.math.atan(shear_y)\n",
    "    \n",
    "    x_min = tf.reduce_min(coords[:, :, 0], 1)\n",
    "    x_max = tf.reduce_max(coords[:, :, 0], 1)\n",
    "    y_min = tf.reduce_min(coords[:, :, 1], 1)\n",
    "    y_max = tf.reduce_max(coords[:, :, 1], 1)\n",
    "    w = x_max - x_min\n",
    "    h = y_max - y_min\n",
    "    scale_x = w/2\n",
    "    scale_y = h/2\n",
    "    \n",
    "    return tx, ty, scale_x, scale_y, shear_x, shear_y"
   ]
  },
  {
   "cell_type": "code",
   "execution_count": 32,
   "metadata": {},
   "outputs": [],
   "source": [
    "def generate_transform_matrix(tx, ty, sx, sy, shear_x, shear_y):    \n",
    "    shift_mat = shift_matrix(tx, ty)\n",
    "    scale_mat = scale_matrix(sx, sy)    \n",
    "    \n",
    "    w = sx * 2\n",
    "    h = sy * 2\n",
    "    align_scale_mat = get_align_scale_matrix(shear_x, shear_y, w, h)    \n",
    "    tm = tf.matmul(shift_mat, align_scale_mat)\n",
    "    tm = tf.matmul(tm, scale_mat)\n",
    "    return tm"
   ]
  },
  {
   "cell_type": "code",
   "execution_count": 33,
   "metadata": {},
   "outputs": [],
   "source": [
    "def get_align_matrix(vertices_uv):\n",
    "    cx, cy, sx, sy, shear_x, shear_y = get_theta_from_coords(vertices_uv)        \n",
    "    transform_mat = generate_transform_matrix(cx, cy, sx, sy, shear_x, shear_y)\n",
    "    return transform_mat"
   ]
  },
  {
   "cell_type": "code",
   "execution_count": 34,
   "metadata": {},
   "outputs": [
    {
     "data": {
      "text/plain": [
       "TensorShape([10, 3, 3])"
      ]
     },
     "execution_count": 34,
     "metadata": {},
     "output_type": "execute_result"
    }
   ],
   "source": [
    "vertices = Y[:, :8]\n",
    "plate_type = Y[:, 8]\n",
    "plate_text = Y[:, 9:9 + max_sequence]\n",
    "char_cxy = Y[:, 9 + max_sequence:9 + max_sequence + max_sequence*2]\n",
    "\n",
    "vertices = tf.reshape(vertices, [-1, 4, 2])\n",
    "char_cxy = tf.reshape(char_cxy, [-1, max_sequence, 2])\n",
    "vertices_uv = convert_norm_to_uv(vertices)\n",
    "char_cxy_uv = convert_norm_to_uv(char_cxy)\n",
    "transform_mat = get_align_matrix(vertices_uv)\n",
    "transform_mat.shape"
   ]
  },
  {
   "cell_type": "code",
   "execution_count": 35,
   "metadata": {},
   "outputs": [
    {
     "data": {
      "text/plain": [
       "TensorShape([10, 500, 500, 3])"
      ]
     },
     "execution_count": 35,
     "metadata": {},
     "output_type": "execute_result"
    }
   ],
   "source": [
    "x_sampled = sampling(X, transform_mat[:, :2], 500, 500)\n",
    "x_sampled.shape"
   ]
  },
  {
   "cell_type": "code",
   "execution_count": 36,
   "metadata": {},
   "outputs": [],
   "source": [
    "transformed_vertices_uv = transform_uv(vertices_uv, transform_mat)\n",
    "#transformed_vertices_uv.shape, transformed_vertices_uv#np.sum(np.abs(transformed_vertices_uv.numpy())-1)"
   ]
  },
  {
   "cell_type": "code",
   "execution_count": 37,
   "metadata": {},
   "outputs": [
    {
     "data": {
      "text/plain": [
       "TensorShape([10, 9, 2])"
      ]
     },
     "execution_count": 37,
     "metadata": {},
     "output_type": "execute_result"
    }
   ],
   "source": [
    "transformed_char_cxy_uv = transform_uv(char_cxy_uv, transform_mat)\n",
    "transformed_char_cxy_uv.shape#, transformed_char_cxy_uv"
   ]
  },
  {
   "cell_type": "code",
   "execution_count": 38,
   "metadata": {},
   "outputs": [
    {
     "data": {
      "text/plain": [
       "(10, 500, 500, 3)"
      ]
     },
     "execution_count": 38,
     "metadata": {},
     "output_type": "execute_result"
    }
   ],
   "source": [
    "x_sampled_img = x_sampled.numpy().astype(np.uint8)\n",
    "x_sampled_img.shape"
   ]
  },
  {
   "cell_type": "code",
   "execution_count": 39,
   "metadata": {},
   "outputs": [
    {
     "data": {
      "text/plain": [
       "<matplotlib.image.AxesImage at 0x7fa2d05d3130>"
      ]
     },
     "execution_count": 39,
     "metadata": {},
     "output_type": "execute_result"
    },
    {
     "data": {
      "image/png": "[encoded data removed]",
      "text/plain": [
       "<Figure size 1080x720 with 1 Axes>"
      ]
     },
     "metadata": {
      "needs_background": "light"
     },
     "output_type": "display_data"
    }
   ],
   "source": [
    "x_sample_concat = np.concatenate((x_sampled_img[:10]), axis=1)\n",
    "plt.figure(figsize=(15,10))\n",
    "plt.imshow(x_sample_concat)"
   ]
  },
  {
   "cell_type": "code",
   "execution_count": 40,
   "metadata": {
    "scrolled": false
   },
   "outputs": [
    {
     "data": {
      "image/png": "[encoded data removed]",
      "text/plain": [
       "<Figure size 864x864 with 1 Axes>"
      ]
     },
     "metadata": {
      "needs_background": "light"
     },
     "output_type": "display_data"
    }
   ],
   "source": [
    "ax = visualize_plate(x_list[0], y_list[0])"
   ]
  },
  {
   "cell_type": "code",
   "execution_count": 212,
   "metadata": {},
   "outputs": [],
   "source": [
    "def preprocess_data(X, label):\n",
    "    \n",
    "    label = tf.expand_dims(label, 0)\n",
    "    X = tf.expand_dims(X, 0)\n",
    "    vertices = label[:, :8]\n",
    "    plate_type = label[:, 8]\n",
    "    plate_text = label[:, 9:9 + max_sequence]\n",
    "    char_cxy = label[:, 9 + max_sequence:9 + max_sequence + max_sequence*2]\n",
    "\n",
    "    vertices = tf.reshape(vertices, [-1, 4, 2])\n",
    "    char_cxy = tf.reshape(char_cxy, [-1, max_sequence, 2])\n",
    "    vertices_uv = convert_norm_to_uv(vertices)\n",
    "    char_cxy_uv = convert_norm_to_uv(char_cxy)\n",
    "    transform_mat = get_align_matrix(vertices_uv)\n",
    "    \n",
    "    X = tf.cast(X, tf.float32)\n",
    "    x_sampled = sampling(X, transform_mat[:, :2], padded_image_shape[0], padded_image_shape[1])\n",
    "    transformed_vertices_uv = transform_uv(vertices_uv, transform_mat)\n",
    "    transformed_char_cxy_uv = transform_uv(char_cxy_uv, transform_mat)\n",
    "    #image = tf.image.resize(image, padded_image_shape)    \n",
    "    \n",
    "    return x_sampled, plate_text, transformed_char_cxy_uv"
   ]
  },
  {
   "cell_type": "code",
   "execution_count": 213,
   "metadata": {},
   "outputs": [],
   "source": [
    "class LabelEncoder:\n",
    "    \n",
    "    def __init__(self):\n",
    "        pass    \n",
    "    \n",
    "    def _encode_sample(self, image_shape, gt_text, gt_cxy_uv):\n",
    "        \n",
    "        gt_cxy_uv_flat = tf.reshape(gt_cxy_uv, [-1])\n",
    "        label = tf.concat([gt_text, gt_cxy_uv_flat], axis=-1)        \n",
    "        return label\n",
    "    \n",
    "    def encode_batch(self, batch_images, gt_text, gt_cxy_uv):\n",
    "        \n",
    "        images_shape = tf.shape(batch_images)\n",
    "        batch_size = images_shape[0]        \n",
    "                            \n",
    "        labels = tf.TensorArray(dtype=tf.float32, size=batch_size, dynamic_size=True)\n",
    "        for i in range(batch_size):\n",
    "            label = self._encode_sample(images_shape, gt_text[i], gt_cxy_uv[i])\n",
    "            labels = labels.write(i, label)\n",
    "        \n",
    "        batch_images = tf.cast(batch_images, tf.float32)\n",
    "        label = labels.stack()\n",
    "        return batch_images, label\n",
    "      \n",
    "        "
   ]
  },
  {
   "cell_type": "code",
   "execution_count": 202,
   "metadata": {},
   "outputs": [],
   "source": [
    "from tensorflow import Tensor\n",
    "from tensorflow.keras.layers import Input, Conv2D, ReLU, BatchNormalization,\\\n",
    "                                    Add, AveragePooling2D, Flatten, Dense, MaxPool2D\n",
    "from tensorflow.keras.models import Model"
   ]
  },
  {
   "cell_type": "code",
   "execution_count": 194,
   "metadata": {},
   "outputs": [],
   "source": [
    "regulizer = tf.keras.regularizers.L2(l1)\n",
    "\n",
    "def residual_block(x: Tensor, downsample: bool, filters: int, kernel_size: int = 3) -> Tensor:\n",
    "    y = Conv2D(kernel_size=kernel_size,\n",
    "               strides= (1 if not downsample else 2),\n",
    "               filters=filters, \n",
    "               activation=activation,\n",
    "               padding=\"same\",\n",
    "               kernel_initializer=kernel_init,\n",
    "               kernel_regularizer=regulizer)(x)    \n",
    "    y = Conv2D(kernel_size=kernel_size,\n",
    "               strides=1,\n",
    "               filters=filters,\n",
    "               padding=\"same\",\n",
    "               kernel_initializer=kernel_init,\n",
    "               kernel_regularizer=regulizer)(y)   \n",
    "    \n",
    "    if downsample:\n",
    "        x = Conv2D(kernel_size=3,\n",
    "                   strides=2,\n",
    "                   filters=filters,\n",
    "                   activation=activation,\n",
    "                   padding=\"same\",\n",
    "                   kernel_regularizer=regulizer)(x)\n",
    "    out = Add()([x, y])\n",
    "    out = ReLU()(out)\n",
    "    return out\n",
    "\n",
    "def create_resnet_backbone(inputs):\n",
    "    \n",
    "    #inputs = Input(shape=(None, None, 3))    \n",
    "    num_filters = 64\n",
    "    \n",
    "    #t = BatchNormalization()(inputs)    \n",
    "    t = Conv2D(kernel_size=7,\n",
    "               strides=2,\n",
    "               filters=num_filters,\n",
    "               activation=activation,\n",
    "               padding=\"same\",\n",
    "               kernel_initializer=kernel_init,\n",
    "               kernel_regularizer=regulizer, \n",
    "               name='conv_0')(inputs)\n",
    "    t = MaxPool2D(pool_size=(3, 3), strides=(2, 2), padding='same')(t)\n",
    "    \n",
    "    num_blocks_list = [2, 2, 2, 2]#resnet-18\n",
    "    t_list = []\n",
    "    for i in range(len(num_blocks_list)):\n",
    "        num_blocks = num_blocks_list[i]\n",
    "        for j in range(num_blocks):\n",
    "            t = residual_block(t, downsample=(j==0 and i!=0), filters=num_filters)\n",
    "        if i>=1:\n",
    "            t_list.append(t)\n",
    "        num_filters *= 2\n",
    "    \n",
    "        \n",
    "    return t"
   ]
  },
  {
   "cell_type": "code",
   "execution_count": 45,
   "metadata": {},
   "outputs": [],
   "source": [
    "def position_encoding(max_sequence, seq, dimension_model):\n",
    "\n",
    "    if max_sequence % 2 == 1:\n",
    "        max_sequence += 1\n",
    "\n",
    "    pos = tf.range(max_sequence, dtype=tf.float32)\n",
    "    pos = tf.reshape(pos, [max_sequence, 1])\n",
    "    theta = pos/tf.pow(10000.0, tf.range(dimension_model, dtype=tf.float32)/dimension_model)\n",
    "    emb_even = tf.sin(theta)[:, ::2]\n",
    "    emb_odd = tf.cos(theta)[:, 1::2]\n",
    "    emb_even_odd = tf.stack((emb_even, emb_odd), axis=-1)\n",
    "    emb_even_odd = tf.reshape(emb_even_odd, [max_sequence, dimension_model])\n",
    "    emb = tf.expand_dims(emb_even_odd[:seq], 0)\n",
    "    return emb"
   ]
  },
  {
   "cell_type": "code",
   "execution_count": 46,
   "metadata": {},
   "outputs": [],
   "source": [
    "def masked_multi_head_attention(layers, y, num_units, s, head=head_n):\n",
    "    '''\n",
    "    :param y: (m, s, c) > padding >(m, S, c)\n",
    "    :param x: == y\n",
    "    :param num_units: 256\n",
    "    :param head: 4\n",
    "    :return: (m, s, c)\n",
    "    '''\n",
    "\n",
    "    z_expand = tf.expand_dims(y, axis=1)\n",
    "    one = tf.ones_like(z_expand[:1, :, :, 0], dtype=tf.float32)\n",
    "    one = tf.tile(one, [1, s, 1])\n",
    "    #triangle_mask = tf.linalg.LinearOperatorLowerTriangular(one).to_dense()#disable on .pb?    \n",
    "    hot = tf.one_hot(tf.range(s, dtype=tf.int64), s)#(s, s)\n",
    "    acumulate_hot = []\n",
    "    for i in range(s):\n",
    "        row = hot[i]\n",
    "        for j in range(i):\n",
    "            row += hot[j]\n",
    "        \n",
    "        acumulate_hot.append(row)\n",
    "    \n",
    "    triangle_mask = tf.stack(acumulate_hot, axis=0)\n",
    "    triangle_mask = tf.cast(triangle_mask, tf.float32)            \n",
    "        \n",
    "    QKV = layers[0](z_expand)\n",
    "    #QKV = slim.fully_connected(z_expand, 3 * num_units, activation_fn=None, scope='fc_query_key_value')\n",
    "    QKV = tf.tile(QKV, [1, s, 1, 1])\n",
    "    QKV = tf.reshape(QKV, [-1, s, 3 * num_units])\n",
    "\n",
    "    query, key, value = tf.split(QKV, 3, -1, name='masked_split')\n",
    "\n",
    "    Q = tf.concat(tf.split(query, head, axis=-1), 0)\n",
    "    K = tf.concat(tf.split(key, head, axis=-1), 0)\n",
    "    V = tf.concat(tf.split(value, head, axis=-1), 0)\n",
    "\n",
    "    relevant_score = tf.matmul(Q, tf.transpose(K, [0, 2, 1])) / np.sqrt(num_units)  # (m, q_s, c) * (m, c, k_s) = (m, q_s, k_s)\n",
    "    \n",
    "    relevant_score = tf.cast(relevant_score, tf.float32)\n",
    "    triangle_mask = tf.cast(triangle_mask, tf.float32)\n",
    "    relevant_score += -10000.0 * (1.0 - triangle_mask)        \n",
    "    \n",
    "    attention = tf.nn.softmax(relevant_score, axis=-1)\n",
    "    context = tf.matmul(attention, V)\n",
    "\n",
    "    attention_list = tf.split(attention, head, axis=0)\n",
    "    context_list = tf.split(context, head, axis=0)\n",
    "\n",
    "    attention = tf.reduce_mean(attention_list, axis=0)\n",
    "\n",
    "    context = tf.concat(context_list, axis=-1)\n",
    "    context_4d = tf.reshape(context, [-1, s, s, num_units])\n",
    "    eye = tf.eye(s, s)\n",
    "    eye = tf.reshape(eye, [1, s, s, 1])\n",
    "    context = tf.reduce_sum(eye * context_4d, axis=2)\n",
    "\n",
    "    #context = slim.fully_connected(context, num_units, activation_fn=None, scope='Linear')    \n",
    "    context = layers[1](context)\n",
    "    return context, attention\n"
   ]
  },
  {
   "cell_type": "code",
   "execution_count": 47,
   "metadata": {},
   "outputs": [],
   "source": [
    "def scale_dot_product_2d(query, key, value, s, h, w, num_units):\n",
    "    print(s, 'Q', query.shape, 'K', key.shape, 'V', value.shape)\n",
    "    #Q (None, 1, 32) K (None, 4, 12, 32) V (None, 4, 12, 32)\n",
    "    #m = tf.shape(query)[0]    \n",
    "    hw = h * w\n",
    "    c = num_units\n",
    "    #relevant_score = tf.einsum('msc,mhwc->mhws', query, key) / np.sqrt(num_units)\n",
    "    query = tf.reshape(query, [-1, s, c])\n",
    "    query_trans = tf.transpose(query, [0, 2, 1])\n",
    "    key = tf.reshape(key, [-1, hw, c])\n",
    "    relevant_score = tf.matmul(key, query_trans) / np.sqrt(num_units)\n",
    "    \n",
    "    relevant_score_flat = tf.reshape(relevant_score, [-1, hw, s])#err\n",
    "    alignment_weights = tf.nn.softmax(relevant_score_flat, axis=1)\n",
    "\n",
    "    #alignment_prob = tf.reshape(alignment_weights, tf.shape(relevant_score))\n",
    "    alignment_prob = tf.reshape(alignment_weights, (-1, hw, s))\n",
    "    value = tf.reshape(value, (-1, hw, c))\n",
    "\n",
    "    #context = tf.einsum('mhws,mhwc->msc', alignment_prob, value)\n",
    "    alignment_prob = tf.transpose(alignment_prob, [0, 2, 1])#(mhws) > (m, s, hw)\n",
    "    #value = tf.transpose(value, [0, 2, 1])#(m,hw,c) > (m, c, hw)\n",
    "    context = tf.matmul(alignment_prob, value, name='context_matmul')\n",
    "\n",
    "    return context, alignment_prob"
   ]
  },
  {
   "cell_type": "code",
   "execution_count": 48,
   "metadata": {},
   "outputs": [],
   "source": [
    "def multi_head_attention_qkv(layers, y, x, h, w, num_units, s, head=head_n):\n",
    "    num_head_unit = num_units // head\n",
    "    #query = slim.fully_connected(y, num_units, activation_fn=None, scope='query')\n",
    "        \n",
    "    #key_value = slim.conv2d(x, num_units * 2, kernel_size=[3, 3], scope='key_value')\n",
    "    \n",
    "    key = layers[0](x)\n",
    "    value = layers[1](x)\n",
    "    #key_value = slim.fully_connected(x, num_units * 2, activation_fn=None, scope='key_value')\n",
    "    #key, value = tf.split(key_value, 2, -1)\n",
    "    query = y\n",
    "    Q = tf.concat(tf.split(query, head, axis=-1), 0)\n",
    "    K = tf.concat(tf.split(key, head, axis=-1), 0)\n",
    "    V = tf.concat(tf.split(value, head, axis=-1), 0)\n",
    "\n",
    "    context, attention = scale_dot_product_2d(Q, K, V, s, h, w, num_head_unit)  # (m * head, s, c)\n",
    "\n",
    "    attention_head = tf.split(attention, head, axis=0)\n",
    "    attention_head = tf.stack(attention_head, axis=0)\n",
    "    attention = tf.reduce_mean(attention_head, axis=0)\n",
    "    attention = tf.reshape(attention, [-1, s, h, w])\n",
    "    \n",
    "    context_list = tf.split(context, head, axis=0)\n",
    "    context = tf.concat(context_list, axis=-1)\n",
    "    #context = tf.cond(tf.logical_and(env.is_ensemble_multi_head, is_train), lambda: dropout_sub_head(context_list, head), lambda: tf.concat(context_list, axis=-1))\n",
    "    #context = slim.fully_connected(context, num_units, activation_fn=None, scope='linear')\n",
    "\n",
    "    return context, attention"
   ]
  },
  {
   "cell_type": "code",
   "execution_count": 49,
   "metadata": {},
   "outputs": [],
   "source": [
    "def attention_layer(layers, z, nets, h, w, s, num_units):\n",
    "    #z (m, S, num_units)\n",
    "    #x (m, h, w, ch)\n",
    "\n",
    "    sub_z, attention_weight = masked_multi_head_attention(layers[:2], z, num_units, s)\n",
    "    #z = layer_normalize(z + slim.dropout(sub_z, keep_prob=env.drop_prob_transformer, is_training=is_train))\n",
    "\n",
    "    sub_z, attention = multi_head_attention_qkv(layers[2:], z, nets, h, w, num_units, s)\n",
    "    #z = layer_normalize(z + slim.dropout(sub_z, keep_prob=env.drop_prob_transformer, is_training=is_train))\n",
    "\n",
    "    #sub_z = position_wise_feed_forward(z, num_units)\n",
    "    #z = layer_normalize(z + slim.dropout(sub_z, keep_prob=env.drop_prob_transformer, is_training=is_train))\n",
    "    \n",
    "    return sub_z, attention"
   ]
  },
  {
   "cell_type": "code",
   "execution_count": 50,
   "metadata": {},
   "outputs": [],
   "source": [
    "def convert_net_to_score(net, embedding_w):\n",
    "    embedding_w_trans = tf.transpose(embedding_w)\n",
    "    score = tf.einsum('nsc,cv->nsv', net, embedding_w_trans)\n",
    "    return score"
   ]
  },
  {
   "cell_type": "code",
   "execution_count": 51,
   "metadata": {},
   "outputs": [],
   "source": [
    "def decodeNet(net, num_units, h, w):    \n",
    "    #embedding = keras.layers.Embedding(input_dim=num_classes, output_dim=num_units, name='embedding')    \n",
    "    embedding = Dense(num_units, use_bias=False, name='dense_embedding')\n",
    "    y_symbol = tf.zeros_like(net[:, 0, 0, :1], dtype=tf.int32) + SOS\n",
    "    \n",
    "    dense_0 = Dense(3 * num_units, name='masked_Dense_0')\n",
    "    dense_1 = Dense(num_units, name='masked_Dense_1')\n",
    "    dense_2 = Dense(num_classes, name='dense_to_score')\n",
    "    conv_0 = Conv2D(num_units, 3, padding='same', name='key')\n",
    "    conv_1 = Conv2D(num_units, 3, padding='same', name='value')\n",
    "    layers = [dense_0, dense_1, conv_0, conv_1]\n",
    "    values = []\n",
    "    for i in range(max_sequence):\n",
    "        #z = tf.einsum('msv,vc->msc', y_symbol, embedding_w)\n",
    "        y_symbol_hot = tf.one_hot(y_symbol, num_classes)\n",
    "        z = embedding(y_symbol_hot)\n",
    "        #print('embedding_in', i, y_symbol)#(None, 1, 118)\n",
    "        #print('embedding_out', i, z)#(None, 1, 256)\n",
    "        \n",
    "        z = z * (num_units ** 0.5) + position_encoding(max_sequence + 1, i + 1, num_units)\n",
    "        #z = slim.dropout(z, keep_prob=env.drop_prob_transformer, is_training=is_train)\n",
    "                \n",
    "        z, attention = attention_layer(layers, z, net, h, w, i+1, num_units)\n",
    "        print('attention',i, attention)\n",
    "        #value = convert_net_to_score(z, embedding_w)\n",
    "        value = dense_2(z)\n",
    "        last_value = value[:, -1:]\n",
    "        values.append(last_value)\n",
    "        \n",
    "        #y_symbol = tf.concat((y_symbol, tf.nn.softmax(last_value)), axis=1)\n",
    "        last_cls = tf.argmax(last_value, -1)\n",
    "        last_cls = tf.cast(last_cls, tf.int32)\n",
    "        y_symbol = tf.concat((y_symbol, last_cls), axis=1)    \n",
    "        y_symbol = tf.minimum(y_symbol, num_classes-1)    \n",
    "    \n",
    "    value_stack = tf.stack(values, axis=-2)\n",
    "    return value_stack, attention"
   ]
  },
  {
   "cell_type": "code",
   "execution_count": 52,
   "metadata": {},
   "outputs": [],
   "source": [
    "def coordinate_map_uv(h, w):\n",
    "    #return (6, 18, 256)\n",
    "    x = tf.range(0.5, w, 1) / tf.cast(w, tf.float32) * 2.0 -1\n",
    "    y = tf.range(0.5, h, 1) / tf.cast(h, tf.float32) * 2.0 -1\n",
    "    X, Y = tf.meshgrid(x, y)\n",
    "    xy = tf.stack((X, Y), -1)\n",
    "    xy = tf.expand_dims(xy, axis=0)   \n",
    "    return xy\n",
    " \n",
    "\n",
    "def convert_attention_to_coord(attention, h, w, attention_threshold=0.0):\n",
    "    if attention_threshold > 0:\n",
    "        attention = attention * tf.cast(attention > attention_threshold, tf.float32)\n",
    "        attention = attention / tf.reduce_sum(attention, [1,2], keep_dims=True)\n",
    "    attention_exp = tf.expand_dims(attention, -1)\n",
    "    coord_map = coordinate_map_uv(h, w)\n",
    "    \n",
    "    #before [?,9,4,12,1] * [1,4,12,1,2]. \n",
    "    #now    [?,9,4,12,1] * [1,1,4,12,2] > [?, 9, 4, 12, 2]\n",
    "    attention_coord = attention_exp * tf.expand_dims(coord_map, 1)  # (?, 6, 18, 6, 2)\n",
    "    char_coord = tf.reduce_sum(attention_coord, [2, 3])  # (?, 6, 2)\n",
    "    return char_coord\n"
   ]
  },
  {
   "cell_type": "code",
   "execution_count": 53,
   "metadata": {},
   "outputs": [],
   "source": [
    "def createModel(num_classes):\n",
    "        \n",
    "    inputs = Input(shape=(padded_image_shape[0], padded_image_shape[1], 3))        \n",
    "    inputs_f = inputs / 255.0    \n",
    "    net = create_resnet_backbone(inputs_f)\n",
    "    print('resnet_out', net.shape)#(None, 4, 12, 512)\n",
    "    resnet_stride = 32\n",
    "    net_h = padded_image_shape[0]//resnet_stride\n",
    "    net_w = padded_image_shape[1]//resnet_stride\n",
    "    print('net_h,net_w',net_h,net_w)\n",
    "    #net = decodeNet(net, 256, net_h, net_w)        \n",
    "    #drop = keras.layers.Dropout(0.1)    \n",
    "    if False:\n",
    "        net = keras.layers.GlobalAveragePooling2D()(net)\n",
    "    else:\n",
    "        scores, attention = decodeNet(net, 256, net_h, net_w)\n",
    "        print('decodeNet_out', net)\n",
    "        print('decodeNet_out', attention)\n",
    "        #net = keras.layers.GlobalAveragePooling1D()(net)\n",
    "    \n",
    "    #scores = Dense(18)(net)        \n",
    "    char_cxy_uv = convert_attention_to_coord(attention, net_h, net_w, 0.00)\n",
    "    print('h_char_cxy_uv', char_cxy_uv)\n",
    "    char_cxy_uv = tf.reshape(char_cxy_uv, [-1, max_sequence, 2])\n",
    "    scores = tf.reshape(scores, [-1, max_sequence, num_classes])\n",
    "    \n",
    "    output = tf.concat((char_cxy_uv, scores), -1)    \n",
    "    model = keras.Model(inputs=inputs, outputs=output)    \n",
    "    return model\n"
   ]
  },
  {
   "cell_type": "code",
   "execution_count": 214,
   "metadata": {},
   "outputs": [],
   "source": [
    "class NetLoss(tf.losses.Loss):\n",
    "    \"\"\"Wrapper to combine both the losses\"\"\"\n",
    "\n",
    "    def __init__(self, num_classes):\n",
    "        super(NetLoss, self).__init__(reduction=\"auto\", name=\"NetLoss\")        \n",
    "        self._num_classes = num_classes\n",
    "        self._gamma = 1\n",
    "\n",
    "    def call(self, y_true, y_pred):\n",
    "        y_text = tf.cast(y_true[:, :max_sequence], tf.int64)\n",
    "        y_char_cxy = y_true[:, max_sequence:]\n",
    "        y_char_cxy = tf.reshape(y_char_cxy, [-1, max_sequence, 2])\n",
    "        \n",
    "        h_char_cxy = y_pred[:, :, :2]\n",
    "        h_text_score = y_pred[:, :, 2:]\n",
    "        \n",
    "        valid_mask_f = tf.cast(y_text > -1, tf.float32)\n",
    "        \n",
    "        y_hot = tf.one_hot(y_text, self._num_classes)\n",
    "        cls_pt = tf.nn.softmax(h_text_score)        \n",
    "        cls_pt = tf.clip_by_value(cls_pt, 1e-7, 1.0 - 1e-7)\n",
    "        loss_cls_p = - tf.pow(1.0 - cls_pt, self._gamma) * y_hot * tf.math.log(cls_pt)\n",
    "        loss_cls_f = - tf.pow(cls_pt, self._gamma) * (1 - y_hot) * tf.math.log(1 - cls_pt)\n",
    "        loss_cls = tf.reduce_sum(loss_cls_p + loss_cls_f, axis=-1)        \n",
    "        \n",
    "        loss_cxy = tf.reduce_sum(tf.square(y_char_cxy - h_char_cxy), -1)\n",
    "        loss = valid_mask_f * (loss_cxy + loss_cls)\n",
    "        return loss"
   ]
  },
  {
   "cell_type": "code",
   "execution_count": 215,
   "metadata": {},
   "outputs": [],
   "source": [
    "def load_weight():   \n",
    "    weights_dir = path_weight\n",
    "    #latest_checkpoint = tf.train.latest_checkpoint(weights_dir)\n",
    "    latest_checkpoint = weights_dir \n",
    "    print('latest_checkpoint', latest_checkpoint)\n",
    "    model.load_weights(weights_dir)"
   ]
  },
  {
   "cell_type": "code",
   "execution_count": 216,
   "metadata": {
    "scrolled": true
   },
   "outputs": [
    {
     "data": {
      "text/plain": [
       "(10, 10, list, (220, 1040, 3), (36,))"
      ]
     },
     "execution_count": 216,
     "metadata": {},
     "output_type": "execute_result"
    }
   ],
   "source": [
    "input_list_train = x_list\n",
    "bbox_list_train = y_list\n",
    "len(input_list_train), len(bbox_list_train), type(input_list_train),input_list_train[0].shape, bbox_list_train[0].shape"
   ]
  },
  {
   "cell_type": "code",
   "execution_count": 217,
   "metadata": {},
   "outputs": [],
   "source": [
    "label_encoder = LabelEncoder()"
   ]
  },
  {
   "cell_type": "code",
   "execution_count": 218,
   "metadata": {},
   "outputs": [],
   "source": [
    "def accuracy(y_true, y_pred):    \n",
    "    y_text = tf.cast(y_true[:, :max_sequence], tf.int64)\n",
    "    y_char_cxy = y_true[:, max_sequence:]\n",
    "    y_char_cxy = tf.reshape(y_char_cxy, [-1, max_sequence, 2])\n",
    "\n",
    "    h_char_cxy = y_pred[:, :, :2]\n",
    "    h_text_score = y_pred[:, :, 2:]\n",
    "    h_text = tf.argmax(h_text_score, -1)\n",
    "\n",
    "    valid_mask = y_text > -1    \n",
    "    \n",
    "    acc = tf.boolean_mask(tf.equal(y_text, h_text), valid_mask)    \n",
    "    return acc\n",
    "\n",
    "def distance(y_true, y_pred):    \n",
    "    y_text = tf.cast(y_true[:, :max_sequence], tf.int64)\n",
    "    y_char_cxy = y_true[:, max_sequence:]\n",
    "    y_char_cxy = tf.reshape(y_char_cxy, [-1, max_sequence, 2])\n",
    "\n",
    "    h_char_cxy = y_pred[:, :, :2]\n",
    "    h_text_score = y_pred[:, :, 2:]\n",
    "    h_text = tf.argmax(h_text_score, -1)\n",
    "\n",
    "    valid_mask = y_text > -1    \n",
    "    \n",
    "    acc = tf.boolean_mask(tf.abs(y_char_cxy - h_char_cxy), valid_mask)    \n",
    "    return acc"
   ]
  },
  {
   "cell_type": "code",
   "execution_count": 219,
   "metadata": {},
   "outputs": [],
   "source": [
    "def generator():\n",
    "    m = len(input_list_train)\n",
    "    for i in range(m):\n",
    "        x = input_list_train[i:i+1]\n",
    "        y_box = bbox_list_train[i:+1]        \n",
    "        yield (x, y_box)\n",
    "\n",
    "        \n",
    "dataset = tf.data.Dataset.from_generator(\n",
    "    generator, \n",
    "    output_types=(tf.uint8, tf.float32), \n",
    "    output_shapes=(tf.TensorShape([None, None, None, 3]), tf.TensorShape([None, 36])))"
   ]
  },
  {
   "cell_type": "code",
   "execution_count": 220,
   "metadata": {},
   "outputs": [],
   "source": [
    "def generator():\n",
    "    m = len(input_list_train)\n",
    "    for i in range(m):\n",
    "        x = input_list_train[i]\n",
    "        y_box = bbox_list_train[i]        \n",
    "        yield (x, y_box)\n",
    "\n",
    "dataset = tf.data.Dataset.from_generator(\n",
    "    generator, \n",
    "    output_types=(tf.uint8, tf.float32), \n",
    "    output_shapes=(tf.TensorShape([None, None, 3]), tf.TensorShape([36])))"
   ]
  },
  {
   "cell_type": "code",
   "execution_count": 221,
   "metadata": {},
   "outputs": [
    {
     "name": "stdout",
     "output_type": "stream",
     "text": [
      "<FlatMapDataset shapes: ((None, None, 3), (36,)), types: (tf.uint8, tf.float32)>\n",
      "example 2\n",
      "example 2\n",
      "example 2\n",
      "example 2\n",
      "example 2\n",
      "example 2\n",
      "example 2\n",
      "example 2\n",
      "example 2\n",
      "example 2\n"
     ]
    }
   ],
   "source": [
    "np.set_printoptions(precision=2)\n",
    "print(dataset)\n",
    "for example in tfds.as_numpy(dataset):\n",
    "    print('example', len(example))\n",
    "    image = example[0]\n",
    "    bbox = example[1]    \n",
    "    #print(image.dtype, bbox.dtype, image.shape, bbox.shape, bbox[0])\n",
    "    #break"
   ]
  },
  {
   "cell_type": "code",
   "execution_count": 223,
   "metadata": {},
   "outputs": [],
   "source": [
    "batch_size = 1 # 7 OOM-Warn\n",
    "autotune = tf.data.experimental.AUTOTUNE\n",
    "train_dataset = dataset.map(preprocess_data, num_parallel_calls=autotune)\n",
    "#train_dataset = train_dataset.padded_batch(batch_size=batch_size, padding_values=(0.0, 1e-8, -1), drop_remainder=True)\n",
    "train_dataset = train_dataset.map(label_encoder.encode_batch, num_parallel_calls=autotune)\n",
    "train_dataset = train_dataset.apply(tf.data.experimental.ignore_errors())\n",
    "train_dataset = train_dataset.prefetch(autotune)"
   ]
  },
  {
   "cell_type": "code",
   "execution_count": 229,
   "metadata": {},
   "outputs": [
    {
     "name": "stdout",
     "output_type": "stream",
     "text": [
      "resnet_out (None, 4, 12, 512)\n",
      "net_h,net_w 4 12\n",
      "1 Q (None, 1, 32) K (None, 4, 12, 32) V (None, 4, 12, 32)\n",
      "attention 0 Tensor(\"Reshape_1117:0\", shape=(None, 1, 4, 12), dtype=float32)\n",
      "2 Q (None, 2, 32) K (None, 4, 12, 32) V (None, 4, 12, 32)\n",
      "attention 1 Tensor(\"Reshape_1125:0\", shape=(None, 2, 4, 12), dtype=float32)\n",
      "3 Q (None, 3, 32) K (None, 4, 12, 32) V (None, 4, 12, 32)\n",
      "attention 2 Tensor(\"Reshape_1133:0\", shape=(None, 3, 4, 12), dtype=float32)\n",
      "4 Q (None, 4, 32) K (None, 4, 12, 32) V (None, 4, 12, 32)\n",
      "attention 3 Tensor(\"Reshape_1141:0\", shape=(None, 4, 4, 12), dtype=float32)\n",
      "5 Q (None, 5, 32) K (None, 4, 12, 32) V (None, 4, 12, 32)\n",
      "attention 4 Tensor(\"Reshape_1149:0\", shape=(None, 5, 4, 12), dtype=float32)\n",
      "6 Q (None, 6, 32) K (None, 4, 12, 32) V (None, 4, 12, 32)\n",
      "attention 5 Tensor(\"Reshape_1157:0\", shape=(None, 6, 4, 12), dtype=float32)\n",
      "7 Q (None, 7, 32) K (None, 4, 12, 32) V (None, 4, 12, 32)\n",
      "attention 6 Tensor(\"Reshape_1165:0\", shape=(None, 7, 4, 12), dtype=float32)\n",
      "8 Q (None, 8, 32) K (None, 4, 12, 32) V (None, 4, 12, 32)\n",
      "attention 7 Tensor(\"Reshape_1173:0\", shape=(None, 8, 4, 12), dtype=float32)\n",
      "9 Q (None, 9, 32) K (None, 4, 12, 32) V (None, 4, 12, 32)\n",
      "attention 8 Tensor(\"Reshape_1181:0\", shape=(None, 9, 4, 12), dtype=float32)\n",
      "decodeNet_out Tensor(\"re_lu_127/Relu:0\", shape=(None, 4, 12, 512), dtype=float32)\n",
      "decodeNet_out Tensor(\"Reshape_1181:0\", shape=(None, 9, 4, 12), dtype=float32)\n",
      "h_char_cxy_uv Tensor(\"Sum_159:0\", shape=(None, 9, 2), dtype=float32)\n"
     ]
    }
   ],
   "source": [
    "#optimizer = tf.optimizers.SGD(learning_rate=1e-5, clipvalue=10.)#warm up clipvalue=10. !\n",
    "optimizer = tf.optimizers.SGD(learning_rate=1e-3)#, clipvalue=10.\n",
    "loss_fn = NetLoss(num_classes)\n",
    "model = createModel(num_classes)\n",
    "model.compile(loss=loss_fn, optimizer=optimizer, metrics=[distance, accuracy])\n",
    "\n",
    "callbacks_list = [\n",
    "    tf.keras.callbacks.ModelCheckpoint(\n",
    "        filepath=path_weight,\n",
    "        monitor=\"loss\",\n",
    "        save_best_only=False,\n",
    "        save_weights_only=True,\n",
    "        verbose=0,\n",
    "        save_freq=10\n",
    "    )\n",
    "]"
   ]
  },
  {
   "cell_type": "code",
   "execution_count": 230,
   "metadata": {},
   "outputs": [
    {
     "name": "stdout",
     "output_type": "stream",
     "text": [
      "latest_checkpoint model/LPR\n",
      "10\n"
     ]
    }
   ],
   "source": [
    "load_weight()\n",
    "print(len(input_list_train))"
   ]
  },
  {
   "cell_type": "code",
   "execution_count": 234,
   "metadata": {},
   "outputs": [
    {
     "name": "stdout",
     "output_type": "stream",
     "text": [
      "Epoch 1/100\n",
      "10/10 [==============================] - 0s 42ms/step - loss: 3.1541 - distance: 0.2509 - accuracy: 0.3143\n",
      "Epoch 2/100\n",
      "10/10 [==============================] - 0s 38ms/step - loss: 2.9086 - distance: 0.2532 - accuracy: 0.3571\n",
      "Epoch 3/100\n",
      "10/10 [==============================] - 0s 37ms/step - loss: 2.6529 - distance: 0.2561 - accuracy: 0.3714\n",
      "Epoch 4/100\n",
      "10/10 [==============================] - 0s 39ms/step - loss: 2.5609 - distance: 0.2371 - accuracy: 0.4000\n",
      "Epoch 5/100\n",
      "10/10 [==============================] - 0s 39ms/step - loss: 2.7997 - distance: 0.2479 - accuracy: 0.3857\n",
      "Epoch 6/100\n",
      "10/10 [==============================] - 0s 40ms/step - loss: 2.6890 - distance: 0.2360 - accuracy: 0.4286\n",
      "Epoch 7/100\n",
      "10/10 [==============================] - 0s 39ms/step - loss: 2.5191 - distance: 0.2332 - accuracy: 0.4429\n",
      "Epoch 8/100\n",
      "10/10 [==============================] - 0s 37ms/step - loss: 2.6196 - distance: 0.2431 - accuracy: 0.3571\n",
      "Epoch 9/100\n",
      "10/10 [==============================] - 0s 39ms/step - loss: 2.1698 - distance: 0.2418 - accuracy: 0.4286\n",
      "Epoch 10/100\n",
      "10/10 [==============================] - 0s 38ms/step - loss: 2.2074 - distance: 0.2412 - accuracy: 0.4429\n",
      "Epoch 11/100\n",
      "10/10 [==============================] - 0s 39ms/step - loss: 2.2251 - distance: 0.2426 - accuracy: 0.4000\n",
      "Epoch 12/100\n",
      "10/10 [==============================] - 0s 37ms/step - loss: 2.1768 - distance: 0.2397 - accuracy: 0.4857\n",
      "Epoch 13/100\n",
      "10/10 [==============================] - 0s 39ms/step - loss: 2.0997 - distance: 0.2361 - accuracy: 0.4571\n",
      "Epoch 14/100\n",
      "10/10 [==============================] - 0s 38ms/step - loss: 1.9530 - distance: 0.2316 - accuracy: 0.5000\n",
      "Epoch 15/100\n",
      "10/10 [==============================] - 0s 39ms/step - loss: 1.9604 - distance: 0.2323 - accuracy: 0.5286\n",
      "Epoch 16/100\n",
      "10/10 [==============================] - 0s 40ms/step - loss: 1.9761 - distance: 0.2302 - accuracy: 0.5000\n",
      "Epoch 17/100\n",
      "10/10 [==============================] - 0s 39ms/step - loss: 1.9557 - distance: 0.2313 - accuracy: 0.5143\n",
      "Epoch 18/100\n",
      "10/10 [==============================] - 0s 41ms/step - loss: 1.6169 - distance: 0.2425 - accuracy: 0.5857\n",
      "Epoch 19/100\n",
      "10/10 [==============================] - 0s 36ms/step - loss: 1.7782 - distance: 0.2344 - accuracy: 0.5286\n",
      "Epoch 20/100\n",
      "10/10 [==============================] - 0s 38ms/step - loss: 1.6345 - distance: 0.2303 - accuracy: 0.5857\n",
      "Epoch 21/100\n",
      "10/10 [==============================] - 0s 40ms/step - loss: 1.7715 - distance: 0.2325 - accuracy: 0.5857\n",
      "Epoch 22/100\n",
      "10/10 [==============================] - 0s 35ms/step - loss: 1.5867 - distance: 0.2340 - accuracy: 0.5857\n",
      "Epoch 23/100\n",
      "10/10 [==============================] - 0s 38ms/step - loss: 1.5378 - distance: 0.2294 - accuracy: 0.6143\n",
      "Epoch 24/100\n",
      "10/10 [==============================] - 0s 39ms/step - loss: 1.9000 - distance: 0.2373 - accuracy: 0.5571\n",
      "Epoch 25/100\n",
      "10/10 [==============================] - 0s 39ms/step - loss: 1.6747 - distance: 0.2468 - accuracy: 0.6143\n",
      "Epoch 26/100\n",
      "10/10 [==============================] - 0s 40ms/step - loss: 1.5521 - distance: 0.2459 - accuracy: 0.6286\n",
      "Epoch 27/100\n",
      "10/10 [==============================] - 0s 41ms/step - loss: 1.5702 - distance: 0.2490 - accuracy: 0.6714\n",
      "Epoch 28/100\n",
      "10/10 [==============================] - 0s 40ms/step - loss: 1.3818 - distance: 0.2415 - accuracy: 0.7429\n",
      "Epoch 29/100\n",
      "10/10 [==============================] - 0s 39ms/step - loss: 1.3571 - distance: 0.2394 - accuracy: 0.7429\n",
      "Epoch 30/100\n",
      "10/10 [==============================] - 0s 37ms/step - loss: 1.3208 - distance: 0.2463 - accuracy: 0.7571\n",
      "Epoch 31/100\n",
      "10/10 [==============================] - 0s 40ms/step - loss: 1.3305 - distance: 0.2424 - accuracy: 0.7857\n",
      "Epoch 32/100\n",
      "10/10 [==============================] - 0s 37ms/step - loss: 1.2410 - distance: 0.2422 - accuracy: 0.8000\n",
      "Epoch 33/100\n",
      "10/10 [==============================] - 0s 39ms/step - loss: 1.2693 - distance: 0.2434 - accuracy: 0.7571\n",
      "Epoch 34/100\n",
      "10/10 [==============================] - 0s 38ms/step - loss: 1.1987 - distance: 0.2447 - accuracy: 0.7714\n",
      "Epoch 35/100\n",
      "10/10 [==============================] - 0s 37ms/step - loss: 1.1514 - distance: 0.2432 - accuracy: 0.8000\n",
      "Epoch 36/100\n",
      "10/10 [==============================] - 0s 39ms/step - loss: 1.2330 - distance: 0.2430 - accuracy: 0.7286\n",
      "Epoch 37/100\n",
      "10/10 [==============================] - 0s 39ms/step - loss: 1.1162 - distance: 0.2424 - accuracy: 0.8000\n",
      "Epoch 38/100\n",
      "10/10 [==============================] - 0s 40ms/step - loss: 1.0897 - distance: 0.2422 - accuracy: 0.7857\n",
      "Epoch 39/100\n",
      "10/10 [==============================] - 0s 39ms/step - loss: 0.9718 - distance: 0.2438 - accuracy: 0.8429\n",
      "Epoch 40/100\n",
      "10/10 [==============================] - 0s 37ms/step - loss: 1.1661 - distance: 0.2403 - accuracy: 0.7857\n",
      "Epoch 41/100\n",
      "10/10 [==============================] - 0s 38ms/step - loss: 1.0019 - distance: 0.2429 - accuracy: 0.8000\n",
      "Epoch 42/100\n",
      "10/10 [==============================] - 0s 40ms/step - loss: 1.2827 - distance: 0.2426 - accuracy: 0.7571\n",
      "Epoch 43/100\n",
      "10/10 [==============================] - 0s 39ms/step - loss: 1.0864 - distance: 0.2472 - accuracy: 0.7571\n",
      "Epoch 44/100\n",
      "10/10 [==============================] - 0s 38ms/step - loss: 1.0120 - distance: 0.2425 - accuracy: 0.8143\n",
      "Epoch 45/100\n",
      "10/10 [==============================] - 0s 39ms/step - loss: 0.8904 - distance: 0.2411 - accuracy: 0.8286\n",
      "Epoch 46/100\n",
      "10/10 [==============================] - 0s 37ms/step - loss: 1.1175 - distance: 0.2426 - accuracy: 0.8286\n",
      "Epoch 47/100\n",
      "10/10 [==============================] - 0s 38ms/step - loss: 1.1848 - distance: 0.2430 - accuracy: 0.7714\n",
      "Epoch 48/100\n",
      "10/10 [==============================] - 0s 40ms/step - loss: 1.0343 - distance: 0.2392 - accuracy: 0.8429\n",
      "Epoch 49/100\n",
      "10/10 [==============================] - 0s 38ms/step - loss: 0.9979 - distance: 0.2411 - accuracy: 0.8429\n",
      "Epoch 50/100\n",
      "10/10 [==============================] - 0s 40ms/step - loss: 0.8824 - distance: 0.2359 - accuracy: 0.8857\n",
      "Epoch 51/100\n",
      "10/10 [==============================] - 0s 38ms/step - loss: 0.8279 - distance: 0.2319 - accuracy: 0.9000\n",
      "Epoch 52/100\n",
      "10/10 [==============================] - 0s 36ms/step - loss: 0.8733 - distance: 0.2304 - accuracy: 0.9000\n",
      "Epoch 53/100\n",
      "10/10 [==============================] - 0s 39ms/step - loss: 0.8392 - distance: 0.2313 - accuracy: 0.8857\n",
      "Epoch 54/100\n",
      "10/10 [==============================] - 0s 40ms/step - loss: 0.8262 - distance: 0.2347 - accuracy: 0.9143\n",
      "Epoch 55/100\n",
      "10/10 [==============================] - 0s 37ms/step - loss: 0.7626 - distance: 0.2352 - accuracy: 0.9143\n",
      "Epoch 56/100\n",
      "10/10 [==============================] - 0s 44ms/step - loss: 0.7528 - distance: 0.2294 - accuracy: 0.9143\n",
      "Epoch 57/100\n",
      "10/10 [==============================] - 0s 37ms/step - loss: 0.7505 - distance: 0.2358 - accuracy: 0.9000\n",
      "Epoch 58/100\n",
      "10/10 [==============================] - 0s 38ms/step - loss: 0.7587 - distance: 0.2298 - accuracy: 0.9000\n",
      "Epoch 59/100\n",
      "10/10 [==============================] - 0s 37ms/step - loss: 0.7626 - distance: 0.2348 - accuracy: 0.9000\n",
      "Epoch 60/100\n",
      "10/10 [==============================] - 0s 36ms/step - loss: 0.7092 - distance: 0.2333 - accuracy: 0.9286\n",
      "Epoch 61/100\n",
      "10/10 [==============================] - 0s 40ms/step - loss: 0.7181 - distance: 0.2287 - accuracy: 0.9000\n",
      "Epoch 62/100\n",
      "10/10 [==============================] - 0s 38ms/step - loss: 0.7324 - distance: 0.2333 - accuracy: 0.9000\n",
      "Epoch 63/100\n",
      "10/10 [==============================] - 0s 38ms/step - loss: 0.6913 - distance: 0.2317 - accuracy: 0.9286\n",
      "Epoch 64/100\n",
      "10/10 [==============================] - 0s 37ms/step - loss: 0.6917 - distance: 0.2271 - accuracy: 0.9000\n",
      "Epoch 65/100\n",
      "10/10 [==============================] - 0s 38ms/step - loss: 0.7085 - distance: 0.2317 - accuracy: 0.9000\n",
      "Epoch 66/100\n",
      "10/10 [==============================] - 0s 40ms/step - loss: 0.6876 - distance: 0.2265 - accuracy: 0.9143\n",
      "Epoch 67/100\n",
      "10/10 [==============================] - 0s 38ms/step - loss: 0.9228 - distance: 0.2332 - accuracy: 0.8714\n",
      "Epoch 68/100\n",
      "10/10 [==============================] - 0s 37ms/step - loss: 0.7400 - distance: 0.2271 - accuracy: 0.8571\n",
      "Epoch 69/100\n"
     ]
    },
    {
     "name": "stdout",
     "output_type": "stream",
     "text": [
      "10/10 [==============================] - 0s 40ms/step - loss: 0.7074 - distance: 0.2280 - accuracy: 0.9143\n",
      "Epoch 70/100\n",
      "10/10 [==============================] - 0s 38ms/step - loss: 0.6509 - distance: 0.2264 - accuracy: 0.9286\n",
      "Epoch 71/100\n",
      "10/10 [==============================] - 0s 37ms/step - loss: 0.6278 - distance: 0.2268 - accuracy: 0.9571\n",
      "Epoch 72/100\n",
      "10/10 [==============================] - 0s 43ms/step - loss: 0.6153 - distance: 0.2264 - accuracy: 0.9571\n",
      "Epoch 73/100\n",
      "10/10 [==============================] - 0s 40ms/step - loss: 0.6082 - distance: 0.2260 - accuracy: 0.9571\n",
      "Epoch 74/100\n",
      "10/10 [==============================] - 0s 36ms/step - loss: 0.6160 - distance: 0.2247 - accuracy: 0.9571\n",
      "Epoch 75/100\n",
      "10/10 [==============================] - 0s 40ms/step - loss: 0.6087 - distance: 0.2202 - accuracy: 0.9286\n",
      "Epoch 76/100\n",
      "10/10 [==============================] - 0s 39ms/step - loss: 0.9198 - distance: 0.2285 - accuracy: 0.8571\n",
      "Epoch 77/100\n",
      "10/10 [==============================] - 0s 38ms/step - loss: 0.7563 - distance: 0.2243 - accuracy: 0.9000\n",
      "Epoch 78/100\n",
      "10/10 [==============================] - 0s 40ms/step - loss: 0.6582 - distance: 0.2228 - accuracy: 0.9143\n",
      "Epoch 79/100\n",
      "10/10 [==============================] - 0s 40ms/step - loss: 0.6632 - distance: 0.2269 - accuracy: 0.9429\n",
      "Epoch 80/100\n",
      "10/10 [==============================] - 0s 39ms/step - loss: 0.6178 - distance: 0.2219 - accuracy: 0.9571\n",
      "Epoch 81/100\n",
      "10/10 [==============================] - 0s 37ms/step - loss: 0.6065 - distance: 0.2171 - accuracy: 0.9429\n",
      "Epoch 82/100\n",
      "10/10 [==============================] - 0s 42ms/step - loss: 0.6934 - distance: 0.2273 - accuracy: 0.9286\n",
      "Epoch 83/100\n",
      "10/10 [==============================] - 0s 40ms/step - loss: 0.5927 - distance: 0.2208 - accuracy: 0.9429\n",
      "Epoch 84/100\n",
      "10/10 [==============================] - 0s 36ms/step - loss: 0.6955 - distance: 0.2225 - accuracy: 0.9143\n",
      "Epoch 85/100\n",
      "10/10 [==============================] - 0s 37ms/step - loss: 0.6001 - distance: 0.2144 - accuracy: 0.9286\n",
      "Epoch 86/100\n",
      "10/10 [==============================] - 0s 38ms/step - loss: 0.5868 - distance: 0.2156 - accuracy: 0.9571\n",
      "Epoch 87/100\n",
      "10/10 [==============================] - 0s 37ms/step - loss: 0.6750 - distance: 0.2233 - accuracy: 0.9143\n",
      "Epoch 88/100\n",
      "10/10 [==============================] - 0s 39ms/step - loss: 0.5910 - distance: 0.2167 - accuracy: 0.9571\n",
      "Epoch 89/100\n",
      "10/10 [==============================] - 0s 36ms/step - loss: 0.5810 - distance: 0.2131 - accuracy: 0.9429\n",
      "Epoch 90/100\n",
      "10/10 [==============================] - 0s 38ms/step - loss: 0.6492 - distance: 0.2178 - accuracy: 0.9143\n",
      "Epoch 91/100\n",
      "10/10 [==============================] - 0s 38ms/step - loss: 0.6527 - distance: 0.2212 - accuracy: 0.9143\n",
      "Epoch 92/100\n",
      "10/10 [==============================] - 0s 37ms/step - loss: 0.5690 - distance: 0.2115 - accuracy: 0.9429\n",
      "Epoch 93/100\n",
      "10/10 [==============================] - 0s 37ms/step - loss: 0.6124 - distance: 0.2165 - accuracy: 0.9143\n",
      "Epoch 94/100\n",
      "10/10 [==============================] - 0s 40ms/step - loss: 0.6228 - distance: 0.2179 - accuracy: 0.9286\n",
      "Epoch 95/100\n",
      "10/10 [==============================] - 0s 38ms/step - loss: 0.5876 - distance: 0.2136 - accuracy: 0.9571\n",
      "Epoch 96/100\n",
      "10/10 [==============================] - 0s 37ms/step - loss: 0.5679 - distance: 0.2096 - accuracy: 0.9429\n",
      "Epoch 97/100\n",
      "10/10 [==============================] - 0s 38ms/step - loss: 0.5879 - distance: 0.2137 - accuracy: 0.9286\n",
      "Epoch 98/100\n",
      "10/10 [==============================] - 0s 38ms/step - loss: 0.6097 - distance: 0.2171 - accuracy: 0.9429\n",
      "Epoch 99/100\n",
      "10/10 [==============================] - 0s 37ms/step - loss: 0.5758 - distance: 0.2120 - accuracy: 0.9571\n",
      "Epoch 100/100\n",
      "10/10 [==============================] - 0s 38ms/step - loss: 0.5587 - distance: 0.2084 - accuracy: 0.9429\n"
     ]
    }
   ],
   "source": [
    "epochs = 100\n",
    "hist = model.fit(\n",
    "    train_dataset.take(10),\n",
    "    validation_data=None,#val_dataset.take(2)\n",
    "    epochs=epochs, \n",
    "    callbacks=callbacks_list,#callbacks_list\n",
    "    verbose=1,\n",
    ")"
   ]
  },
  {
   "cell_type": "code",
   "execution_count": 235,
   "metadata": {},
   "outputs": [],
   "source": [
    "model.save_weights(path_weight)"
   ]
  },
  {
   "cell_type": "code",
   "execution_count": 236,
   "metadata": {},
   "outputs": [
    {
     "name": "stdout",
     "output_type": "stream",
     "text": [
      "y tf.Tensor([[ 4  9 62  4  9  9  4 -1 -1]], shape=(1, 9), dtype=int64)\n",
      "h tf.Tensor([[ 4  9 62  4  9  4  9  4  9]], shape=(1, 9), dtype=int64)\n",
      "\n",
      "y tf.Tensor([[ 8  7 46  5  2  9  3 -1 -1]], shape=(1, 9), dtype=int64)\n",
      "h tf.Tensor([[ 8  7 46  5  2  9  3  9  3]], shape=(1, 9), dtype=int64)\n",
      "\n",
      "y tf.Tensor([[ 5  2 50  9  4  7  2 -1 -1]], shape=(1, 9), dtype=int64)\n",
      "h tf.Tensor([[ 5  2 50  9  4  7  2  5  2]], shape=(1, 9), dtype=int64)\n",
      "\n",
      "y tf.Tensor([[ 2  0 60  3  5  7  9 -1 -1]], shape=(1, 9), dtype=int64)\n",
      "h tf.Tensor([[2 0 8 3 5 7 9 9 9]], shape=(1, 9), dtype=int64)\n",
      "\n",
      "y tf.Tensor([[ 7  9 57  4  7  8  5 -1 -1]], shape=(1, 9), dtype=int64)\n",
      "h tf.Tensor([[ 7  9 57  4  7  8  5  2  2]], shape=(1, 9), dtype=int64)\n",
      "\n",
      "y tf.Tensor([[ 9  1 46  5  0  1  4 -1 -1]], shape=(1, 9), dtype=int64)\n",
      "h tf.Tensor([[ 9  1 46  5  0  1  4 71  5]], shape=(1, 9), dtype=int64)\n",
      "\n",
      "y tf.Tensor([[ 5  0 59  7  5  0  9 -1 -1]], shape=(1, 9), dtype=int64)\n",
      "h tf.Tensor([[ 5  0 59  7  5  0  9 46 46]], shape=(1, 9), dtype=int64)\n",
      "\n",
      "y tf.Tensor([[ 6  2 50  9  6  7  2 -1 -1]], shape=(1, 9), dtype=int64)\n",
      "h tf.Tensor([[ 6  2 50  9  6  7  2  2  2]], shape=(1, 9), dtype=int64)\n",
      "\n",
      "y tf.Tensor([[ 2  5 54  1  6  9  3 -1 -1]], shape=(1, 9), dtype=int64)\n",
      "h tf.Tensor([[2 5 6 1 3 9 6 1 3]], shape=(1, 9), dtype=int64)\n",
      "\n",
      "y tf.Tensor([[ 2  7 71  1  9  8  4 -1 -1]], shape=(1, 9), dtype=int64)\n",
      "h tf.Tensor([[ 2  7 71  1  9  8  4 71  4]], shape=(1, 9), dtype=int64)\n",
      "\n"
     ]
    }
   ],
   "source": [
    "for image, label in train_dataset: \n",
    "    \n",
    "    y_cls = tf.cast(label[:, :max_sequence], tf.int64)\n",
    "    output = model.predict(image)\n",
    "    cxy = output[:, :, :2]\n",
    "    cls_score = output[:, :, 2:]\n",
    "    cls = tf.argmax(cls_score, -1)    \n",
    "    print('y', y_cls)\n",
    "    print('h', cls)\n",
    "    print('')\n",
    "    #break"
   ]
  },
  {
   "cell_type": "markdown",
   "metadata": {},
   "source": [
    "### tflite"
   ]
  },
  {
   "cell_type": "code",
   "execution_count": 237,
   "metadata": {},
   "outputs": [],
   "source": [
    "saved_model_pb = './LPR_pb'"
   ]
  },
  {
   "cell_type": "code",
   "execution_count": 238,
   "metadata": {
    "scrolled": true
   },
   "outputs": [
    {
     "name": "stdout",
     "output_type": "stream",
     "text": [
      "INFO:tensorflow:Assets written to: ./LPR_pb/assets\n"
     ]
    },
    {
     "name": "stderr",
     "output_type": "stream",
     "text": [
      "INFO:tensorflow:Assets written to: ./LPR_pb/assets\n"
     ]
    }
   ],
   "source": [
    "model.save(saved_model_pb)"
   ]
  },
  {
   "cell_type": "code",
   "execution_count": 240,
   "metadata": {},
   "outputs": [],
   "source": [
    "#custom_objects = {'recall':recall,'precision':precision, 'flip_accuracy':flip_accuracy}\n",
    "custom_objects = {'distance':distance, 'accuracy': accuracy}\n",
    "model_loaded = keras.models.load_model(saved_model_pb, custom_objects=custom_objects, compile=False)"
   ]
  },
  {
   "cell_type": "code",
   "execution_count": 241,
   "metadata": {},
   "outputs": [],
   "source": [
    "model_loaded.compile()"
   ]
  },
  {
   "cell_type": "code",
   "execution_count": 246,
   "metadata": {},
   "outputs": [
    {
     "name": "stdout",
     "output_type": "stream",
     "text": [
      "y tf.Tensor([[ 4  9 62  4  9  9  4 -1 -1]], shape=(1, 9), dtype=int64)\n",
      "h tf.Tensor([[ 4  9 62  4  9  4  9  4  9]], shape=(1, 9), dtype=int64)\n",
      "\n",
      "y tf.Tensor([[ 8  7 46  5  2  9  3 -1 -1]], shape=(1, 9), dtype=int64)\n",
      "h tf.Tensor([[ 8  7 46  5  2  9  3  9  3]], shape=(1, 9), dtype=int64)\n",
      "\n",
      "y tf.Tensor([[ 5  2 50  9  4  7  2 -1 -1]], shape=(1, 9), dtype=int64)\n",
      "h tf.Tensor([[ 5  2 50  9  4  7  2  5  2]], shape=(1, 9), dtype=int64)\n",
      "\n",
      "y tf.Tensor([[ 2  0 60  3  5  7  9 -1 -1]], shape=(1, 9), dtype=int64)\n",
      "h tf.Tensor([[2 0 8 3 5 7 9 9 9]], shape=(1, 9), dtype=int64)\n",
      "\n",
      "y tf.Tensor([[ 7  9 57  4  7  8  5 -1 -1]], shape=(1, 9), dtype=int64)\n",
      "h tf.Tensor([[ 7  9 57  4  7  8  5  2  2]], shape=(1, 9), dtype=int64)\n",
      "\n",
      "y tf.Tensor([[ 9  1 46  5  0  1  4 -1 -1]], shape=(1, 9), dtype=int64)\n",
      "h tf.Tensor([[ 9  1 46  5  0  1  4 71  5]], shape=(1, 9), dtype=int64)\n",
      "\n",
      "y tf.Tensor([[ 5  0 59  7  5  0  9 -1 -1]], shape=(1, 9), dtype=int64)\n",
      "h tf.Tensor([[ 5  0 59  7  5  0  9 46 46]], shape=(1, 9), dtype=int64)\n",
      "\n",
      "y tf.Tensor([[ 6  2 50  9  6  7  2 -1 -1]], shape=(1, 9), dtype=int64)\n",
      "h tf.Tensor([[ 6  2 50  9  6  7  2  2  2]], shape=(1, 9), dtype=int64)\n",
      "\n",
      "y tf.Tensor([[ 2  5 54  1  6  9  3 -1 -1]], shape=(1, 9), dtype=int64)\n",
      "h tf.Tensor([[2 5 6 1 3 9 6 1 3]], shape=(1, 9), dtype=int64)\n",
      "\n",
      "y tf.Tensor([[ 2  7 71  1  9  8  4 -1 -1]], shape=(1, 9), dtype=int64)\n",
      "h tf.Tensor([[ 2  7 71  1  9  8  4 71  4]], shape=(1, 9), dtype=int64)\n",
      "\n"
     ]
    }
   ],
   "source": [
    "for image, label in train_dataset: \n",
    "    y_cls = tf.cast(label[:, :max_sequence], tf.int64)\n",
    "    output = model_loaded.predict(image)\n",
    "    cxy = output[:, :, :2]\n",
    "    cls_score = output[:, :, 2:]\n",
    "    cls = tf.argmax(cls_score, -1)\n",
    "    print('y', y_cls)\n",
    "    print('h', cls)\n",
    "    print('')"
   ]
  },
  {
   "cell_type": "code",
   "execution_count": 247,
   "metadata": {},
   "outputs": [
    {
     "data": {
      "text/plain": [
       "<tensorflow.lite.python.lite.TFLiteConverterV2 at 0x7f9ccc30afd0>"
      ]
     },
     "execution_count": 247,
     "metadata": {},
     "output_type": "execute_result"
    }
   ],
   "source": [
    "converter = tf.lite.TFLiteConverter.from_saved_model(saved_model_pb)\n",
    "converter.optimizations = [tf.lite.Optimize.DEFAULT]\n",
    "converter"
   ]
  },
  {
   "cell_type": "code",
   "execution_count": 248,
   "metadata": {},
   "outputs": [],
   "source": [
    "tflite_model = converter.convert()"
   ]
  },
  {
   "cell_type": "code",
   "execution_count": 249,
   "metadata": {},
   "outputs": [],
   "source": [
    "# Save the TF Lite model.\n",
    "with tf.io.gfile.GFile('model.tflite', 'wb') as f:\n",
    "  f.write(tflite_model)"
   ]
  },
  {
   "cell_type": "code",
   "execution_count": 250,
   "metadata": {},
   "outputs": [
    {
     "name": "stdout",
     "output_type": "stream",
     "text": [
      "model.tflite\r\n"
     ]
    }
   ],
   "source": [
    "!ls *.tflite"
   ]
  },
  {
   "cell_type": "code",
   "execution_count": 251,
   "metadata": {
    "scrolled": true
   },
   "outputs": [
    {
     "name": "stdout",
     "output_type": "stream",
     "text": [
      "INFO:tensorflow:Assets written to: /tmp/tmp7k636kex/assets\n"
     ]
    },
    {
     "name": "stderr",
     "output_type": "stream",
     "text": [
      "INFO:tensorflow:Assets written to: /tmp/tmp7k636kex/assets\n"
     ]
    }
   ],
   "source": [
    "# Convert the model.\n",
    "converter = tf.lite.TFLiteConverter.from_keras_model(model)\n",
    "tflite_model = converter.convert()"
   ]
  },
  {
   "cell_type": "code",
   "execution_count": 269,
   "metadata": {},
   "outputs": [
    {
     "data": {
      "text/plain": [
       "(220, 1040, 3)"
      ]
     },
     "execution_count": 269,
     "metadata": {},
     "output_type": "execute_result"
    }
   ],
   "source": [
    "input_sample = input_list_train[0]\n",
    "input_sample.shape"
   ]
  },
  {
   "cell_type": "code",
   "execution_count": 270,
   "metadata": {},
   "outputs": [
    {
     "data": {
      "image/png": "[encoded data removed]",
      "text/plain": [
       "<PIL.Image.Image image mode=RGB size=530x116 at 0x7F9DB0E1DC40>"
      ]
     },
     "execution_count": 270,
     "metadata": {},
     "output_type": "execute_result"
    }
   ],
   "source": [
    "img = Image.fromarray(input_sample[52:-52,255:-255])\n",
    "img"
   ]
  },
  {
   "cell_type": "code",
   "execution_count": 271,
   "metadata": {},
   "outputs": [
    {
     "data": {
      "image/png": "[encoded data removed]",
      "text/plain": [
       "<PIL.Image.Image image mode=RGB size=384x128 at 0x7F9DB0E14430>"
      ]
     },
     "execution_count": 271,
     "metadata": {},
     "output_type": "execute_result"
    }
   ],
   "source": [
    "img_resized = img.resize((padded_image_shape[1],padded_image_shape[0]))\n",
    "img_resized"
   ]
  },
  {
   "cell_type": "code",
   "execution_count": 272,
   "metadata": {},
   "outputs": [],
   "source": [
    "input_sample = np.expand_dims(np.array(img_resized), 0)"
   ]
  },
  {
   "cell_type": "code",
   "execution_count": 273,
   "metadata": {},
   "outputs": [
    {
     "data": {
      "text/plain": [
       "118"
      ]
     },
     "execution_count": 273,
     "metadata": {},
     "output_type": "execute_result"
    }
   ],
   "source": [
    "num_classes"
   ]
  },
  {
   "cell_type": "code",
   "execution_count": 274,
   "metadata": {},
   "outputs": [
    {
     "data": {
      "text/plain": [
       "((1, 9, 120), array([ 4,  9, 46,  9,  9,  3,  9,  9,  9]))"
      ]
     },
     "execution_count": 274,
     "metadata": {},
     "output_type": "execute_result"
    }
   ],
   "source": [
    "# Load TFLite model and allocate tensors.\n",
    "interpreter = tf.lite.Interpreter(model_content=tflite_model)\n",
    "interpreter.allocate_tensors()\n",
    "\n",
    "# Get input and output tensors.\n",
    "input_details = interpreter.get_input_details()\n",
    "output_details = interpreter.get_output_details()\n",
    "\n",
    "# Test the TensorFlow Lite model on random input data.\n",
    "input_shape = input_details[0]['shape']\n",
    "input_data = np.array(input_sample, dtype=np.float32)\n",
    "interpreter.set_tensor(input_details[0]['index'], input_data)\n",
    "\n",
    "interpreter.invoke()\n",
    "\n",
    "# The function `get_tensor()` returns a copy of the tensor data.\n",
    "# Use `tensor()` in order to get a pointer to the tensor.\n",
    "tflite_results = interpreter.get_tensor(output_details[0]['index'])\n",
    "cls_score = tflite_results[0, :, 2:]\n",
    "cls_arg_max = np.argmax(cls_score, -1)\n",
    "tflite_results.shape, cls_arg_max"
   ]
  },
  {
   "cell_type": "code",
   "execution_count": null,
   "metadata": {},
   "outputs": [],
   "source": []
  }
 ],
 "metadata": {
  "kernelspec": {
   "display_name": "Python 3",
   "language": "python",
   "name": "python3"
  },
  "language_info": {
   "codemirror_mode": {
    "name": "ipython",
    "version": 3
   },
   "file_extension": ".py",
   "mimetype": "text/x-python",
   "name": "python",
   "nbconvert_exporter": "python",
   "pygments_lexer": "ipython3",
   "version": "3.8.3"
  }
 },
 "nbformat": 4,
 "nbformat_minor": 4
}
