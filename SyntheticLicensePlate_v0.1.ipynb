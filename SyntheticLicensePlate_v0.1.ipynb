{
 "cells": [
  {
   "cell_type": "code",
   "execution_count": 1,
   "metadata": {},
   "outputs": [],
   "source": [
    "import os\n",
    "import re\n",
    "import zipfile\n",
    "\n",
    "import numpy as np\n",
    "import matplotlib.pyplot as plt\n",
    "import pandas as pd\n",
    "\n",
    "from PIL import Image\n",
    "import ast\n",
    "import json\n",
    "from glob import glob\n",
    "\n",
    "import tensorflow as tf\n",
    "from tensorflow import keras\n",
    "import tensorflow_datasets as tfds"
   ]
  },
  {
   "cell_type": "code",
   "execution_count": 2,
   "metadata": {},
   "outputs": [],
   "source": [
    "#!pip install tensorflow_datasets"
   ]
  },
  {
   "cell_type": "code",
   "execution_count": 3,
   "metadata": {},
   "outputs": [],
   "source": [
    "#os.environ[\"CUDA_VISIBLE_DEVICES\"] = \"-1\" #CPU"
   ]
  },
  {
   "cell_type": "code",
   "execution_count": 4,
   "metadata": {},
   "outputs": [
    {
     "name": "stdout",
     "output_type": "stream",
     "text": [
      "WARNING:tensorflow:From <ipython-input-4-5405bb3c52bd>:1: is_gpu_available (from tensorflow.python.framework.test_util) is deprecated and will be removed in a future version.\n",
      "Instructions for updating:\n",
      "Use `tf.config.list_physical_devices('GPU')` instead.\n"
     ]
    },
    {
     "data": {
      "text/plain": [
       "('2.3.0', True)"
      ]
     },
     "execution_count": 4,
     "metadata": {},
     "output_type": "execute_result"
    }
   ],
   "source": [
    "tf.__version__, tf.test.is_gpu_available()"
   ]
  },
  {
   "cell_type": "code",
   "execution_count": 5,
   "metadata": {},
   "outputs": [
    {
     "data": {
      "text/plain": [
       "118"
      ]
     },
     "execution_count": 5,
     "metadata": {},
     "output_type": "execute_result"
    }
   ],
   "source": [
    "max_sequence = 9\n",
    "blank_num = -1\n",
    "characters_0 = '0123456789'\n",
    "characters_alphabet = 'ABCDEFGHIJKLMNPQRSTUVWXYZ-'\n",
    "characters_1 = '가나다라마바사아자하거너더러머버서어저허고노도로모보소오조호구누두루무부수우주'\n",
    "characters_1d = 'GNDLMBSOJHgndlmbsojhgNDLMBSOJHGNDLMBSUJ'\n",
    "characters_2 = '대배해제기교표외인천국합육공영준협정울경강원충북운남전산광'\n",
    "characters_2d = 'DBHJGGPYICGHUGYJHJUGKWCBUNJSG'\n",
    "characters_3 = '_       abcd  '\n",
    "plate_characters = characters_0 + characters_alphabet + characters_1 + characters_2 + characters_3\n",
    "num_classes = len(plate_characters)\n",
    "num_classes"
   ]
  },
  {
   "cell_type": "code",
   "execution_count": 199,
   "metadata": {},
   "outputs": [
    {
     "data": {
      "text/plain": [
       "(116, 117)"
      ]
     },
     "execution_count": 199,
     "metadata": {},
     "output_type": "execute_result"
    }
   ],
   "source": [
    "padded_image_shape = (16*6, 16*6*3)\n",
    "EOS = num_classes - 1\n",
    "SOS = EOS - 1\n",
    "head_n = 8\n",
    "l1 = 1e-8\n",
    "activation = 'relu'#'selu' is not converted to tflite\n",
    "kernel_init = tf.initializers.he_normal()\n",
    "path_weight = \"model/LPR\"\n",
    "SOS, EOS"
   ]
  },
  {
   "cell_type": "code",
   "execution_count": 7,
   "metadata": {},
   "outputs": [],
   "source": [
    "path_synthetic = '/home/mvlab/Downloads/plate_generator/gen/'\n",
    "path_label = path_synthetic + 'label.csv'"
   ]
  },
  {
   "cell_type": "code",
   "execution_count": 8,
   "metadata": {},
   "outputs": [
    {
     "data": {
      "text/plain": [
       "(True, True)"
      ]
     },
     "execution_count": 8,
     "metadata": {},
     "output_type": "execute_result"
    }
   ],
   "source": [
    "os.path.isdir(path_synthetic), os.path.isfile(path_label)"
   ]
  },
  {
   "cell_type": "code",
   "execution_count": 9,
   "metadata": {},
   "outputs": [],
   "source": [
    "np.set_printoptions(precision=3)"
   ]
  },
  {
   "cell_type": "code",
   "execution_count": 10,
   "metadata": {},
   "outputs": [
    {
     "data": {
      "text/plain": [
       "(6251, 29)"
      ]
     },
     "execution_count": 10,
     "metadata": {},
     "output_type": "execute_result"
    }
   ],
   "source": [
    "df = pd.read_csv(path_label, sep=' ')\n",
    "df.shape"
   ]
  },
  {
   "cell_type": "code",
   "execution_count": 11,
   "metadata": {},
   "outputs": [
    {
     "data": {
      "text/plain": [
       "Index(['path', 'x0', 'y0', 'x1', 'y1', 'x2', 'y2', 'x3', 'y3', 'type', 'text',\n",
       "       '0', '1', '2', '3', '4', '5', '6', '7', '8', '9', '10', '11', '12',\n",
       "       '13', '14', '15', '16', '17'],\n",
       "      dtype='object')"
      ]
     },
     "execution_count": 11,
     "metadata": {},
     "output_type": "execute_result"
    }
   ],
   "source": [
    "df.columns"
   ]
  },
  {
   "cell_type": "code",
   "execution_count": 12,
   "metadata": {
    "scrolled": true
   },
   "outputs": [
    {
     "data": {
      "text/html": [
       "<div>\n",
       "<style scoped>\n",
       "    .dataframe tbody tr th:only-of-type {\n",
       "        vertical-align: middle;\n",
       "    }\n",
       "\n",
       "    .dataframe tbody tr th {\n",
       "        vertical-align: top;\n",
       "    }\n",
       "\n",
       "    .dataframe thead th {\n",
       "        text-align: right;\n",
       "    }\n",
       "</style>\n",
       "<table border=\"1\" class=\"dataframe\">\n",
       "  <thead>\n",
       "    <tr style=\"text-align: right;\">\n",
       "      <th></th>\n",
       "      <th>path</th>\n",
       "      <th>x0</th>\n",
       "      <th>y0</th>\n",
       "      <th>x1</th>\n",
       "      <th>y1</th>\n",
       "      <th>x2</th>\n",
       "      <th>y2</th>\n",
       "      <th>x3</th>\n",
       "      <th>y3</th>\n",
       "      <th>type</th>\n",
       "      <th>...</th>\n",
       "      <th>8</th>\n",
       "      <th>9</th>\n",
       "      <th>10</th>\n",
       "      <th>11</th>\n",
       "      <th>12</th>\n",
       "      <th>13</th>\n",
       "      <th>14</th>\n",
       "      <th>15</th>\n",
       "      <th>16</th>\n",
       "      <th>17</th>\n",
       "    </tr>\n",
       "  </thead>\n",
       "  <tbody>\n",
       "    <tr>\n",
       "      <th>0</th>\n",
       "      <td>1_49소4994.png</td>\n",
       "      <td>263</td>\n",
       "      <td>56</td>\n",
       "      <td>782</td>\n",
       "      <td>56</td>\n",
       "      <td>782</td>\n",
       "      <td>165</td>\n",
       "      <td>263</td>\n",
       "      <td>165</td>\n",
       "      <td>1</td>\n",
       "      <td>...</td>\n",
       "      <td>608</td>\n",
       "      <td>110</td>\n",
       "      <td>665</td>\n",
       "      <td>110</td>\n",
       "      <td>723</td>\n",
       "      <td>110</td>\n",
       "      <td>0.0</td>\n",
       "      <td>0.0</td>\n",
       "      <td>0.0</td>\n",
       "      <td>0.0</td>\n",
       "    </tr>\n",
       "    <tr>\n",
       "      <th>1</th>\n",
       "      <td>1_87거5293.png</td>\n",
       "      <td>260</td>\n",
       "      <td>55</td>\n",
       "      <td>779</td>\n",
       "      <td>55</td>\n",
       "      <td>779</td>\n",
       "      <td>164</td>\n",
       "      <td>260</td>\n",
       "      <td>164</td>\n",
       "      <td>1</td>\n",
       "      <td>...</td>\n",
       "      <td>601</td>\n",
       "      <td>109</td>\n",
       "      <td>658</td>\n",
       "      <td>109</td>\n",
       "      <td>715</td>\n",
       "      <td>109</td>\n",
       "      <td>0.0</td>\n",
       "      <td>0.0</td>\n",
       "      <td>0.0</td>\n",
       "      <td>0.0</td>\n",
       "    </tr>\n",
       "    <tr>\n",
       "      <th>2</th>\n",
       "      <td>1_52머9472.png</td>\n",
       "      <td>262</td>\n",
       "      <td>50</td>\n",
       "      <td>781</td>\n",
       "      <td>50</td>\n",
       "      <td>781</td>\n",
       "      <td>159</td>\n",
       "      <td>262</td>\n",
       "      <td>159</td>\n",
       "      <td>1</td>\n",
       "      <td>...</td>\n",
       "      <td>598</td>\n",
       "      <td>104</td>\n",
       "      <td>654</td>\n",
       "      <td>104</td>\n",
       "      <td>710</td>\n",
       "      <td>104</td>\n",
       "      <td>0.0</td>\n",
       "      <td>0.0</td>\n",
       "      <td>0.0</td>\n",
       "      <td>0.0</td>\n",
       "    </tr>\n",
       "    <tr>\n",
       "      <th>3</th>\n",
       "      <td>1_20모3579.png</td>\n",
       "      <td>260</td>\n",
       "      <td>55</td>\n",
       "      <td>779</td>\n",
       "      <td>55</td>\n",
       "      <td>779</td>\n",
       "      <td>164</td>\n",
       "      <td>260</td>\n",
       "      <td>164</td>\n",
       "      <td>1</td>\n",
       "      <td>...</td>\n",
       "      <td>600</td>\n",
       "      <td>109</td>\n",
       "      <td>657</td>\n",
       "      <td>109</td>\n",
       "      <td>714</td>\n",
       "      <td>109</td>\n",
       "      <td>0.0</td>\n",
       "      <td>0.0</td>\n",
       "      <td>0.0</td>\n",
       "      <td>0.0</td>\n",
       "    </tr>\n",
       "    <tr>\n",
       "      <th>4</th>\n",
       "      <td>1_79노4785.png</td>\n",
       "      <td>255</td>\n",
       "      <td>52</td>\n",
       "      <td>774</td>\n",
       "      <td>52</td>\n",
       "      <td>774</td>\n",
       "      <td>161</td>\n",
       "      <td>255</td>\n",
       "      <td>161</td>\n",
       "      <td>1</td>\n",
       "      <td>...</td>\n",
       "      <td>600</td>\n",
       "      <td>106</td>\n",
       "      <td>658</td>\n",
       "      <td>106</td>\n",
       "      <td>715</td>\n",
       "      <td>106</td>\n",
       "      <td>0.0</td>\n",
       "      <td>0.0</td>\n",
       "      <td>0.0</td>\n",
       "      <td>0.0</td>\n",
       "    </tr>\n",
       "  </tbody>\n",
       "</table>\n",
       "<p>5 rows × 29 columns</p>\n",
       "</div>"
      ],
      "text/plain": [
       "            path   x0  y0   x1  y1   x2   y2   x3   y3  type  ...    8    9  \\\n",
       "0  1_49소4994.png  263  56  782  56  782  165  263  165     1  ...  608  110   \n",
       "1  1_87거5293.png  260  55  779  55  779  164  260  164     1  ...  601  109   \n",
       "2  1_52머9472.png  262  50  781  50  781  159  262  159     1  ...  598  104   \n",
       "3  1_20모3579.png  260  55  779  55  779  164  260  164     1  ...  600  109   \n",
       "4  1_79노4785.png  255  52  774  52  774  161  255  161     1  ...  600  106   \n",
       "\n",
       "    10   11   12   13   14   15   16   17  \n",
       "0  665  110  723  110  0.0  0.0  0.0  0.0  \n",
       "1  658  109  715  109  0.0  0.0  0.0  0.0  \n",
       "2  654  104  710  104  0.0  0.0  0.0  0.0  \n",
       "3  657  109  714  109  0.0  0.0  0.0  0.0  \n",
       "4  658  106  715  106  0.0  0.0  0.0  0.0  \n",
       "\n",
       "[5 rows x 29 columns]"
      ]
     },
     "execution_count": 12,
     "metadata": {},
     "output_type": "execute_result"
    }
   ],
   "source": [
    "df.head()"
   ]
  },
  {
   "cell_type": "code",
   "execution_count": 13,
   "metadata": {},
   "outputs": [
    {
     "data": {
      "text/plain": [
       "array([ 1,  2,  3,  4,  5,  6,  7,  8,  9, 10])"
      ]
     },
     "execution_count": 13,
     "metadata": {},
     "output_type": "execute_result"
    }
   ],
   "source": [
    "df['type'].unique()"
   ]
  },
  {
   "cell_type": "code",
   "execution_count": 14,
   "metadata": {},
   "outputs": [
    {
     "data": {
      "text/plain": [
       "path    1_49소4994.png\n",
       "x0                263\n",
       "y0                 56\n",
       "x1                782\n",
       "y1                 56\n",
       "x2                782\n",
       "y2                165\n",
       "x3                263\n",
       "y3                165\n",
       "type                1\n",
       "text          49소4994\n",
       "0                 336\n",
       "1                 110\n",
       "2                 394\n",
       "3                 110\n",
       "4                 464\n",
       "5                 104\n",
       "6                 550\n",
       "7                 110\n",
       "8                 608\n",
       "9                 110\n",
       "10                665\n",
       "11                110\n",
       "12                723\n",
       "13                110\n",
       "14                  0\n",
       "15                  0\n",
       "16                  0\n",
       "17                  0\n",
       "Name: 0, dtype: object"
      ]
     },
     "execution_count": 14,
     "metadata": {},
     "output_type": "execute_result"
    }
   ],
   "source": [
    "df.iloc[0]"
   ]
  },
  {
   "cell_type": "code",
   "execution_count": 15,
   "metadata": {},
   "outputs": [],
   "source": [
    "def read_synthetic(max_m=10000):\n",
    "    df = pd.read_csv(path_label, sep=' ')\n",
    "    df = df[:max_m]\n",
    "    m = len(df)\n",
    "    x0 = df['x0']\n",
    "    x1 = df['x1']\n",
    "    x2 = df['x2']\n",
    "    x3 = df['x3']\n",
    "    y0 = df['y0']\n",
    "    y1 = df['y1']\n",
    "    y2 = df['y2']\n",
    "    y3 = df['y3']\n",
    "    \n",
    "    min_x = np.minimum(df['x0'], df['x3'])\n",
    "    min_y = np.minimum(df['y0'], df['y1'])\n",
    "    max_x = np.maximum(df['x1'], df['x2'])\n",
    "    max_y = np.maximum(df['y2'], df['y3'])\n",
    "    box_ratio = (max_x - min_x) / (max_y - min_y)\n",
    "    shear_y0 = -box_ratio * (y2 - y3) / (x2 - x3)\n",
    "    shear_y1 = -box_ratio * (y1 - y0) / (x1 - x0)\n",
    "    shear_x0 = -box_ratio * (x3 - x0) / (y3 - y0)\n",
    "    shear_x1 = -box_ratio * (x2 - x1) / (y2 - y1)\n",
    "    shear_y = (shear_y0 + shear_y1) / 2\n",
    "    shear_x = (shear_x0 + shear_x1) / 2\n",
    "    df['min_x'] = min_x\n",
    "    df['min_y'] = min_y\n",
    "    df['max_x'] = max_x\n",
    "    df['max_y'] = max_y\n",
    "    df['shear_x'] = shear_x\n",
    "    df['shear_y'] = shear_y\n",
    "\n",
    "    plate_chars = plate_characters\n",
    "    bbox = df[['min_x', 'min_y', 'max_x', 'max_y', 'type']].values\n",
    "    vertex = df[['x0', 'y0', 'x1', 'y1', 'x2', 'y2', 'x3', 'y3','type']].values\n",
    "    cxy_col = [str(i) for i in range(18)]\n",
    "    char_cxy = df[cxy_col].values\n",
    "    plate_type = df['type'].values\n",
    "\n",
    "    text_len = max_sequence\n",
    "    m = len(df)\n",
    "    class_nums = np.zeros((m, text_len)) - 1\n",
    "    for i in range(m):\n",
    "        text0 = df.loc[i, 'text']\n",
    "        for j in range(len(text0)):\n",
    "            class_num = plate_chars.index(text0[j])\n",
    "            class_nums[i, j] = class_num\n",
    "    print('class_nums', class_nums.shape)\n",
    "    print('char_cxy', char_cxy.shape)\n",
    "    \n",
    "    label = np.concatenate((vertex, class_nums, char_cxy), axis=-1)    \n",
    "    print('label', label.shape)\n",
    "    \n",
    "    img_path_list = list(path_synthetic + df['path'].values)\n",
    "    return img_path_list, label"
   ]
  },
  {
   "cell_type": "code",
   "execution_count": 16,
   "metadata": {
    "scrolled": true
   },
   "outputs": [
    {
     "name": "stdout",
     "output_type": "stream",
     "text": [
      "class_nums (6251, 9)\n",
      "char_cxy (6251, 18)\n",
      "label (6251, 36)\n",
      "labels 6251 6251\n",
      "[263.  56. 782.  56. 782. 165. 263. 165.   1.   4.   9.  62.   4.   9.\n",
      "   9.   4.  -1.  -1. 336. 110. 394. 110. 464. 104. 550. 110. 608. 110.\n",
      " 665. 110. 723. 110.   0.   0.   0.   0.]\n"
     ]
    }
   ],
   "source": [
    "paths, labels = read_synthetic(10000)\n",
    "print('labels', len(labels), len(paths))\n",
    "print(labels[0])"
   ]
  },
  {
   "cell_type": "code",
   "execution_count": 443,
   "metadata": {},
   "outputs": [
    {
     "data": {
      "text/plain": [
       "array([7, 0, 4, 2, 8, 5, 1, 3, 9, 6])"
      ]
     },
     "execution_count": 443,
     "metadata": {},
     "output_type": "execute_result"
    }
   ],
   "source": [
    "i_index = np.arange(10)\n",
    "np.random.shuffle(i_index)\n",
    "i_index"
   ]
  },
  {
   "cell_type": "code",
   "execution_count": 444,
   "metadata": {},
   "outputs": [
    {
     "name": "stdout",
     "output_type": "stream",
     "text": [
      "100\n",
      "200\n",
      "300\n",
      "400\n",
      "500\n",
      "600\n",
      "700\n",
      "800\n",
      "900\n",
      "1000\n",
      "1100\n",
      "1200\n",
      "1300\n",
      "1400\n",
      "1500\n",
      "1600\n",
      "1700\n",
      "1800\n",
      "1900\n",
      "2000\n",
      "2100\n",
      "2200\n",
      "2300\n",
      "2400\n",
      "2500\n",
      "2600\n",
      "2700\n",
      "2800\n",
      "2900\n",
      "3000\n",
      "3100\n",
      "3200\n",
      "3300\n",
      "3400\n",
      "3500\n",
      "3600\n",
      "3700\n",
      "3800\n",
      "3900\n",
      "4000\n",
      "4100\n",
      "4200\n",
      "4300\n",
      "4400\n",
      "4500\n",
      "4600\n",
      "4700\n",
      "4800\n",
      "4900\n",
      "5000\n",
      "5100\n",
      "5200\n",
      "5300\n",
      "5400\n",
      "5500\n",
      "5600\n",
      "5700\n",
      "5800\n",
      "5900\n",
      "6000\n",
      "6100\n",
      "6200\n",
      "x_list 6251 6251\n"
     ]
    }
   ],
   "source": [
    "x_list = []\n",
    "y_list = []\n",
    "i_index = np.arange(len(paths))\n",
    "np.random.shuffle(i_index)\n",
    "for i in i_index:\n",
    "    path_img = paths[i]\n",
    "    label = labels[i]\n",
    "    if os.path.isfile(path_img):\n",
    "        img = Image.open(path_img)\n",
    "        arr = np.array(img)\n",
    "        \n",
    "        \n",
    "        img_h, img_w, img_c = arr.shape\n",
    "        #print('label', label.shape)\n",
    "        coord = label[:8]\n",
    "        type_text = label[8:8+1+max_sequence]        \n",
    "        char_cxy = label[8+1+max_sequence:]\n",
    "        \n",
    "        coord_2d = np.reshape(coord, [-1, 2])\n",
    "        coord_2d_norm = coord_2d / (np.array((img_w, img_h), np.float))\n",
    "        coord_norm = np.reshape(coord_2d_norm, [-1])\n",
    "        \n",
    "        char_cxy_2d = np.reshape(char_cxy, [-1, 2])\n",
    "        char_cxy_2d_norm = char_cxy_2d / (np.array((img_w, img_h), np.float))\n",
    "        char_cxy_norm = np.reshape(char_cxy_2d_norm, [-1])\n",
    "        \n",
    "        label_norm = np.concatenate((coord_norm, type_text, char_cxy_norm), -1)\n",
    "        \n",
    "        x_list.append(arr)\n",
    "        y_list.append(label_norm)\n",
    "        if len(x_list)%100 == 0 :\n",
    "            print(len(paths), len(x_list))\n",
    "        \n",
    "print('x_list', len(x_list), len(y_list))"
   ]
  },
  {
   "cell_type": "code",
   "execution_count": 445,
   "metadata": {},
   "outputs": [
    {
     "data": {
      "text/plain": [
       "<matplotlib.image.AxesImage at 0x7fb18021e640>"
      ]
     },
     "execution_count": 445,
     "metadata": {},
     "output_type": "execute_result"
    },
    {
     "data": {
      "image/png": "[encoded data removed]",
      "text/plain": [
       "<Figure size 432x288 with 1 Axes>"
      ]
     },
     "metadata": {
      "needs_background": "light"
     },
     "output_type": "display_data"
    }
   ],
   "source": [
    "plt.imshow(x_list[0])"
   ]
  },
  {
   "cell_type": "code",
   "execution_count": 446,
   "metadata": {},
   "outputs": [],
   "source": [
    "def visualize_plate(\n",
    "    image, y, figsize=(12, 12), linewidth=1, color=[0, 0, 1]\n",
    "):\n",
    "    \"\"\"Visualize Detections\"\"\"    \n",
    "    img_h, img_w, img_c = image.shape\n",
    "    plt.figure(figsize=figsize)\n",
    "    plt.axis(\"off\")\n",
    "    plt.imshow(image)\n",
    "    ax = plt.gca()\n",
    "    \n",
    "    vertices_norm = y[:8]    \n",
    "    plate_type = y[8]\n",
    "    plate_text = y[9:]\n",
    "    vertices_norm_2d = np.reshape(vertices_norm, [-1, 2])\n",
    "    vertices_2d = vertices_norm_2d * np.array((img_w, img_h), np.float)\n",
    "    \n",
    "    x0, y0, x1, y1, x2, y2, x3, y3 = np.reshape(vertices_2d, [-1])\n",
    "    \n",
    "    w, h = x2 - x1, y2 - y1    \n",
    "    color = [1,0,0]\n",
    "    linewidth = 10\n",
    "    plt.plot(x0, y0, x1, y1, 'go-', linewidth=linewidth)\n",
    "    plt.plot(x1, y1, x2, y2, 'ro--', linewidth=linewidth)\n",
    "    plt.plot(x2, y2, x3, y3, marker = 'o', linewidth=linewidth)\n",
    "    plt.plot(x3, y3, x0, y0, marker = 'o', linewidth=linewidth)\n",
    "        \n",
    "    txt = str.format('(%d)' % (plate_type)) + str(plate_text)\n",
    "    ax.text(x0, y0, txt, bbox={\"facecolor\": [1,1,0], \"alpha\": 0.4}, clip_box=ax.clipbox, clip_on=True,)\n",
    "        \n",
    "    plt.show()\n",
    "    return ax"
   ]
  },
  {
   "cell_type": "code",
   "execution_count": 447,
   "metadata": {},
   "outputs": [],
   "source": [
    "def display_data(X, Y, stride=1):\n",
    "    for i in range(len(X)):\n",
    "        if i%stride==0:            \n",
    "            ax = visualize_plate(X[i], Y[i])"
   ]
  },
  {
   "cell_type": "code",
   "execution_count": 448,
   "metadata": {},
   "outputs": [
    {
     "data": {
      "image/png": "[encoded data removed]",
      "text/plain": [
       "<Figure size 864x864 with 1 Axes>"
      ]
     },
     "metadata": {
      "needs_background": "light"
     },
     "output_type": "display_data"
    },
    {
     "data": {
      "image/png": "[encoded data removed]",
      "text/plain": [
       "<Figure size 864x864 with 1 Axes>"
      ]
     },
     "metadata": {
      "needs_background": "light"
     },
     "output_type": "display_data"
    },
    {
     "data": {
      "image/png": "[encoded data removed]",
      "text/plain": [
       "<Figure size 864x864 with 1 Axes>"
      ]
     },
     "metadata": {
      "needs_background": "light"
     },
     "output_type": "display_data"
    },
    {
     "data": {
      "image/png": "[encoded data removed]",
      "text/plain": [
       "<Figure size 864x864 with 1 Axes>"
      ]
     },
     "metadata": {
      "needs_background": "light"
     },
     "output_type": "display_data"
    },
    {
     "data": {
      "image/png": "[encoded data removed]",
      "text/plain": [
       "<Figure size 864x864 with 1 Axes>"
      ]
     },
     "metadata": {
      "needs_background": "light"
     },
     "output_type": "display_data"
    },
    {
     "data": {
      "image/png": "[encoded data removed]",
      "text/plain": [
       "<Figure size 864x864 with 1 Axes>"
      ]
     },
     "metadata": {
      "needs_background": "light"
     },
     "output_type": "display_data"
    },
    {
     "data": {
      "image/png": "[encoded data removed]",
      "text/plain": [
       "<Figure size 864x864 with 1 Axes>"
      ]
     },
     "metadata": {
      "needs_background": "light"
     },
     "output_type": "display_data"
    }
   ],
   "source": [
    "display_data(x_list, y_list, stride=1000)"
   ]
  },
  {
   "cell_type": "code",
   "execution_count": 449,
   "metadata": {},
   "outputs": [],
   "source": [
    "def convert_norm_to_uv(coord):\n",
    "    return coord * 2 - 1 \n",
    "\n",
    "def convert_uv_to_norm_to(coord):\n",
    "    return coord + 1 / 2\n",
    "\n",
    "\n",
    "def transform_uv(uv, mat):\n",
    "    #coord : (m, n, 2)\n",
    "    #theta : (m, 2, 3)    \n",
    "    inv_mat = tf.linalg.inv(mat)        \n",
    "    xyo = tf.concat((uv, 1 + 0 * uv[:, :, :1]), -1)\n",
    "    new_xy = tf.einsum('mrc,msc->mrs', inv_mat, xyo)\n",
    "    new_xy = tf.transpose(new_xy, [0, 2, 1])\n",
    "    new_xy = new_xy[:, :, :2]\n",
    "    return new_xy\n",
    "\n",
    "\n",
    "def transform_xy(xy, theta):\n",
    "    m = tf.shape(xy)[0]\n",
    "    theta = tf.linalg.inv(theta)\n",
    "    theta = theta[:, :2]\n",
    "    # xy [0, 1] > [-1, 1]\n",
    "    xy = (xy - 0.5) * 2\n",
    "    theta = tf.reshape(theta, [-1, 2, 3])\n",
    "    xy = tf.reshape(xy, [m, -1, 2])\n",
    "    xyo = tf.concat((xy, 1 + 0 * xy[:, :, :1]), -1)\n",
    "    new_xy = tf.einsum('mrc,msc->mrs', theta, xyo)\n",
    "    new_xy = tf.transpose(new_xy, [0, 2, 1])\n",
    "\n",
    "    return new_xy"
   ]
  },
  {
   "cell_type": "code",
   "execution_count": 450,
   "metadata": {},
   "outputs": [],
   "source": [
    "def get_x1(t1, t2, width, height):\n",
    "    a = tf.sign(t2) * width - height * tf.sin(t2)/tf.cos(t2)\n",
    "    b = (tf.sign(t2) * tf.cos(t1) * tf.cos(t2) - tf.sign(t1) * tf.sin(t1) * tf.sin(t2)) / (tf.cos(t1)*tf.cos(t2))\n",
    "    x1 = a / b\n",
    "    return x1\n",
    "\n",
    "def get_v1_v2(t1, t2, width, height):\n",
    "    x1 = get_x1(t1, t2, width, height)\n",
    "    #x1 = get_x1_new(t1, t2, width, height)\n",
    "    y1 = x1 / tf.cos(t1) * tf.sin(t1)\n",
    "    x2 = width * tf.sign(t2) - tf.sign(t2) * x1\n",
    "    y2 = height - tf.sign(t1) * y1\n",
    "    return x1,y1,x2,y2\n",
    "\n",
    "def get_wH(t1, t2, width, height):\n",
    "    x1, y1, x2, y2 = get_v1_v2(t1, t2, width, height)\n",
    "    w = x1/tf.cos(t1)\n",
    "    h = y2/tf.cos(t2)\n",
    "    pi = 3.141592653589793\n",
    "    right = 90 * pi / 180\n",
    "    H = tf.sin(right - t1 - t2) * h\n",
    "    return w / width, H / height\n",
    "\n",
    "def get_align_scale_matrix(radian_x, radian_y, width, height):\n",
    "    min_angle = 0.0001\n",
    "    rotate_mat = rotate_matrix(-radian_y)\n",
    "    shear_x_mat = shear_x_matrix(-radian_x - radian_y)\n",
    "\n",
    "    radian_x = tf.where(tf.abs(radian_x) < min_angle, tf.sign(radian_x) * radian_x * 0+min_angle, radian_x)\n",
    "    radian_y = tf.where(tf.abs(radian_y) < min_angle, tf.sign(radian_y) * radian_y * 0+min_angle, radian_y)\n",
    "    w, h = get_wH(-radian_y, -radian_x, width, height) \n",
    "    scale_down_rotate_o = scale_matrix(w, h)\n",
    "\n",
    "    rot_mat = tf.matmul(rotate_mat, shear_x_mat)\n",
    "    rot_scale_mat = tf.matmul(rot_mat, scale_down_rotate_o) #[2,3,3] vs [4,3,3]\n",
    "\n",
    "    return rot_scale_mat"
   ]
  },
  {
   "cell_type": "code",
   "execution_count": 451,
   "metadata": {},
   "outputs": [],
   "source": [
    "def shift_matrix(x, y):\n",
    "    z = x * 0\n",
    "    o = z + 1\n",
    "    mat = tf.stack([o, z, x, z, o, y], -1)\n",
    "    row = tf.stack([z, z, z+1], -1)\n",
    "    mat = tf.concat((mat, row), -1)\n",
    "    mat = tf.reshape(mat, [-1, 3, 3])\n",
    "    return mat\n",
    "\n",
    "def scale_matrix(x, y):\n",
    "    z = x * 0\n",
    "    mat = tf.stack([x, z, z, z, y, z], -1)\n",
    "    row = tf.stack([z, z, z + 1], -1)\n",
    "    mat = tf.concat((mat, row), -1)\n",
    "    mat = tf.reshape(mat, [-1, 3, 3])\n",
    "    return mat\n",
    "\n",
    "def rotate_matrix(radian):\n",
    "    c = tf.math.cos(radian)\n",
    "    s = tf.math.sin(radian)\n",
    "    z = c * 0\n",
    "    mat = tf.stack([c, -s, z, s, c, z], -1)\n",
    "    row = tf.stack([z, z, z + 1], -1)\n",
    "    mat = tf.concat((mat, row), -1)\n",
    "    mat = tf.reshape(mat, [-1, 3, 3])\n",
    "    return mat\n",
    "\n",
    "\n",
    "def shear_x_matrix(radian_x):\n",
    "    x = tf.math.tan(radian_x)\n",
    "    z = x * 0\n",
    "    o = z + 1\n",
    "    mat = tf.stack([o, x, z, z, o, z], -1)\n",
    "    row = tf.stack([z, z, z + 1], -1)\n",
    "    mat = tf.concat((mat, row), -1)\n",
    "    mat = tf.reshape(mat, [-1, 3, 3])\n",
    "    return mat\n",
    "\n",
    "def shear_y_matrix(radian_y):\n",
    "    y = tf.math.tan(radian_y)\n",
    "    z = y * 0\n",
    "    o = z + 1\n",
    "    mat = tf.stack([o, z, z, y, o, z], -1)\n",
    "    row = tf.stack([z, z, z + 1], -1)\n",
    "    mat = tf.concat((mat, row), -1)\n",
    "    mat = tf.reshape(mat, [-1, 3, 3])\n",
    "    return mat\n",
    "\n",
    "def shear_matrix(radian_x, radian_y):\n",
    "    x = tf.math.tan(radian_x)\n",
    "    y = tf.math.tan(radian_y)\n",
    "    z = x * 0\n",
    "    o = z + 1\n",
    "    mat = tf.stack([o, x, z, y, o, z], -1)\n",
    "    row = tf.stack([z, z, z + 1], -1)\n",
    "    mat = tf.concat((mat, row), -1)\n",
    "    mat = tf.reshape(mat, [-1, 3, 3])\n",
    "    return mat\n"
   ]
  },
  {
   "cell_type": "code",
   "execution_count": 452,
   "metadata": {},
   "outputs": [],
   "source": [
    "def affine_grid_generator(height, width, theta):\n",
    "    num_batch = tf.shape(theta)[0]\n",
    "    \n",
    "    x = tf.linspace(-1.0, 1.0, width)\n",
    "    y = tf.linspace(-1.0, 1.0, height)\n",
    "    x_t, y_t = tf.meshgrid(x, y)\n",
    "    x_t_flat = tf.reshape(x_t, [-1])\n",
    "    y_t_flat = tf.reshape(y_t, [-1])\n",
    "\n",
    "    ones = tf.ones_like(x_t_flat)\n",
    "    sampling_grid = tf.stack([x_t_flat, y_t_flat, ones])  # (3, h*w)\n",
    "    sampling_grid = tf.expand_dims(sampling_grid, axis=0)\n",
    "    # sampling_grid = tf.tile(sampling_grid, tf.stack([num_batch, 1, 1]))#(num_batch, 3, h*w)\n",
    "    sampling_grid = tf.tile(sampling_grid, [num_batch, 1, 1])  # (num_batch, 3, h*w)\n",
    "    theta = tf.cast(theta, tf.float32)\n",
    "    sampling_grid = tf.cast(sampling_grid, tf.float32)\n",
    "\n",
    "    batch_grids = tf.matmul(theta, sampling_grid)  # (m, 2, 3)@(m, 3, h*w)=(m,2,h*w)\n",
    "    batch_grids = tf.reshape(batch_grids, [num_batch, 2, height, width])\n",
    "    return batch_grids\n",
    "\n",
    "\n",
    "def get_pixel_value(img, x, y):\n",
    "    # img (m,h,w,c)\n",
    "    # x,y (m,h,w)\n",
    "    shape = tf.shape(x)\n",
    "    m = shape[0]\n",
    "    h = shape[1]\n",
    "    w = shape[2]\n",
    "    batch_idx = tf.range(0, m)\n",
    "    batch_idx = tf.reshape(batch_idx, [m, 1, 1])\n",
    "    b = tf.tile(batch_idx, [1, h, w])\n",
    "\n",
    "    indices = tf.stack([b, y, x], axis=3)  # (m,h,w,3)\n",
    "\n",
    "    return tf.gather_nd(img, indices)\n",
    "\n",
    "\n",
    "def bilinear_sampler(img, batch_grids):\n",
    "    # batch_grids (m, 2, h, w)\n",
    "    # img (m,h,w,c)\n",
    "    uv_x = batch_grids[:, 0]\n",
    "    uv_y = batch_grids[:, 1]\n",
    "    H = tf.shape(img)[1]\n",
    "    W = tf.shape(img)[2]\n",
    "    max_y = tf.cast(H - 1, tf.float32)\n",
    "    max_x = tf.cast(W - 1, tf.float32)\n",
    "    # x [-1, 1]\n",
    "    x = 0.5 * ((uv_x + 1.0) * max_x)\n",
    "    y = 0.5 * ((uv_y + 1.0) * max_y)\n",
    "\n",
    "    # grab 4 nearest corner points for each (x_i, y_i)\n",
    "    x0 = tf.floor(x)  # precision bad?\n",
    "    x1 = x0 + 1\n",
    "    y0 = tf.floor(y)\n",
    "    y1 = y0 + 1\n",
    "\n",
    "    # clip out of boundary index\n",
    "    x0 = tf.clip_by_value(x0, 0, max_x)\n",
    "    x1 = tf.clip_by_value(x1, 0, max_x)\n",
    "    y0 = tf.clip_by_value(y0, 0, max_y)\n",
    "    y1 = tf.clip_by_value(y1, 0, max_y)\n",
    "\n",
    "    # deltas\n",
    "    wa = (x1 - x) * (y1 - y)\n",
    "    wb = (x1 - x) * (y - y0)\n",
    "    wc = (x - x0) * (y1 - y)\n",
    "    wd = (x - x0) * (y - y0)\n",
    "\n",
    "    wa = tf.expand_dims(wa, -1)\n",
    "    wb = tf.expand_dims(wb, -1)\n",
    "    wc = tf.expand_dims(wc, -1)\n",
    "    wd = tf.expand_dims(wd, -1)\n",
    "\n",
    "    x0 = tf.cast(x0, tf.int32)\n",
    "    x1 = tf.cast(x1, tf.int32)\n",
    "    y0 = tf.cast(y0, tf.int32)\n",
    "    y1 = tf.cast(y1, tf.int32)\n",
    "\n",
    "    Ia = get_pixel_value(img, x0, y0)\n",
    "    Ib = get_pixel_value(img, x0, y1)\n",
    "    Ic = get_pixel_value(img, x1, y0)\n",
    "    Id = get_pixel_value(img, x1, y1)\n",
    "\n",
    "    out = tf.add_n([wa*Ia, wb*Ib, wc*Ic, wd*Id])\n",
    "    #out = wa * Ia + wb * Ib + wc * Ic + wd * Id\n",
    "\n",
    "    return out\n",
    "\n",
    "\n",
    "def sampling(net, theta, dst_h, dst_w):\n",
    "    theta = tf.reshape(theta, [-1, 2, 3])\n",
    "    #h = tf.shape(net)[1]\n",
    "    #w = tf.shape(net)[2]\n",
    "    batch_grids = affine_grid_generator(dst_h, dst_w, theta)\n",
    "    out = bilinear_sampler(net, batch_grids)\n",
    "    return out"
   ]
  },
  {
   "cell_type": "code",
   "execution_count": 453,
   "metadata": {},
   "outputs": [],
   "source": [
    "def get_box_center_and_size(bbox):\n",
    "    x0, y0, x1, y1 = tf.split(bbox, 4, -1)\n",
    "    w = x1 - x0\n",
    "    h = y1 - y0\n",
    "    cx = (x1 + x0) / 2\n",
    "    cy = (y1 + y0) / 2\n",
    "    return cx, cy, w, h"
   ]
  },
  {
   "cell_type": "code",
   "execution_count": 477,
   "metadata": {
    "scrolled": true
   },
   "outputs": [
    {
     "ename": "ValueError",
     "evalue": "Can't convert non-rectangular Python sequence to Tensor.",
     "output_type": "error",
     "traceback": [
      "\u001b[0;31m---------------------------------------------------------------------------\u001b[0m",
      "\u001b[0;31mValueError\u001b[0m                                Traceback (most recent call last)",
      "\u001b[0;32m<ipython-input-477-656d4ba19cdf>\u001b[0m in \u001b[0;36m<module>\u001b[0;34m\u001b[0m\n\u001b[0;32m----> 1\u001b[0;31m \u001b[0mX\u001b[0m \u001b[0;34m=\u001b[0m \u001b[0mtf\u001b[0m\u001b[0;34m.\u001b[0m\u001b[0mconstant\u001b[0m\u001b[0;34m(\u001b[0m\u001b[0mx_list\u001b[0m\u001b[0;34m[\u001b[0m\u001b[0;34m:\u001b[0m\u001b[0;36m10\u001b[0m\u001b[0;34m]\u001b[0m\u001b[0;34m)\u001b[0m\u001b[0;34m\u001b[0m\u001b[0;34m\u001b[0m\u001b[0m\n\u001b[0m\u001b[1;32m      2\u001b[0m \u001b[0mY\u001b[0m \u001b[0;34m=\u001b[0m \u001b[0mtf\u001b[0m\u001b[0;34m.\u001b[0m\u001b[0mconstant\u001b[0m\u001b[0;34m(\u001b[0m\u001b[0my_list\u001b[0m\u001b[0;34m[\u001b[0m\u001b[0;34m:\u001b[0m\u001b[0;36m10\u001b[0m\u001b[0;34m]\u001b[0m\u001b[0;34m)\u001b[0m\u001b[0;34m\u001b[0m\u001b[0;34m\u001b[0m\u001b[0m\n\u001b[1;32m      3\u001b[0m \u001b[0mX\u001b[0m \u001b[0;34m=\u001b[0m \u001b[0mtf\u001b[0m\u001b[0;34m.\u001b[0m\u001b[0mcast\u001b[0m\u001b[0;34m(\u001b[0m\u001b[0mX\u001b[0m\u001b[0;34m,\u001b[0m \u001b[0mtf\u001b[0m\u001b[0;34m.\u001b[0m\u001b[0mfloat32\u001b[0m\u001b[0;34m)\u001b[0m\u001b[0;34m\u001b[0m\u001b[0;34m\u001b[0m\u001b[0m\n\u001b[1;32m      4\u001b[0m \u001b[0mX\u001b[0m\u001b[0;34m.\u001b[0m\u001b[0mshape\u001b[0m\u001b[0;34m,\u001b[0m \u001b[0mY\u001b[0m\u001b[0;34m.\u001b[0m\u001b[0mshape\u001b[0m\u001b[0;34m,\u001b[0m \u001b[0mY\u001b[0m\u001b[0;34m[\u001b[0m\u001b[0;36m0\u001b[0m\u001b[0;34m]\u001b[0m\u001b[0;34m\u001b[0m\u001b[0;34m\u001b[0m\u001b[0m\n",
      "\u001b[0;32m~/anaconda3/lib/python3.8/site-packages/tensorflow/python/framework/constant_op.py\u001b[0m in \u001b[0;36mconstant\u001b[0;34m(value, dtype, shape, name)\u001b[0m\n\u001b[1;32m    261\u001b[0m     \u001b[0mValueError\u001b[0m\u001b[0;34m:\u001b[0m \u001b[0;32mif\u001b[0m \u001b[0mcalled\u001b[0m \u001b[0mon\u001b[0m \u001b[0ma\u001b[0m \u001b[0msymbolic\u001b[0m \u001b[0mtensor\u001b[0m\u001b[0;34m.\u001b[0m\u001b[0;34m\u001b[0m\u001b[0;34m\u001b[0m\u001b[0m\n\u001b[1;32m    262\u001b[0m   \"\"\"\n\u001b[0;32m--> 263\u001b[0;31m   return _constant_impl(value, dtype, shape, name, verify_shape=False,\n\u001b[0m\u001b[1;32m    264\u001b[0m                         allow_broadcast=True)\n\u001b[1;32m    265\u001b[0m \u001b[0;34m\u001b[0m\u001b[0m\n",
      "\u001b[0;32m~/anaconda3/lib/python3.8/site-packages/tensorflow/python/framework/constant_op.py\u001b[0m in \u001b[0;36m_constant_impl\u001b[0;34m(value, dtype, shape, name, verify_shape, allow_broadcast)\u001b[0m\n\u001b[1;32m    273\u001b[0m       \u001b[0;32mwith\u001b[0m \u001b[0mtrace\u001b[0m\u001b[0;34m.\u001b[0m\u001b[0mTrace\u001b[0m\u001b[0;34m(\u001b[0m\u001b[0;34m\"tf.constant\"\u001b[0m\u001b[0;34m)\u001b[0m\u001b[0;34m:\u001b[0m\u001b[0;34m\u001b[0m\u001b[0;34m\u001b[0m\u001b[0m\n\u001b[1;32m    274\u001b[0m         \u001b[0;32mreturn\u001b[0m \u001b[0m_constant_eager_impl\u001b[0m\u001b[0;34m(\u001b[0m\u001b[0mctx\u001b[0m\u001b[0;34m,\u001b[0m \u001b[0mvalue\u001b[0m\u001b[0;34m,\u001b[0m \u001b[0mdtype\u001b[0m\u001b[0;34m,\u001b[0m \u001b[0mshape\u001b[0m\u001b[0;34m,\u001b[0m \u001b[0mverify_shape\u001b[0m\u001b[0;34m)\u001b[0m\u001b[0;34m\u001b[0m\u001b[0;34m\u001b[0m\u001b[0m\n\u001b[0;32m--> 275\u001b[0;31m     \u001b[0;32mreturn\u001b[0m \u001b[0m_constant_eager_impl\u001b[0m\u001b[0;34m(\u001b[0m\u001b[0mctx\u001b[0m\u001b[0;34m,\u001b[0m \u001b[0mvalue\u001b[0m\u001b[0;34m,\u001b[0m \u001b[0mdtype\u001b[0m\u001b[0;34m,\u001b[0m \u001b[0mshape\u001b[0m\u001b[0;34m,\u001b[0m \u001b[0mverify_shape\u001b[0m\u001b[0;34m)\u001b[0m\u001b[0;34m\u001b[0m\u001b[0;34m\u001b[0m\u001b[0m\n\u001b[0m\u001b[1;32m    276\u001b[0m \u001b[0;34m\u001b[0m\u001b[0m\n\u001b[1;32m    277\u001b[0m   \u001b[0mg\u001b[0m \u001b[0;34m=\u001b[0m \u001b[0mops\u001b[0m\u001b[0;34m.\u001b[0m\u001b[0mget_default_graph\u001b[0m\u001b[0;34m(\u001b[0m\u001b[0;34m)\u001b[0m\u001b[0;34m\u001b[0m\u001b[0;34m\u001b[0m\u001b[0m\n",
      "\u001b[0;32m~/anaconda3/lib/python3.8/site-packages/tensorflow/python/framework/constant_op.py\u001b[0m in \u001b[0;36m_constant_eager_impl\u001b[0;34m(ctx, value, dtype, shape, verify_shape)\u001b[0m\n\u001b[1;32m    298\u001b[0m \u001b[0;32mdef\u001b[0m \u001b[0m_constant_eager_impl\u001b[0m\u001b[0;34m(\u001b[0m\u001b[0mctx\u001b[0m\u001b[0;34m,\u001b[0m \u001b[0mvalue\u001b[0m\u001b[0;34m,\u001b[0m \u001b[0mdtype\u001b[0m\u001b[0;34m,\u001b[0m \u001b[0mshape\u001b[0m\u001b[0;34m,\u001b[0m \u001b[0mverify_shape\u001b[0m\u001b[0;34m)\u001b[0m\u001b[0;34m:\u001b[0m\u001b[0;34m\u001b[0m\u001b[0;34m\u001b[0m\u001b[0m\n\u001b[1;32m    299\u001b[0m   \u001b[0;34m\"\"\"Implementation of eager constant.\"\"\"\u001b[0m\u001b[0;34m\u001b[0m\u001b[0;34m\u001b[0m\u001b[0m\n\u001b[0;32m--> 300\u001b[0;31m   \u001b[0mt\u001b[0m \u001b[0;34m=\u001b[0m \u001b[0mconvert_to_eager_tensor\u001b[0m\u001b[0;34m(\u001b[0m\u001b[0mvalue\u001b[0m\u001b[0;34m,\u001b[0m \u001b[0mctx\u001b[0m\u001b[0;34m,\u001b[0m \u001b[0mdtype\u001b[0m\u001b[0;34m)\u001b[0m\u001b[0;34m\u001b[0m\u001b[0;34m\u001b[0m\u001b[0m\n\u001b[0m\u001b[1;32m    301\u001b[0m   \u001b[0;32mif\u001b[0m \u001b[0mshape\u001b[0m \u001b[0;32mis\u001b[0m \u001b[0;32mNone\u001b[0m\u001b[0;34m:\u001b[0m\u001b[0;34m\u001b[0m\u001b[0;34m\u001b[0m\u001b[0m\n\u001b[1;32m    302\u001b[0m     \u001b[0;32mreturn\u001b[0m \u001b[0mt\u001b[0m\u001b[0;34m\u001b[0m\u001b[0;34m\u001b[0m\u001b[0m\n",
      "\u001b[0;32m~/anaconda3/lib/python3.8/site-packages/tensorflow/python/framework/constant_op.py\u001b[0m in \u001b[0;36mconvert_to_eager_tensor\u001b[0;34m(value, ctx, dtype)\u001b[0m\n\u001b[1;32m     96\u001b[0m       \u001b[0mdtype\u001b[0m \u001b[0;34m=\u001b[0m \u001b[0mdtypes\u001b[0m\u001b[0;34m.\u001b[0m\u001b[0mas_dtype\u001b[0m\u001b[0;34m(\u001b[0m\u001b[0mdtype\u001b[0m\u001b[0;34m)\u001b[0m\u001b[0;34m.\u001b[0m\u001b[0mas_datatype_enum\u001b[0m\u001b[0;34m\u001b[0m\u001b[0;34m\u001b[0m\u001b[0m\n\u001b[1;32m     97\u001b[0m   \u001b[0mctx\u001b[0m\u001b[0;34m.\u001b[0m\u001b[0mensure_initialized\u001b[0m\u001b[0;34m(\u001b[0m\u001b[0;34m)\u001b[0m\u001b[0;34m\u001b[0m\u001b[0;34m\u001b[0m\u001b[0m\n\u001b[0;32m---> 98\u001b[0;31m   \u001b[0;32mreturn\u001b[0m \u001b[0mops\u001b[0m\u001b[0;34m.\u001b[0m\u001b[0mEagerTensor\u001b[0m\u001b[0;34m(\u001b[0m\u001b[0mvalue\u001b[0m\u001b[0;34m,\u001b[0m \u001b[0mctx\u001b[0m\u001b[0;34m.\u001b[0m\u001b[0mdevice_name\u001b[0m\u001b[0;34m,\u001b[0m \u001b[0mdtype\u001b[0m\u001b[0;34m)\u001b[0m\u001b[0;34m\u001b[0m\u001b[0;34m\u001b[0m\u001b[0m\n\u001b[0m\u001b[1;32m     99\u001b[0m \u001b[0;34m\u001b[0m\u001b[0m\n\u001b[1;32m    100\u001b[0m \u001b[0;34m\u001b[0m\u001b[0m\n",
      "\u001b[0;31mValueError\u001b[0m: Can't convert non-rectangular Python sequence to Tensor."
     ]
    }
   ],
   "source": [
    "X = tf.constant(x_list[:10])\n",
    "Y = tf.constant(y_list[:10])\n",
    "X = tf.cast(X, tf.float32)\n",
    "X.shape, Y.shape, Y[0]"
   ]
  },
  {
   "cell_type": "code",
   "execution_count": null,
   "metadata": {},
   "outputs": [],
   "source": [
    "def get_theta_from_coords(coords):\n",
    "    x0 = coords[:, 0, 0]\n",
    "    y0 = coords[:, 0, 1]\n",
    "    x1 = coords[:, 1, 0]\n",
    "    y1 = coords[:, 1, 1]\n",
    "    x2 = coords[:, 2, 0]\n",
    "    y2 = coords[:, 2, 1]\n",
    "    x3 = coords[:, 3, 0]\n",
    "    y3 = coords[:, 3, 1]\n",
    "        \n",
    "    tx = (x0 + x1 + x2 + x3)/4\n",
    "    ty = (y0 + y1 + y2 + y3)/4\n",
    "    #scale_x = ((x1 - x0) + (x2 - x3))/2    \n",
    "    #scale_y = ((y3 - y0) + (y2 - y1))/2\n",
    "    shear_x = -((x0 - x3) / (y0 - y3) + (x1 - x2) / (y1 - y2)) / 2\n",
    "    shear_y = -((y1 - y0) / (x1 - x0) + (y2 - y3) / (x2 - x3)) / 2\n",
    "    shear_x = tf.math.atan(shear_x)\n",
    "    shear_y = tf.math.atan(shear_y)\n",
    "    \n",
    "    x_min = tf.reduce_min(coords[:, :, 0], 1)\n",
    "    x_max = tf.reduce_max(coords[:, :, 0], 1)\n",
    "    y_min = tf.reduce_min(coords[:, :, 1], 1)\n",
    "    y_max = tf.reduce_max(coords[:, :, 1], 1)\n",
    "    w = x_max - x_min\n",
    "    h = y_max - y_min\n",
    "    scale_x = w/2\n",
    "    scale_y = h/2\n",
    "    \n",
    "    return tx, ty, scale_x, scale_y, shear_x, shear_y"
   ]
  },
  {
   "cell_type": "code",
   "execution_count": 455,
   "metadata": {},
   "outputs": [],
   "source": [
    "def generate_transform_matrix(tx, ty, sx, sy, shear_x, shear_y):    \n",
    "    shift_mat = shift_matrix(tx, ty)\n",
    "    scale_mat = scale_matrix(sx, sy)    \n",
    "    \n",
    "    w = sx * 2\n",
    "    h = sy * 2\n",
    "    align_scale_mat = get_align_scale_matrix(shear_x, shear_y, w, h)    \n",
    "    tm = tf.matmul(shift_mat, align_scale_mat)\n",
    "    tm = tf.matmul(tm, scale_mat)\n",
    "    tm = tf.cast(tm, tf.float32)\n",
    "    return tm\n",
    "\n",
    "def convert_transform_matrix(tx, ty, sx, sy, shear_x, shear_y):    \n",
    "    shift_mat = shift_matrix(tx, ty)\n",
    "    scale_mat = scale_matrix(sx, sy)    \n",
    "    shear_mat = shear_matrix(shear_x, shear_y)\n",
    "    \n",
    "    tm = tf.matmul(shift_mat, scale_mat)\n",
    "    tm = tf.matmul(tm, shear_mat)\n",
    "    tm = tf.cast(tm, tf.float32)\n",
    "    return tm"
   ]
  },
  {
   "cell_type": "code",
   "execution_count": 456,
   "metadata": {},
   "outputs": [],
   "source": [
    "def get_align_matrix(vertices_uv):\n",
    "    cx, cy, sx, sy, shear_x, shear_y = get_theta_from_coords(vertices_uv)        \n",
    "    transform_mat = generate_transform_matrix(cx, cy, sx, sy, shear_x, shear_y)\n",
    "    return transform_mat"
   ]
  },
  {
   "cell_type": "code",
   "execution_count": 457,
   "metadata": {},
   "outputs": [],
   "source": [
    "def get_augment_transform_matrix(m, delta):\n",
    "    z = tf.zeros(m)    \n",
    "    shear_y = tf.random.normal(tf.shape(z), stddev=delta)\n",
    "    shear_x = tf.random.normal(tf.shape(z), stddev=delta)\n",
    "    ty = tf.random.normal(tf.shape(z), stddev=delta)\n",
    "    tx = tf.random.normal(tf.shape(z), stddev=delta)\n",
    "\n",
    "    #width_scope = [0.07, 0.3]  # from [0.156, 0.116]\n",
    "    sx = tf.random.uniform(tf.shape(z), minval=1, maxval=1 + delta)\n",
    "    sy = tf.random.uniform(tf.shape(z), minval=1, maxval=1 + delta)\n",
    "    sx += tf.abs(tx)\n",
    "    sy += tf.abs(ty)\n",
    "\n",
    "    #thetas = tf.stack([tx, ty, sx, sy, shear_x, shear_y], 1)\n",
    "    return tx, ty, sx, sy, shear_x, shear_y"
   ]
  },
  {
   "cell_type": "code",
   "execution_count": 458,
   "metadata": {},
   "outputs": [],
   "source": [
    "def get_aug_matrix(vertices_uv, delta):    \n",
    "    transform_mat = get_align_matrix(vertices_uv)\n",
    "    m = tf.shape(vertices_uv)[0]\n",
    "    \n",
    "    cx, cy, sx, sy, shear_x, shear_y = get_augment_transform_matrix(m, delta)    \n",
    "    transform_mat = convert_transform_matrix(cx, cy, sx, sy, shear_x, shear_y)\n",
    "    \n",
    "    return transform_mat"
   ]
  },
  {
   "cell_type": "code",
   "execution_count": 470,
   "metadata": {},
   "outputs": [
    {
     "data": {
      "text/plain": [
       "(TensorShape([10, 3, 3]), tf.float32)"
      ]
     },
     "execution_count": 470,
     "metadata": {},
     "output_type": "execute_result"
    }
   ],
   "source": [
    "Y = tf.cast(Y, tf.float32)\n",
    "vertices = Y[:, :8]\n",
    "plate_type = Y[:, 8]\n",
    "plate_text = Y[:, 9:9 + max_sequence]\n",
    "char_cxy = Y[:, 9 + max_sequence:9 + max_sequence + max_sequence*2]\n",
    "\n",
    "vertices = tf.reshape(vertices, [-1, 4, 2])\n",
    "char_cxy = tf.reshape(char_cxy, [-1, max_sequence, 2])\n",
    "vertices_uv = convert_norm_to_uv(vertices)\n",
    "char_cxy_uv = convert_norm_to_uv(char_cxy)\n",
    "align_mat = get_align_matrix(vertices_uv)\n",
    "aug_mat = get_aug_matrix(vertices_uv, delta=0.1)\n",
    "transform_mat = tf.matmul(align_mat, aug_mat)\n",
    "transform_mat.shape, transform_mat.dtype"
   ]
  },
  {
   "cell_type": "code",
   "execution_count": 471,
   "metadata": {},
   "outputs": [
    {
     "data": {
      "text/plain": [
       "TensorShape([10, 200, 400, 3])"
      ]
     },
     "execution_count": 471,
     "metadata": {},
     "output_type": "execute_result"
    }
   ],
   "source": [
    "x_sampled = sampling(X, transform_mat[:, :2], 200, 400)\n",
    "x_sampled.shape"
   ]
  },
  {
   "cell_type": "code",
   "execution_count": 472,
   "metadata": {},
   "outputs": [
    {
     "data": {
      "text/plain": [
       "(TensorShape([10, 4, 2]),\n",
       " TensorShape([10, 9, 2]),\n",
       " <tf.Tensor: shape=(4, 2), dtype=float32, numpy=\n",
       " array([[-1.05, -0.86],\n",
       "        [ 0.62, -1.03],\n",
       "        [ 0.87,  0.9 ],\n",
       "        [-0.81,  1.07]], dtype=float32)>,\n",
       " <tf.Tensor: shape=(9, 2), dtype=float32, numpy=\n",
       " array([[-0.69,  0.07],\n",
       "        [-0.51,  0.05],\n",
       "        [-0.3 , -0.07],\n",
       "        [-0.  ,  0.  ],\n",
       "        [ 0.18, -0.01],\n",
       "        [ 0.37, -0.03],\n",
       "        [ 0.55, -0.05],\n",
       "        [-2.03, -1.77],\n",
       "        [-2.03, -1.77]], dtype=float32)>)"
      ]
     },
     "execution_count": 472,
     "metadata": {},
     "output_type": "execute_result"
    }
   ],
   "source": [
    "transformed_vertices_uv = transform_uv(vertices_uv, transform_mat)\n",
    "transformed_char_cxy_uv = transform_uv(char_cxy_uv, transform_mat)\n",
    "transformed_vertices_uv.shape, transformed_char_cxy_uv.shape, transformed_vertices_uv[0], transformed_char_cxy_uv[0]"
   ]
  },
  {
   "cell_type": "code",
   "execution_count": 473,
   "metadata": {},
   "outputs": [
    {
     "data": {
      "text/plain": [
       "<tf.Tensor: shape=(10, 6), dtype=float32, numpy=\n",
       "array([[-9.16e-02,  2.21e-02,  9.62e-01,  1.05e+00, -1.28e-01,  1.00e-01],\n",
       "       [ 1.32e-02, -3.06e-02,  1.01e+00,  9.43e-01,  8.41e-02, -6.68e-02],\n",
       "       [-6.95e-02, -2.26e-02,  9.93e-01,  9.57e-01, -9.65e-02,  9.82e-04],\n",
       "       [ 5.01e-02, -1.66e-01,  9.74e-01,  8.49e-01, -5.72e-02, -6.41e-02],\n",
       "       [-1.05e-02,  8.89e-02,  1.10e+00,  1.04e+00,  1.71e-01,  1.32e-01],\n",
       "       [ 1.22e-01, -6.78e-02,  9.59e-01,  9.94e-01,  1.09e-01,  8.30e-02],\n",
       "       [ 5.62e-02, -4.38e-02,  9.13e-01,  9.74e-01,  2.77e-02, -2.31e-02],\n",
       "       [ 4.09e-03, -1.77e-01,  9.19e-01,  8.03e-01, -1.63e-02,  4.37e-02],\n",
       "       [ 1.10e-01, -8.94e-02,  8.68e-01,  8.46e-01,  2.90e-02, -1.96e-02],\n",
       "       [-1.15e-01, -2.22e-01,  8.48e-01,  9.47e-01, -3.82e-02, -1.94e-01]],\n",
       "      dtype=float32)>"
      ]
     },
     "execution_count": 473,
     "metadata": {},
     "output_type": "execute_result"
    }
   ],
   "source": [
    "y_cx, y_cy, y_sx, y_sy, y_shear_x, y_shear_y = get_theta_from_coords(transformed_vertices_uv)        \n",
    "tf.stack((y_cx, y_cy, y_sx, y_sy, y_shear_x, y_shear_y), -1)"
   ]
  },
  {
   "cell_type": "code",
   "execution_count": 474,
   "metadata": {},
   "outputs": [
    {
     "data": {
      "text/plain": [
       "(TensorShape([10, 9, 2]),\n",
       " <tf.Tensor: shape=(9, 2), dtype=float32, numpy=\n",
       " array([[-0.69,  0.07],\n",
       "        [-0.51,  0.05],\n",
       "        [-0.3 , -0.07],\n",
       "        [-0.  ,  0.  ],\n",
       "        [ 0.18, -0.01],\n",
       "        [ 0.37, -0.03],\n",
       "        [ 0.55, -0.05],\n",
       "        [-2.03, -1.77],\n",
       "        [-2.03, -1.77]], dtype=float32)>)"
      ]
     },
     "execution_count": 474,
     "metadata": {},
     "output_type": "execute_result"
    }
   ],
   "source": [
    "transformed_char_cxy_uv = transform_uv(char_cxy_uv, transform_mat)\n",
    "transformed_char_cxy_uv.shape, transformed_char_cxy_uv[0]"
   ]
  },
  {
   "cell_type": "code",
   "execution_count": 475,
   "metadata": {},
   "outputs": [
    {
     "data": {
      "text/plain": [
       "(10, 200, 400, 3)"
      ]
     },
     "execution_count": 475,
     "metadata": {},
     "output_type": "execute_result"
    }
   ],
   "source": [
    "x_sampled_img = x_sampled.numpy().astype(np.uint8)\n",
    "x_sampled_img.shape"
   ]
  },
  {
   "cell_type": "code",
   "execution_count": 476,
   "metadata": {
    "scrolled": true
   },
   "outputs": [
    {
     "data": {
      "text/plain": [
       "<matplotlib.image.AxesImage at 0x7fb1683bbee0>"
      ]
     },
     "execution_count": 476,
     "metadata": {},
     "output_type": "execute_result"
    },
    {
     "data": {
      "image/png": "[encoded data removed]",
      "text/plain": [
       "<Figure size 1080x720 with 1 Axes>"
      ]
     },
     "metadata": {
      "needs_background": "light"
     },
     "output_type": "display_data"
    }
   ],
   "source": [
    "x_sample_concat = np.concatenate((x_sampled_img), axis=1)\n",
    "plt.figure(figsize=(15,10))\n",
    "plt.imshow(x_sample_concat)"
   ]
  },
  {
   "cell_type": "code",
   "execution_count": 468,
   "metadata": {},
   "outputs": [
    {
     "data": {
      "text/plain": [
       "<matplotlib.image.AxesImage at 0x7fb1684909a0>"
      ]
     },
     "execution_count": 468,
     "metadata": {},
     "output_type": "execute_result"
    },
    {
     "data": {
      "image/png": "[encoded data removed]",
      "text/plain": [
       "<Figure size 1080x720 with 1 Axes>"
      ]
     },
     "metadata": {
      "needs_background": "light"
     },
     "output_type": "display_data"
    }
   ],
   "source": [
    "aug_align_mat = generate_transform_matrix(y_cx, y_cy, y_sx, y_sy, y_shear_x, y_shear_y)\n",
    "x_aug_aligned_sampled = sampling(x_sampled, aug_align_mat[:, :2], 200, 400)\n",
    "x_aug_aligned_sampled.shape\n",
    "x_aug_aligned_sampled_img = x_aug_aligned_sampled.numpy().astype(np.uint8)\n",
    "x_sample_concat = np.concatenate((x_aug_aligned_sampled_img[:10]), axis=1)\n",
    "plt.figure(figsize=(15,10))\n",
    "plt.imshow(x_sample_concat)"
   ]
  },
  {
   "cell_type": "code",
   "execution_count": 469,
   "metadata": {
    "scrolled": false
   },
   "outputs": [
    {
     "data": {
      "image/png": "[encoded data removed]",
      "text/plain": [
       "<Figure size 864x864 with 1 Axes>"
      ]
     },
     "metadata": {
      "needs_background": "light"
     },
     "output_type": "display_data"
    }
   ],
   "source": [
    "ax = visualize_plate(x_list[0], y_list[0])"
   ]
  },
  {
   "cell_type": "code",
   "execution_count": 218,
   "metadata": {},
   "outputs": [],
   "source": [
    "def preprocess_data(X, label):\n",
    "    \n",
    "    label = tf.expand_dims(label, 0)\n",
    "    X = tf.expand_dims(X, 0)\n",
    "    vertices = label[:, :8]\n",
    "    plate_type = label[:, 8]\n",
    "    plate_text = label[:, 9:9 + max_sequence]\n",
    "    char_cxy = label[:, 9 + max_sequence:9 + max_sequence + max_sequence*2]\n",
    "\n",
    "    vertices = tf.reshape(vertices, [-1, 4, 2])\n",
    "    char_cxy = tf.reshape(char_cxy, [-1, max_sequence, 2])\n",
    "    vertices_uv = convert_norm_to_uv(vertices)\n",
    "    char_cxy_uv = convert_norm_to_uv(char_cxy)\n",
    "    align_mat = get_align_matrix(vertices_uv)\n",
    "    aug_mat = get_aug_matrix(vertices_uv, delta=0.01)#hyper\n",
    "    transform_mat = tf.matmul(align_mat, aug_mat)\n",
    "    \n",
    "    X = tf.cast(X, tf.float32)\n",
    "    x_sampled = sampling(X, transform_mat[:, :2], padded_image_shape[0], padded_image_shape[1])\n",
    "    transformed_vertices_uv = transform_uv(vertices_uv, transform_mat)\n",
    "    transformed_char_cxy_uv = transform_uv(char_cxy_uv, transform_mat)\n",
    "    #image = tf.image.resize(image, padded_image_shape)    \n",
    "    y_cx, y_cy, y_sx, y_sy, y_shear_x, y_shear_y = get_theta_from_coords(transformed_vertices_uv)\n",
    "    y_align = tf.stack((y_cx, y_cy, y_sx, y_sy, y_shear_x, y_shear_y), -1)\n",
    "    \n",
    "    return x_sampled, y_align, plate_text, transformed_char_cxy_uv"
   ]
  },
  {
   "cell_type": "code",
   "execution_count": 219,
   "metadata": {},
   "outputs": [],
   "source": [
    "class LabelEncoder:\n",
    "    \n",
    "    def __init__(self):\n",
    "        pass    \n",
    "    \n",
    "    def _encode_sample(self, image_shape, y_align, gt_text, gt_cxy_uv):\n",
    "        \n",
    "        gt_cxy_uv_flat = tf.reshape(gt_cxy_uv, [-1])\n",
    "        label = tf.concat([y_align, gt_text, gt_cxy_uv_flat], axis=-1)        \n",
    "        return label\n",
    "    \n",
    "    def encode_batch(self, batch_images, y_align, gt_text, gt_cxy_uv):\n",
    "        \n",
    "        images_shape = tf.shape(batch_images)\n",
    "        batch_size = images_shape[0]        \n",
    "                            \n",
    "        labels = tf.TensorArray(dtype=tf.float32, size=batch_size, dynamic_size=True)\n",
    "        for i in range(batch_size):\n",
    "            label = self._encode_sample(images_shape, y_align[i], gt_text[i], gt_cxy_uv[i])\n",
    "            labels = labels.write(i, label)\n",
    "        \n",
    "        batch_images = tf.cast(batch_images, tf.float32)\n",
    "        label = labels.stack()\n",
    "        return batch_images, label      \n",
    "        "
   ]
  },
  {
   "cell_type": "code",
   "execution_count": 220,
   "metadata": {},
   "outputs": [],
   "source": [
    "from tensorflow import Tensor\n",
    "from tensorflow.keras.layers import Input, Conv2D, ReLU, BatchNormalization,\\\n",
    "                                    Add, AveragePooling2D, Flatten, Dense, MaxPool2D\n",
    "from tensorflow.keras.models import Model"
   ]
  },
  {
   "cell_type": "code",
   "execution_count": 221,
   "metadata": {},
   "outputs": [],
   "source": [
    "regulizer = tf.keras.regularizers.L2(l1)\n",
    "\n",
    "def residual_block(x: Tensor, downsample: bool, filters: int, kernel_size: int = 3) -> Tensor:\n",
    "    y = Conv2D(kernel_size=kernel_size,\n",
    "               strides= (1 if not downsample else 2),\n",
    "               filters=filters, \n",
    "               activation=activation,\n",
    "               padding=\"same\",\n",
    "               kernel_initializer=kernel_init,\n",
    "               kernel_regularizer=regulizer)(x)    \n",
    "    y = Conv2D(kernel_size=kernel_size,\n",
    "               strides=1,\n",
    "               filters=filters,\n",
    "               padding=\"same\",\n",
    "               kernel_initializer=kernel_init,\n",
    "               kernel_regularizer=regulizer)(y)   \n",
    "    \n",
    "    if downsample:\n",
    "        x = Conv2D(kernel_size=3,\n",
    "                   strides=2,\n",
    "                   filters=filters,\n",
    "                   activation=activation,\n",
    "                   padding=\"same\",\n",
    "                   kernel_regularizer=regulizer)(x)\n",
    "    out = Add()([x, y])\n",
    "    out = ReLU()(out)\n",
    "    return out\n",
    "\n",
    "def create_resnet_backbone(inputs):\n",
    "    \n",
    "    #inputs = Input(shape=(None, None, 3))    \n",
    "    num_filters = 64\n",
    "    \n",
    "    #t = BatchNormalization()(inputs)    \n",
    "    t = Conv2D(kernel_size=7,\n",
    "               strides=2,\n",
    "               filters=num_filters,\n",
    "               activation=activation,\n",
    "               padding=\"same\",\n",
    "               kernel_initializer=kernel_init,\n",
    "               kernel_regularizer=regulizer, \n",
    "               )(inputs)\n",
    "    t = MaxPool2D(pool_size=(3, 3), strides=(2, 2), padding='same')(t)\n",
    "    \n",
    "    num_blocks_list = [2, 2, 2]#resnet-18\n",
    "    t_list = []\n",
    "    for i in range(len(num_blocks_list)):\n",
    "        num_blocks = num_blocks_list[i]\n",
    "        for j in range(num_blocks):\n",
    "            t = residual_block(t, downsample=(j==0 and i!=0), filters=num_filters)\n",
    "        if i>=1:\n",
    "            t_list.append(t)\n",
    "        num_filters *= 2\n",
    "    \n",
    "        \n",
    "    return t\n",
    "\n",
    "\n",
    "def create_align_net(inputs):\n",
    "    \n",
    "    #inputs = Input(shape=(None, None, 3))    \n",
    "    num_filters = 64\n",
    "    \n",
    "    #t = BatchNormalization()(inputs)    \n",
    "    t = Conv2D(kernel_size=7,\n",
    "               strides=2,\n",
    "               filters=num_filters,\n",
    "               activation=activation,\n",
    "               padding=\"same\",\n",
    "               kernel_initializer=kernel_init,\n",
    "               kernel_regularizer=regulizer, \n",
    "               )(inputs)\n",
    "    t = MaxPool2D(pool_size=(3, 3), strides=(2, 2), padding='same')(t)\n",
    "    \n",
    "    num_blocks_list = [2, 2, 2, 2]#resnet-18\n",
    "    t_list = []\n",
    "    for i in range(len(num_blocks_list)):\n",
    "        num_blocks = num_blocks_list[i]\n",
    "        for j in range(num_blocks):\n",
    "            t = residual_block(t, downsample=(j==0 and i!=0), filters=num_filters)\n",
    "        if i>=1:\n",
    "            t_list.append(t)\n",
    "        num_filters *= 2\n",
    "    \n",
    "    t = Flatten()(t)\n",
    "    t = Dense(256, activation=activation, kernel_regularizer=regulizer)(t)\n",
    "    t = Dense(6)(t)\n",
    "        \n",
    "    return t"
   ]
  },
  {
   "cell_type": "code",
   "execution_count": 222,
   "metadata": {},
   "outputs": [],
   "source": [
    "def position_encoding(max_sequence, seq, dimension_model):\n",
    "\n",
    "    if max_sequence % 2 == 1:\n",
    "        max_sequence += 1\n",
    "\n",
    "    pos = tf.range(max_sequence, dtype=tf.float32)\n",
    "    pos = tf.reshape(pos, [max_sequence, 1])\n",
    "    theta = pos/tf.pow(10000.0, tf.range(dimension_model, dtype=tf.float32)/dimension_model)\n",
    "    emb_even = tf.sin(theta)[:, ::2]\n",
    "    emb_odd = tf.cos(theta)[:, 1::2]\n",
    "    emb_even_odd = tf.stack((emb_even, emb_odd), axis=-1)\n",
    "    emb_even_odd = tf.reshape(emb_even_odd, [max_sequence, dimension_model])\n",
    "    emb = tf.expand_dims(emb_even_odd[:seq], 0)\n",
    "    return emb"
   ]
  },
  {
   "cell_type": "code",
   "execution_count": 223,
   "metadata": {},
   "outputs": [],
   "source": [
    "def masked_multi_head_attention(layers, y, num_units, s, head=head_n):\n",
    "    '''\n",
    "    :param y: (m, s, c) > padding >(m, S, c)\n",
    "    :param x: == y\n",
    "    :param num_units: 256\n",
    "    :param head: 4\n",
    "    :return: (m, s, c)\n",
    "    '''\n",
    "\n",
    "    z_expand = tf.expand_dims(y, axis=1)\n",
    "    one = tf.ones_like(z_expand[:1, :, :, 0], dtype=tf.float32)\n",
    "    one = tf.tile(one, [1, s, 1])\n",
    "    #triangle_mask = tf.linalg.LinearOperatorLowerTriangular(one).to_dense()#disable on .pb?    \n",
    "    hot = tf.one_hot(tf.range(s, dtype=tf.int64), s)#(s, s)\n",
    "    acumulate_hot = []\n",
    "    for i in range(s):\n",
    "        row = hot[i]\n",
    "        for j in range(i):\n",
    "            row += hot[j]\n",
    "        \n",
    "        acumulate_hot.append(row)\n",
    "    \n",
    "    triangle_mask = tf.stack(acumulate_hot, axis=0)\n",
    "    triangle_mask = tf.cast(triangle_mask, tf.float32)            \n",
    "        \n",
    "    QKV = layers[0](z_expand)\n",
    "    #QKV = slim.fully_connected(z_expand, 3 * num_units, activation_fn=None, scope='fc_query_key_value')\n",
    "    QKV = tf.tile(QKV, [1, s, 1, 1])\n",
    "    QKV = tf.reshape(QKV, [-1, s, 3 * num_units])\n",
    "\n",
    "    query, key, value = tf.split(QKV, 3, -1, name='masked_split')\n",
    "\n",
    "    Q = tf.concat(tf.split(query, head, axis=-1), 0)\n",
    "    K = tf.concat(tf.split(key, head, axis=-1), 0)\n",
    "    V = tf.concat(tf.split(value, head, axis=-1), 0)\n",
    "\n",
    "    relevant_score = tf.matmul(Q, tf.transpose(K, [0, 2, 1])) / np.sqrt(num_units)  # (m, q_s, c) * (m, c, k_s) = (m, q_s, k_s)\n",
    "    \n",
    "    relevant_score = tf.cast(relevant_score, tf.float32)\n",
    "    triangle_mask = tf.cast(triangle_mask, tf.float32)\n",
    "    relevant_score += -10000.0 * (1.0 - triangle_mask)        \n",
    "    \n",
    "    attention = tf.nn.softmax(relevant_score, axis=-1)\n",
    "    context = tf.matmul(attention, V)\n",
    "\n",
    "    attention_list = tf.split(attention, head, axis=0)\n",
    "    context_list = tf.split(context, head, axis=0)\n",
    "\n",
    "    attention = tf.reduce_mean(attention_list, axis=0)\n",
    "\n",
    "    context = tf.concat(context_list, axis=-1)\n",
    "    context_4d = tf.reshape(context, [-1, s, s, num_units])\n",
    "    eye = tf.eye(s, s)\n",
    "    eye = tf.reshape(eye, [1, s, s, 1])\n",
    "    context = tf.reduce_sum(eye * context_4d, axis=2)\n",
    "\n",
    "    #context = slim.fully_connected(context, num_units, activation_fn=None, scope='Linear')    \n",
    "    context = layers[1](context)\n",
    "    return context, attention\n"
   ]
  },
  {
   "cell_type": "code",
   "execution_count": 224,
   "metadata": {},
   "outputs": [],
   "source": [
    "def scale_dot_product_2d(query, key, value, s, h, w, num_units):\n",
    "    print(s, 'Q', query.shape, 'K', key.shape, 'V', value.shape)\n",
    "    #Q (None, 1, 32) K (None, 4, 12, 32) V (None, 4, 12, 32)\n",
    "    #m = tf.shape(query)[0]    \n",
    "    hw = h * w\n",
    "    c = num_units\n",
    "    #relevant_score = tf.einsum('msc,mhwc->mhws', query, key) / np.sqrt(num_units)\n",
    "    query = tf.reshape(query, [-1, s, c])\n",
    "    query_trans = tf.transpose(query, [0, 2, 1])\n",
    "    key = tf.reshape(key, [-1, hw, c])\n",
    "    relevant_score = tf.matmul(key, query_trans) / np.sqrt(num_units)\n",
    "    \n",
    "    relevant_score_flat = tf.reshape(relevant_score, [-1, hw, s])#err\n",
    "    alignment_weights = tf.nn.softmax(relevant_score_flat, axis=1)\n",
    "\n",
    "    #alignment_prob = tf.reshape(alignment_weights, tf.shape(relevant_score))\n",
    "    alignment_prob = tf.reshape(alignment_weights, (-1, hw, s))\n",
    "    value = tf.reshape(value, (-1, hw, c))\n",
    "\n",
    "    #context = tf.einsum('mhws,mhwc->msc', alignment_prob, value)\n",
    "    alignment_prob = tf.transpose(alignment_prob, [0, 2, 1])#(mhws) > (m, s, hw)\n",
    "    #value = tf.transpose(value, [0, 2, 1])#(m,hw,c) > (m, c, hw)\n",
    "    context = tf.matmul(alignment_prob, value, name='context_matmul')\n",
    "\n",
    "    return context, alignment_prob"
   ]
  },
  {
   "cell_type": "code",
   "execution_count": 225,
   "metadata": {},
   "outputs": [],
   "source": [
    "def multi_head_attention_qkv(layers, y, x, h, w, num_units, s, head=head_n):\n",
    "    num_head_unit = num_units // head\n",
    "    #query = slim.fully_connected(y, num_units, activation_fn=None, scope='query')\n",
    "        \n",
    "    #key_value = slim.conv2d(x, num_units * 2, kernel_size=[3, 3], scope='key_value')\n",
    "    \n",
    "    key = layers[0](x)\n",
    "    value = layers[1](x)\n",
    "    #key_value = slim.fully_connected(x, num_units * 2, activation_fn=None, scope='key_value')\n",
    "    #key, value = tf.split(key_value, 2, -1)\n",
    "    query = y\n",
    "    Q = tf.concat(tf.split(query, head, axis=-1), 0)\n",
    "    K = tf.concat(tf.split(key, head, axis=-1), 0)\n",
    "    V = tf.concat(tf.split(value, head, axis=-1), 0)\n",
    "\n",
    "    context, attention = scale_dot_product_2d(Q, K, V, s, h, w, num_head_unit)  # (m * head, s, c)\n",
    "\n",
    "    attention_head = tf.split(attention, head, axis=0)\n",
    "    attention_head = tf.stack(attention_head, axis=0)\n",
    "    attention = tf.reduce_mean(attention_head, axis=0)\n",
    "    attention = tf.reshape(attention, [-1, s, h, w])\n",
    "    \n",
    "    context_list = tf.split(context, head, axis=0)\n",
    "    context = tf.concat(context_list, axis=-1)\n",
    "    #context = tf.cond(tf.logical_and(env.is_ensemble_multi_head, is_train), lambda: dropout_sub_head(context_list, head), lambda: tf.concat(context_list, axis=-1))\n",
    "    #context = slim.fully_connected(context, num_units, activation_fn=None, scope='linear')\n",
    "\n",
    "    return context, attention"
   ]
  },
  {
   "cell_type": "code",
   "execution_count": 226,
   "metadata": {},
   "outputs": [],
   "source": [
    "def attention_layer(layers, z, nets, h, w, s, num_units):\n",
    "    #z (m, S, num_units)\n",
    "    #x (m, h, w, ch)\n",
    "\n",
    "    sub_z, attention_weight = masked_multi_head_attention(layers[:2], z, num_units, s)\n",
    "    #z = layer_normalize(z + slim.dropout(sub_z, keep_prob=env.drop_prob_transformer, is_training=is_train))\n",
    "\n",
    "    sub_z, attention = multi_head_attention_qkv(layers[2:], z, nets, h, w, num_units, s)\n",
    "    #z = layer_normalize(z + slim.dropout(sub_z, keep_prob=env.drop_prob_transformer, is_training=is_train))\n",
    "\n",
    "    #sub_z = position_wise_feed_forward(z, num_units)\n",
    "    #z = layer_normalize(z + slim.dropout(sub_z, keep_prob=env.drop_prob_transformer, is_training=is_train))\n",
    "    \n",
    "    return sub_z, attention"
   ]
  },
  {
   "cell_type": "code",
   "execution_count": 227,
   "metadata": {},
   "outputs": [],
   "source": [
    "def convert_net_to_score(net, embedding_w):\n",
    "    embedding_w_trans = tf.transpose(embedding_w)\n",
    "    score = tf.einsum('nsc,cv->nsv', net, embedding_w_trans)\n",
    "    return score"
   ]
  },
  {
   "cell_type": "code",
   "execution_count": 228,
   "metadata": {},
   "outputs": [],
   "source": [
    "def decodeNet(net, num_units, h, w):    \n",
    "    #embedding = keras.layers.Embedding(input_dim=num_classes, output_dim=num_units, name='embedding')    \n",
    "    embedding = Dense(num_units, use_bias=False, name='dense_embedding')\n",
    "    y_symbol = tf.zeros_like(net[:, 0, 0, :1], dtype=tf.int32) + SOS\n",
    "    \n",
    "    dense_0 = Dense(3 * num_units, name='masked_Dense_0')\n",
    "    dense_1 = Dense(num_units, name='masked_Dense_1')\n",
    "    dense_2 = Dense(num_classes, name='dense_to_score')\n",
    "    conv_0 = Conv2D(num_units, 3, padding='same', name='key')\n",
    "    conv_1 = Conv2D(num_units, 3, padding='same', name='value')\n",
    "    layers = [dense_0, dense_1, conv_0, conv_1]\n",
    "    values = []\n",
    "    for i in range(max_sequence):\n",
    "        #z = tf.einsum('msv,vc->msc', y_symbol, embedding_w)\n",
    "        y_symbol_hot = tf.one_hot(y_symbol, num_classes)\n",
    "        z = embedding(y_symbol_hot)\n",
    "        #print('embedding_in', i, y_symbol)#(None, 1, 118)\n",
    "        #print('embedding_out', i, z)#(None, 1, 256)\n",
    "        \n",
    "        z = z * (num_units ** 0.5) + position_encoding(max_sequence + 1, i + 1, num_units)\n",
    "        #z = slim.dropout(z, keep_prob=env.drop_prob_transformer, is_training=is_train)\n",
    "                \n",
    "        z, attention = attention_layer(layers, z, net, h, w, i+1, num_units)\n",
    "        print('attention',i, attention)\n",
    "        #value = convert_net_to_score(z, embedding_w)\n",
    "        value = dense_2(z)\n",
    "        last_value = value[:, -1:]\n",
    "        values.append(last_value)\n",
    "        \n",
    "        #y_symbol = tf.concat((y_symbol, tf.nn.softmax(last_value)), axis=1)\n",
    "        last_cls = tf.argmax(last_value, -1)\n",
    "        last_cls = tf.cast(last_cls, tf.int32)\n",
    "        y_symbol = tf.concat((y_symbol, last_cls), axis=1)    \n",
    "        y_symbol = tf.minimum(y_symbol, num_classes-1)    \n",
    "    \n",
    "    value_stack = tf.stack(values, axis=-2)\n",
    "    return value_stack, attention"
   ]
  },
  {
   "cell_type": "code",
   "execution_count": 376,
   "metadata": {},
   "outputs": [],
   "source": [
    "def coordinate_map_uv(h, w):\n",
    "    #return (6, 18, 256)\n",
    "    x = tf.range(0.5, w, 1) / tf.cast(w, tf.float32) * 2.0 -1\n",
    "    y = tf.range(0.5, h, 1) / tf.cast(h, tf.float32) * 2.0 -1\n",
    "    X, Y = tf.meshgrid(x, y)\n",
    "    xy = tf.stack((X, Y), -1)\n",
    "    xy = tf.expand_dims(xy, axis=0)   \n",
    "    return xy\n",
    " \n",
    "\n",
    "def convert_attention_to_coord(attention, h, w, attention_threshold=0.0):\n",
    "    if attention_threshold > 0:\n",
    "        attention = attention * tf.cast(attention > attention_threshold, tf.float32)\n",
    "        attention = attention / tf.reduce_sum(attention, [1,2], keepdims=True)\n",
    "    attention_exp = tf.expand_dims(attention, -1)\n",
    "    coord_map = coordinate_map_uv(h, w)\n",
    "    \n",
    "    #before [?,9,4,12,1] * [1,4,12,1,2]. \n",
    "    #now    [?,9,4,12,1] * [1,1,4,12,2] > [?, 9, 4, 12, 2]\n",
    "    attention_coord = attention_exp * tf.expand_dims(coord_map, 1)  # (?, 6, 18, 6, 2)\n",
    "    char_coord = tf.reduce_sum(attention_coord, [2, 3])  # (?, 6, 2)\n",
    "    return char_coord\n"
   ]
  },
  {
   "cell_type": "code",
   "execution_count": 377,
   "metadata": {},
   "outputs": [
    {
     "data": {
      "text/plain": [
       "((96, 288), array([3., 9.]))"
      ]
     },
     "execution_count": 377,
     "metadata": {},
     "output_type": "execute_result"
    }
   ],
   "source": [
    "padded_image_shape, np.array(padded_image_shape)/32"
   ]
  },
  {
   "cell_type": "code",
   "execution_count": 378,
   "metadata": {},
   "outputs": [],
   "source": [
    "def normalilze_4d(x):\n",
    "    mini = tf.reduce_min(x, [1, 2], True)\n",
    "    maxi = tf.reduce_max(x, [1, 2], True)\n",
    "    return (x - mini) / (maxi - mini)"
   ]
  },
  {
   "cell_type": "code",
   "execution_count": 379,
   "metadata": {},
   "outputs": [],
   "source": [
    "def createModel(num_classes):\n",
    "        \n",
    "    inputs = Input(shape=(padded_image_shape[0], padded_image_shape[1], 3))        \n",
    "    inputs_f = normalilze_4d(inputs)\n",
    "            \n",
    "    resnet_stride = 16\n",
    "    net_h = 6 \n",
    "    net_w = net_h * 3\n",
    "    image_h = net_h * resnet_stride\n",
    "    image_w = net_w * resnet_stride\n",
    "    \n",
    "    h_align = create_align_net(inputs_f)    \n",
    "    \n",
    "    if False:\n",
    "        cx, cy, sx, sy, shear_x, shear_y = tf.squeeze(tf.split(h_align, 6, -1), -1)\n",
    "        aug_align_mat = generate_transform_matrix(cx, cy, sx, sy, shear_x, shear_y)\n",
    "        inputs_aligned = sampling(inputs_f, aug_align_mat[:, :2], image_h, image_w)\n",
    "    \n",
    "    inputs_recog = tf.image.resize(inputs_f, (image_h, image_w))\n",
    "    net = create_resnet_backbone(inputs_recog)\n",
    "    print('resnet_out', net.shape)#(None, 4, 12, 512)\n",
    "    print('net_h,net_w',net_h,net_w)\n",
    "        \n",
    "    scores, attention = decodeNet(net, 256, net_h, net_w)\n",
    "    print('decodeNet_out', net)\n",
    "    print('decodeNet_out', attention)\n",
    "    \n",
    "    char_cxy_uv = convert_attention_to_coord(attention, net_h, net_w, 0.001)\n",
    "    print('h_char_cxy_uv', char_cxy_uv)\n",
    "    char_cxy_uv = tf.reshape(char_cxy_uv, [-1, max_sequence, 2])\n",
    "    scores = tf.reshape(scores, [-1, max_sequence, num_classes])\n",
    "    \n",
    "    output_decoder = tf.concat((char_cxy_uv, scores), -1)        \n",
    "    output_decoder_flat = tf.reshape(output_decoder, [-1, max_sequence * (2 + num_classes)])\n",
    "    output = tf.concat((h_align, output_decoder_flat), -1)\n",
    "    print('final_output', output)\n",
    "    \n",
    "    model = keras.Model(inputs=inputs, outputs=output)    \n",
    "    return model\n"
   ]
  },
  {
   "cell_type": "code",
   "execution_count": 422,
   "metadata": {},
   "outputs": [],
   "source": [
    "class AlignLoss(tf.losses.Loss):\n",
    "    \"\"\"Wrapper to combine both the losses\"\"\"\n",
    "\n",
    "    def __init__(self):\n",
    "        super(AlignLoss, self).__init__(reduction=\"auto\", name=\"AlignLoss\")        \n",
    "        pass\n",
    "\n",
    "    def call(self, y_true, y_pred):\n",
    "        loss = tf.reduce_sum(tf.square(y_true - y_pred), -1)\n",
    "        return loss\n",
    "\n",
    "class DecodeLoss(tf.losses.Loss):\n",
    "    \"\"\"Wrapper to combine both the losses\"\"\"\n",
    "\n",
    "    def __init__(self, num_classes):\n",
    "        super(DecodeLoss, self).__init__(reduction=\"auto\", name=\"DecodeLoss\")        \n",
    "        self._num_classes = num_classes\n",
    "        self._gamma = 2\n",
    "\n",
    "    def call(self, y_decoder, h_decoder):\n",
    "        h_decoder = tf.reshape(h_decoder, [-1, max_sequence, 2 + self._num_classes])\n",
    "        \n",
    "        y_text = tf.cast(y_decoder[:, :max_sequence], tf.int64)\n",
    "        y_char_cxy = y_decoder[:, max_sequence:]\n",
    "        y_char_cxy = tf.reshape(y_char_cxy, [-1, max_sequence, 2])\n",
    "        \n",
    "        h_char_cxy = h_decoder[:, :, :2]\n",
    "        h_text_score = h_decoder[:, :, 2:]\n",
    "        h_text = tf.argmax(h_text_score, -1)        \n",
    "        \n",
    "        valid_mask_f = tf.cast(y_text > -1, tf.float32)\n",
    "        valid_mask_i = tf.cast(y_text > -1, tf.int64)\n",
    "        \n",
    "        text_correct = tf.cast(tf.equal(y_text, h_text), tf.int64) * valid_mask_i * tf.range(max_sequence, dtype=tf.int64)#(m, seq)\n",
    "        text_correct_hot = tf.one_hot(text_correct, max_sequence)#(m,seq,seq)\n",
    "        text_correct_hot_axis_1 = tf.reduce_sum(text_correct_hot, axis=1)\n",
    "        loss_text_mask = tf.concat((tf.ones_like(text_correct_hot_axis_1[:, :1]), text_correct_hot_axis_1[:, :-1]), -1)\n",
    "        loss_text_mask = tf.cast(loss_text_mask, tf.float32)\n",
    "        \n",
    "        weight_char = tf.range(max_sequence, dtype=tf.float32)[::-1]\n",
    "        weight_char = tf.reshape(weight_char, [1, -1]) / (max_sequence/2)\n",
    "        \n",
    "        y_hot = tf.one_hot(y_text, self._num_classes)\n",
    "        cls_pt = tf.nn.softmax(h_text_score)        \n",
    "        cls_pt = tf.clip_by_value(cls_pt, 1e-7, 1.0 - 1e-7)\n",
    "        loss_cls_p = - tf.pow(1.0 - cls_pt, self._gamma) * y_hot * tf.math.log(cls_pt)\n",
    "        loss_cls_f = - tf.pow(cls_pt, self._gamma) * (1 - y_hot) * tf.math.log(1 - cls_pt)\n",
    "        \n",
    "        loss_cls = loss_text_mask * tf.reduce_sum(loss_cls_p + loss_cls_f, axis=-1)\n",
    "        loss_cxy = tf.reduce_sum(tf.abs(y_char_cxy - h_char_cxy), -1)\n",
    "        \n",
    "        loss = tf.boolean_mask(loss_cxy + loss_cls, y_text > -1)\n",
    "        #loss = valid_mask_f * (loss_cxy + 0.1 * loss_cls)\n",
    "        return loss\n",
    "\n",
    "\n",
    "class NetLoss(tf.losses.Loss):\n",
    "    \"\"\"Wrapper to combine both the losses\"\"\"\n",
    "\n",
    "    def __init__(self, num_classes):\n",
    "        super(NetLoss, self).__init__(reduction=\"auto\", name=\"NetLoss\")        \n",
    "        self._alignLoss = AlignLoss()\n",
    "        self._decodeLoss = DecodeLoss(num_classes)\n",
    "\n",
    "    def call(self, y_true, y_pred):\n",
    "        y_align = y_true[:, :6]\n",
    "        y_decoder = y_true[:, 6:]\n",
    "        \n",
    "        h_align = y_pred[:, :6]\n",
    "        h_decoder = y_pred[:, 6:]\n",
    "        \n",
    "        loss_align = self._alignLoss(y_align, h_align)\n",
    "        loss_decode = self._decodeLoss(y_decoder, h_decoder)        \n",
    "        loss = loss_align + loss_decode\n",
    "        return loss"
   ]
  },
  {
   "cell_type": "code",
   "execution_count": 423,
   "metadata": {},
   "outputs": [],
   "source": [
    "def load_weight():   \n",
    "    weights_dir = path_weight\n",
    "    #latest_checkpoint = tf.train.latest_checkpoint(weights_dir)\n",
    "    latest_checkpoint = weights_dir \n",
    "    print('latest_checkpoint', latest_checkpoint)\n",
    "    model.load_weights(weights_dir)"
   ]
  },
  {
   "cell_type": "code",
   "execution_count": 478,
   "metadata": {
    "scrolled": true
   },
   "outputs": [
    {
     "data": {
      "text/plain": [
       "(6251, 6251, list, (310, 670, 3), (36,))"
      ]
     },
     "execution_count": 478,
     "metadata": {},
     "output_type": "execute_result"
    }
   ],
   "source": [
    "input_list_train = x_list\n",
    "bbox_list_train = y_list\n",
    "len(input_list_train), len(bbox_list_train), type(input_list_train),input_list_train[0].shape, bbox_list_train[0].shape"
   ]
  },
  {
   "cell_type": "code",
   "execution_count": 479,
   "metadata": {},
   "outputs": [],
   "source": [
    "label_encoder = LabelEncoder()"
   ]
  },
  {
   "cell_type": "code",
   "execution_count": 480,
   "metadata": {},
   "outputs": [],
   "source": [
    "def distance(y_true, y_pred):\n",
    "    y_align = y_true[:, :6]\n",
    "    y_decoder = y_true[:, 6:]\n",
    "\n",
    "    h_align = y_pred[:, :6]\n",
    "    h_decoder = y_pred[:, 6:]\n",
    "    \n",
    "    return tf.reduce_mean(tf.abs(y_align - h_align))\n",
    "\n",
    "def _acc(y_true, y_pred):    \n",
    "    y_text = tf.cast(y_true[:, :max_sequence], tf.int64)\n",
    "    y_char_cxy = y_true[:, max_sequence:]\n",
    "    y_char_cxy = tf.reshape(y_char_cxy, [-1, max_sequence, 2])\n",
    "\n",
    "    h_char_cxy = y_pred[:, :, :2]\n",
    "    h_text_score = y_pred[:, :, 2:]\n",
    "    h_text = tf.argmax(h_text_score, -1)\n",
    "\n",
    "    valid_mask = y_text > -1    \n",
    "    \n",
    "    acc = tf.boolean_mask(tf.equal(y_text, h_text), valid_mask)    \n",
    "    return acc\n",
    "\n",
    "def accuracy(y_true, y_pred):\n",
    "    y_align = y_true[:, :6]\n",
    "    y_decoder = y_true[:, 6:]\n",
    "\n",
    "    h_align = y_pred[:, :6]\n",
    "    h_decoder = y_pred[:, 6:]\n",
    "    \n",
    "    h_decoder = tf.reshape(h_decoder, [-1, max_sequence, 2 + num_classes])        \n",
    "    #h_text = h_decoder[:, :, 2:]\n",
    "    #y_text = tf.cast(y_decoder[:, :max_sequence], tf.int64)\n",
    "    #y_char_cxy = y_decoder[:, max_sequence:]\n",
    "        \n",
    "    return _acc(y_decoder, h_decoder)\n",
    "\n",
    "\n",
    "def dist_vertex(y_true, y_pred):\n",
    "    y_align = y_true[:, :6]\n",
    "    y_decoder = y_true[:, 6:]\n",
    "\n",
    "    h_align = y_pred[:, :6]\n",
    "    h_decoder = y_pred[:, 6:]\n",
    "    \n",
    "    y_text = tf.cast(y_decoder[:, :max_sequence], tf.int64)\n",
    "    y_char_cxy = y_decoder[:, max_sequence:]\n",
    "    y_char_cxy = tf.reshape(y_char_cxy, [-1, max_sequence, 2])\n",
    "    \n",
    "    h_decoder = tf.reshape(h_decoder, [-1, max_sequence, 2 + num_classes])        \n",
    "    h_cxy = h_decoder[:,:,:2]\n",
    "    \n",
    "    valid_mask = y_text > -1    \n",
    "    dist = tf.reduce_mean(tf.abs(y_char_cxy - h_cxy), -1)\n",
    "    return tf.boolean_mask(dist, valid_mask)    "
   ]
  },
  {
   "cell_type": "code",
   "execution_count": 481,
   "metadata": {},
   "outputs": [],
   "source": [
    "def generator():\n",
    "    m = len(input_list_train)\n",
    "    \n",
    "    for i in range(m):\n",
    "        x = input_list_train[i]\n",
    "        y_box = bbox_list_train[i]        \n",
    "        yield (x, y_box)\n",
    "\n",
    "dataset = tf.data.Dataset.from_generator(\n",
    "    generator, \n",
    "    output_types=(tf.uint8, tf.float32), \n",
    "    output_shapes=(tf.TensorShape([None, None, 3]), tf.TensorShape([36])))"
   ]
  },
  {
   "cell_type": "markdown",
   "metadata": {},
   "source": [
    "def generator():\n",
    "    m = len(input_list_train)\n",
    "    for i in range(m):\n",
    "        x = input_list_train[i:i+1]\n",
    "        y_box = bbox_list_train[i:i+1]        \n",
    "        yield (x, y_box)\n",
    "\n",
    "dataset = tf.data.Dataset.from_generator(\n",
    "    generator, \n",
    "    output_types=(tf.uint8, tf.float32), \n",
    "    output_shapes=(tf.TensorShape([None, None, None, 3]), tf.TensorShape([None, 36])))"
   ]
  },
  {
   "cell_type": "code",
   "execution_count": 482,
   "metadata": {},
   "outputs": [
    {
     "name": "stdout",
     "output_type": "stream",
     "text": [
      "<FlatMapDataset shapes: ((None, None, 3), (36,)), types: (tf.uint8, tf.float32)>\n",
      "example 2\n"
     ]
    }
   ],
   "source": [
    "np.set_printoptions(precision=2)\n",
    "print(dataset)\n",
    "for example in tfds.as_numpy(dataset):\n",
    "    print('example', len(example))\n",
    "    image = example[0]\n",
    "    bbox = example[1]    \n",
    "    #print(image.dtype, bbox.dtype, image.shape, bbox.shape, bbox[0])\n",
    "    break"
   ]
  },
  {
   "cell_type": "code",
   "execution_count": 483,
   "metadata": {},
   "outputs": [],
   "source": [
    "batch_size = 1\n",
    "autotune = tf.data.experimental.AUTOTUNE\n",
    "train_dataset = dataset.map(preprocess_data, num_parallel_calls=autotune)\n",
    "#train_dataset = train_dataset.padded_batch(batch_size=batch_size, padding_values=(0.0, 1e-8, -1), drop_remainder=True)\n",
    "train_dataset = train_dataset.map(label_encoder.encode_batch, num_parallel_calls=autotune)\n",
    "train_dataset = train_dataset.apply(tf.data.experimental.ignore_errors())\n",
    "train_dataset = train_dataset.prefetch(autotune)\n"
   ]
  },
  {
   "cell_type": "code",
   "execution_count": 484,
   "metadata": {},
   "outputs": [
    {
     "name": "stdout",
     "output_type": "stream",
     "text": [
      "resnet_out (None, 6, 18, 256)\n",
      "net_h,net_w 6 18\n",
      "WARNING:tensorflow:Unresolved object in checkpoint: (root).optimizer.iter\n",
      "WARNING:tensorflow:Unresolved object in checkpoint: (root).optimizer.decay\n",
      "WARNING:tensorflow:Unresolved object in checkpoint: (root).optimizer.learning_rate\n",
      "WARNING:tensorflow:Unresolved object in checkpoint: (root).optimizer.momentum\n",
      "WARNING:tensorflow:A checkpoint was restored (e.g. tf.train.Checkpoint.restore or tf.keras.Model.load_weights) but not all checkpointed values were used. See above for specific issues. Use expect_partial() on the load status object, e.g. tf.train.Checkpoint.restore(...).expect_partial(), to silence these warnings, or use assert_consumed() to make the check explicit. See https://www.tensorflow.org/guide/checkpoint#loading_mechanics for details.\n",
      "1 Q (None, 1, 32) K (None, 6, 18, 32) V (None, 6, 18, 32)\n",
      "attention 0 Tensor(\"Reshape_2534:0\", shape=(None, 1, 6, 18), dtype=float32)\n",
      "2 Q (None, 2, 32) K (None, 6, 18, 32) V (None, 6, 18, 32)\n",
      "attention 1 Tensor(\"Reshape_2542:0\", shape=(None, 2, 6, 18), dtype=float32)\n",
      "3 Q (None, 3, 32) K (None, 6, 18, 32) V (None, 6, 18, 32)\n",
      "attention 2 Tensor(\"Reshape_2550:0\", shape=(None, 3, 6, 18), dtype=float32)\n",
      "4 Q (None, 4, 32) K (None, 6, 18, 32) V (None, 6, 18, 32)\n",
      "attention 3 Tensor(\"Reshape_2558:0\", shape=(None, 4, 6, 18), dtype=float32)\n",
      "5 Q (None, 5, 32) K (None, 6, 18, 32) V (None, 6, 18, 32)\n",
      "attention 4 Tensor(\"Reshape_2566:0\", shape=(None, 5, 6, 18), dtype=float32)\n",
      "6 Q (None, 6, 32) K (None, 6, 18, 32) V (None, 6, 18, 32)\n",
      "attention 5 Tensor(\"Reshape_2574:0\", shape=(None, 6, 6, 18), dtype=float32)\n",
      "7 Q (None, 7, 32) K (None, 6, 18, 32) V (None, 6, 18, 32)\n",
      "attention 6 Tensor(\"Reshape_2582:0\", shape=(None, 7, 6, 18), dtype=float32)\n",
      "8 Q (None, 8, 32) K (None, 6, 18, 32) V (None, 6, 18, 32)\n",
      "attention 7 Tensor(\"Reshape_2590:0\", shape=(None, 8, 6, 18), dtype=float32)\n",
      "9 Q (None, 9, 32) K (None, 6, 18, 32) V (None, 6, 18, 32)\n",
      "attention 8 Tensor(\"Reshape_2598:0\", shape=(None, 9, 6, 18), dtype=float32)\n",
      "decodeNet_out Tensor(\"re_lu_497/Relu:0\", shape=(None, 6, 18, 256), dtype=float32)\n",
      "decodeNet_out Tensor(\"Reshape_2598:0\", shape=(None, 9, 6, 18), dtype=float32)\n",
      "h_char_cxy_uv Tensor(\"Sum_344:0\", shape=(None, 9, 2), dtype=float32)\n",
      "final_output Tensor(\"concat_2844:0\", shape=(None, 1086), dtype=float32)\n"
     ]
    }
   ],
   "source": [
    "#optimizer = tf.optimizers.SGD(learning_rate=1e-5, clipvalue=10.)#warm up clipvalue=10. !\n",
    "optimizer = tf.optimizers.SGD(learning_rate=1e-0)#, clipvalue=10.\n",
    "loss_fn = NetLoss(num_classes)\n",
    "\n",
    "model = createModel(num_classes)\n",
    "model.compile(loss=loss_fn , optimizer=optimizer, metrics=[distance, dist_vertex,accuracy])#[distance, accuracy]\n",
    "\n",
    "callbacks_list = [\n",
    "    tf.keras.callbacks.ModelCheckpoint(\n",
    "        filepath=path_weight,\n",
    "        monitor=\"loss\",\n",
    "        save_best_only=False,\n",
    "        save_weights_only=True,\n",
    "        verbose=0,\n",
    "        save_freq=500\n",
    "    )\n",
    "]"
   ]
  },
  {
   "cell_type": "code",
   "execution_count": 485,
   "metadata": {},
   "outputs": [
    {
     "name": "stdout",
     "output_type": "stream",
     "text": [
      "latest_checkpoint model/LPR\n",
      "6251\n"
     ]
    }
   ],
   "source": [
    "load_weight()\n",
    "print(len(input_list_train))"
   ]
  },
  {
   "cell_type": "code",
   "execution_count": 490,
   "metadata": {
    "scrolled": true
   },
   "outputs": [
    {
     "name": "stdout",
     "output_type": "stream",
     "text": [
      "Epoch 1/10000\n",
      "6251/6251 [==============================] - 172s 27ms/step - loss: 2.9247 - distance: 0.0469 - dist_vertex: 0.2154 - accuracy: 0.1255\n",
      "Epoch 2/10000\n",
      "6251/6251 [==============================] - 172s 28ms/step - loss: 2.7136 - distance: 0.0461 - dist_vertex: 0.2073 - accuracy: 0.1357\n",
      "Epoch 3/10000\n",
      "6251/6251 [==============================] - 172s 28ms/step - loss: 2.5771 - distance: 0.0453 - dist_vertex: 0.2016 - accuracy: 0.1460\n",
      "Epoch 4/10000\n",
      "6251/6251 [==============================] - 172s 28ms/step - loss: 2.4300 - distance: 0.0445 - dist_vertex: 0.1975 - accuracy: 0.1539\n",
      "Epoch 5/10000\n",
      "6251/6251 [==============================] - 172s 28ms/step - loss: 2.2979 - distance: 0.0437 - dist_vertex: 0.1935 - accuracy: 0.1616\n",
      "Epoch 6/10000\n",
      "6251/6251 [==============================] - 170s 27ms/step - loss: 2.1634 - distance: 0.0434 - dist_vertex: 0.1890 - accuracy: 0.1701\n",
      "Epoch 7/10000\n",
      "6251/6251 [==============================] - 168s 27ms/step - loss: 2.0342 - distance: 0.0426 - dist_vertex: 0.1883 - accuracy: 0.1791\n",
      "Epoch 8/10000\n",
      "6251/6251 [==============================] - 168s 27ms/step - loss: 1.9114 - distance: 0.0421 - dist_vertex: 0.1851 - accuracy: 0.1880\n",
      "Epoch 9/10000\n",
      "6251/6251 [==============================] - 168s 27ms/step - loss: 1.8102 - distance: 0.0415 - dist_vertex: 0.1834 - accuracy: 0.1956\n",
      "Epoch 10/10000\n",
      "6251/6251 [==============================] - 168s 27ms/step - loss: 1.7076 - distance: 0.0410 - dist_vertex: 0.1809 - accuracy: 0.2036\n",
      "Epoch 11/10000\n",
      "6251/6251 [==============================] - 167s 27ms/step - loss: 1.6233 - distance: 0.0408 - dist_vertex: 0.1798 - accuracy: 0.2119\n",
      "Epoch 12/10000\n",
      "6251/6251 [==============================] - 167s 27ms/step - loss: 1.5438 - distance: 0.0403 - dist_vertex: 0.1767 - accuracy: 0.2206\n",
      "Epoch 13/10000\n",
      "6251/6251 [==============================] - 168s 27ms/step - loss: 1.4792 - distance: 0.0397 - dist_vertex: 0.1759 - accuracy: 0.2276\n",
      "Epoch 14/10000\n",
      "6251/6251 [==============================] - 167s 27ms/step - loss: 1.4065 - distance: 0.0395 - dist_vertex: 0.1743 - accuracy: 0.2316\n",
      "Epoch 15/10000\n",
      "6251/6251 [==============================] - 167s 27ms/step - loss: 1.3456 - distance: 0.0390 - dist_vertex: 0.1732 - accuracy: 0.2425\n",
      "Epoch 16/10000\n",
      "6251/6251 [==============================] - 167s 27ms/step - loss: 1.2934 - distance: 0.0384 - dist_vertex: 0.1702 - accuracy: 0.2475\n",
      "Epoch 17/10000\n",
      "6251/6251 [==============================] - 167s 27ms/step - loss: 1.2596 - distance: 0.0381 - dist_vertex: 0.1692 - accuracy: 0.2535\n",
      "Epoch 18/10000\n",
      "6251/6251 [==============================] - 167s 27ms/step - loss: 1.2163 - distance: 0.0378 - dist_vertex: 0.1663 - accuracy: 0.2613\n",
      "Epoch 19/10000\n",
      "6251/6251 [==============================] - 167s 27ms/step - loss: 1.1710 - distance: 0.0372 - dist_vertex: 0.1640 - accuracy: 0.2676\n",
      "Epoch 20/10000\n",
      "6251/6251 [==============================] - 167s 27ms/step - loss: 1.1567 - distance: 0.0371 - dist_vertex: 0.1624 - accuracy: 0.2704\n",
      "Epoch 21/10000\n",
      "6251/6251 [==============================] - 167s 27ms/step - loss: 1.1160 - distance: 0.0367 - dist_vertex: 0.1598 - accuracy: 0.2762\n",
      "Epoch 22/10000\n",
      "6251/6251 [==============================] - 168s 27ms/step - loss: 1.0854 - distance: 0.0364 - dist_vertex: 0.1573 - accuracy: 0.2811\n",
      "Epoch 23/10000\n",
      "6251/6251 [==============================] - 168s 27ms/step - loss: 1.0633 - distance: 0.0360 - dist_vertex: 0.1556 - accuracy: 0.2869\n",
      "Epoch 24/10000\n",
      "6251/6251 [==============================] - 167s 27ms/step - loss: 1.0388 - distance: 0.0359 - dist_vertex: 0.1532 - accuracy: 0.2912\n",
      "Epoch 25/10000\n",
      "6251/6251 [==============================] - 167s 27ms/step - loss: 1.0260 - distance: 0.0353 - dist_vertex: 0.1519 - accuracy: 0.2971\n",
      "Epoch 26/10000\n",
      "6251/6251 [==============================] - 167s 27ms/step - loss: 1.0104 - distance: 0.0352 - dist_vertex: 0.1499 - accuracy: 0.3004\n",
      "Epoch 27/10000\n",
      "6251/6251 [==============================] - 168s 27ms/step - loss: 0.9948 - distance: 0.0346 - dist_vertex: 0.1482 - accuracy: 0.3038\n",
      "Epoch 28/10000\n",
      "6251/6251 [==============================] - 167s 27ms/step - loss: 0.9732 - distance: 0.0345 - dist_vertex: 0.1460 - accuracy: 0.3089\n",
      "Epoch 29/10000\n",
      "6251/6251 [==============================] - 167s 27ms/step - loss: 0.9583 - distance: 0.0346 - dist_vertex: 0.1443 - accuracy: 0.3126\n",
      "Epoch 30/10000\n",
      "6251/6251 [==============================] - 167s 27ms/step - loss: 0.9440 - distance: 0.0342 - dist_vertex: 0.1426 - accuracy: 0.3173\n",
      "Epoch 31/10000\n",
      "6251/6251 [==============================] - 167s 27ms/step - loss: 0.9420 - distance: 0.0340 - dist_vertex: 0.1407 - accuracy: 0.3192\n",
      "Epoch 32/10000\n",
      "6251/6251 [==============================] - 167s 27ms/step - loss: 0.9149 - distance: 0.0333 - dist_vertex: 0.1392 - accuracy: 0.3230\n",
      "Epoch 33/10000\n",
      "6251/6251 [==============================] - 168s 27ms/step - loss: 0.9131 - distance: 0.0332 - dist_vertex: 0.1376 - accuracy: 0.3274\n",
      "Epoch 34/10000\n",
      "6251/6251 [==============================] - 167s 27ms/step - loss: 0.9044 - distance: 0.0331 - dist_vertex: 0.1365 - accuracy: 0.3299\n",
      "Epoch 35/10000\n",
      "6251/6251 [==============================] - 167s 27ms/step - loss: 0.8938 - distance: 0.0324 - dist_vertex: 0.1350 - accuracy: 0.3328\n",
      "Epoch 36/10000\n",
      "6251/6251 [==============================] - 167s 27ms/step - loss: 0.8875 - distance: 0.0325 - dist_vertex: 0.1335 - accuracy: 0.3365\n",
      "Epoch 37/10000\n",
      "6251/6251 [==============================] - 167s 27ms/step - loss: 0.8808 - distance: 0.0318 - dist_vertex: 0.1324 - accuracy: 0.3397\n",
      "Epoch 38/10000\n",
      "6251/6251 [==============================] - 167s 27ms/step - loss: 0.8686 - distance: 0.0319 - dist_vertex: 0.1308 - accuracy: 0.3426\n",
      "Epoch 39/10000\n",
      "6251/6251 [==============================] - 167s 27ms/step - loss: 0.8675 - distance: 0.0318 - dist_vertex: 0.1302 - accuracy: 0.3459\n",
      "Epoch 40/10000\n",
      "6251/6251 [==============================] - 167s 27ms/step - loss: 0.8648 - distance: 0.0316 - dist_vertex: 0.1293 - accuracy: 0.3474\n",
      "Epoch 41/10000\n",
      "6251/6251 [==============================] - 168s 27ms/step - loss: 0.8567 - distance: 0.0314 - dist_vertex: 0.1280 - accuracy: 0.3526\n",
      "Epoch 42/10000\n",
      "6251/6251 [==============================] - 168s 27ms/step - loss: 0.8485 - distance: 0.0311 - dist_vertex: 0.1273 - accuracy: 0.3535\n",
      "Epoch 43/10000\n",
      "6251/6251 [==============================] - 167s 27ms/step - loss: 0.8350 - distance: 0.0307 - dist_vertex: 0.1266 - accuracy: 0.3574\n",
      "Epoch 44/10000\n",
      "6251/6251 [==============================] - 167s 27ms/step - loss: 0.8438 - distance: 0.0305 - dist_vertex: 0.1257 - accuracy: 0.3585\n",
      "Epoch 45/10000\n",
      "6251/6251 [==============================] - 168s 27ms/step - loss: 0.8279 - distance: 0.0302 - dist_vertex: 0.1242 - accuracy: 0.3640\n",
      "Epoch 46/10000\n",
      "6251/6251 [==============================] - 167s 27ms/step - loss: 0.8255 - distance: 0.0300 - dist_vertex: 0.1238 - accuracy: 0.3652\n",
      "Epoch 47/10000\n",
      "6251/6251 [==============================] - 167s 27ms/step - loss: 0.8206 - distance: 0.0298 - dist_vertex: 0.1219 - accuracy: 0.3689\n",
      "Epoch 48/10000\n",
      "6251/6251 [==============================] - 167s 27ms/step - loss: 0.8223 - distance: 0.0295 - dist_vertex: 0.1216 - accuracy: 0.3700\n",
      "Epoch 49/10000\n",
      "6251/6251 [==============================] - 167s 27ms/step - loss: 0.8189 - distance: 0.0296 - dist_vertex: 0.1213 - accuracy: 0.3738\n",
      "Epoch 50/10000\n",
      "6251/6251 [==============================] - 167s 27ms/step - loss: 0.8131 - distance: 0.0291 - dist_vertex: 0.1205 - accuracy: 0.3770\n",
      "Epoch 51/10000\n",
      "6251/6251 [==============================] - 167s 27ms/step - loss: 0.8077 - distance: 0.0290 - dist_vertex: 0.1197 - accuracy: 0.3799\n",
      "Epoch 52/10000\n",
      "6251/6251 [==============================] - 167s 27ms/step - loss: 0.8106 - distance: 0.0287 - dist_vertex: 0.1191 - accuracy: 0.3829\n",
      "Epoch 53/10000\n",
      "6251/6251 [==============================] - 168s 27ms/step - loss: 0.8011 - distance: 0.0284 - dist_vertex: 0.1179 - accuracy: 0.3844\n",
      "Epoch 54/10000\n",
      "6251/6251 [==============================] - 167s 27ms/step - loss: 0.7997 - distance: 0.0283 - dist_vertex: 0.1172 - accuracy: 0.3867\n",
      "Epoch 55/10000\n"
     ]
    },
    {
     "name": "stdout",
     "output_type": "stream",
     "text": [
      "6251/6251 [==============================] - 167s 27ms/step - loss: 0.7943 - distance: 0.0278 - dist_vertex: 0.1167 - accuracy: 0.3902\n",
      "Epoch 56/10000\n",
      "6251/6251 [==============================] - 167s 27ms/step - loss: 0.7907 - distance: 0.0276 - dist_vertex: 0.1152 - accuracy: 0.3932\n",
      "Epoch 57/10000\n",
      "6251/6251 [==============================] - 167s 27ms/step - loss: 0.7914 - distance: 0.0273 - dist_vertex: 0.1150 - accuracy: 0.3950\n",
      "Epoch 58/10000\n",
      "6251/6251 [==============================] - 167s 27ms/step - loss: 0.7843 - distance: 0.0272 - dist_vertex: 0.1146 - accuracy: 0.3970\n",
      "Epoch 59/10000\n",
      "6251/6251 [==============================] - 167s 27ms/step - loss: 0.7765 - distance: 0.0270 - dist_vertex: 0.1137 - accuracy: 0.4000\n",
      "Epoch 60/10000\n",
      "6251/6251 [==============================] - 167s 27ms/step - loss: 0.7738 - distance: 0.0267 - dist_vertex: 0.1130 - accuracy: 0.4013\n",
      "Epoch 61/10000\n",
      "6251/6251 [==============================] - 168s 27ms/step - loss: 0.7705 - distance: 0.0267 - dist_vertex: 0.1121 - accuracy: 0.4028\n",
      "Epoch 62/10000\n",
      "6251/6251 [==============================] - 167s 27ms/step - loss: 0.7700 - distance: 0.0264 - dist_vertex: 0.1114 - accuracy: 0.4093\n",
      "Epoch 63/10000\n",
      "6251/6251 [==============================] - 167s 27ms/step - loss: 0.7681 - distance: 0.0261 - dist_vertex: 0.1108 - accuracy: 0.4108\n",
      "Epoch 64/10000\n",
      "6251/6251 [==============================] - 167s 27ms/step - loss: 0.7602 - distance: 0.0258 - dist_vertex: 0.1100 - accuracy: 0.4106\n",
      "Epoch 65/10000\n",
      "6251/6251 [==============================] - 167s 27ms/step - loss: 0.7607 - distance: 0.0257 - dist_vertex: 0.1090 - accuracy: 0.4141\n",
      "Epoch 66/10000\n",
      "6251/6251 [==============================] - 167s 27ms/step - loss: 0.7605 - distance: 0.0255 - dist_vertex: 0.1091 - accuracy: 0.4186\n",
      "Epoch 67/10000\n",
      "6251/6251 [==============================] - 169s 27ms/step - loss: 0.7577 - distance: 0.0253 - dist_vertex: 0.1083 - accuracy: 0.4211\n",
      "Epoch 68/10000\n",
      "6251/6251 [==============================] - 167s 27ms/step - loss: 0.7589 - distance: 0.0251 - dist_vertex: 0.1077 - accuracy: 0.4206\n",
      "Epoch 69/10000\n",
      "6251/6251 [==============================] - 168s 27ms/step - loss: 0.7552 - distance: 0.0249 - dist_vertex: 0.1075 - accuracy: 0.4261\n",
      "Epoch 70/10000\n",
      "6251/6251 [==============================] - 167s 27ms/step - loss: 0.7513 - distance: 0.0250 - dist_vertex: 0.1068 - accuracy: 0.4271\n",
      "Epoch 71/10000\n",
      "6251/6251 [==============================] - 168s 27ms/step - loss: 0.7460 - distance: 0.0247 - dist_vertex: 0.1063 - accuracy: 0.4309\n",
      "Epoch 72/10000\n",
      "6251/6251 [==============================] - 167s 27ms/step - loss: 0.7403 - distance: 0.0245 - dist_vertex: 0.1056 - accuracy: 0.4348\n",
      "Epoch 73/10000\n",
      "6251/6251 [==============================] - 167s 27ms/step - loss: 0.7398 - distance: 0.0242 - dist_vertex: 0.1053 - accuracy: 0.4367\n",
      "Epoch 74/10000\n",
      "6251/6251 [==============================] - 167s 27ms/step - loss: 0.7380 - distance: 0.0240 - dist_vertex: 0.1052 - accuracy: 0.4409\n",
      "Epoch 75/10000\n",
      "6251/6251 [==============================] - 167s 27ms/step - loss: 0.7337 - distance: 0.0237 - dist_vertex: 0.1045 - accuracy: 0.4444\n",
      "Epoch 76/10000\n",
      "6251/6251 [==============================] - 168s 27ms/step - loss: 0.7303 - distance: 0.0237 - dist_vertex: 0.1038 - accuracy: 0.4454\n",
      "Epoch 77/10000\n",
      "6251/6251 [==============================] - 167s 27ms/step - loss: 0.7323 - distance: 0.0235 - dist_vertex: 0.1041 - accuracy: 0.4475\n",
      "Epoch 78/10000\n",
      "6251/6251 [==============================] - 167s 27ms/step - loss: 0.7234 - distance: 0.0232 - dist_vertex: 0.1034 - accuracy: 0.4484\n",
      "Epoch 79/10000\n",
      "6251/6251 [==============================] - 167s 27ms/step - loss: 0.7267 - distance: 0.0229 - dist_vertex: 0.1031 - accuracy: 0.4558\n",
      "Epoch 80/10000\n",
      "6251/6251 [==============================] - 168s 27ms/step - loss: 0.7206 - distance: 0.0229 - dist_vertex: 0.1027 - accuracy: 0.4587\n",
      "Epoch 81/10000\n",
      "6251/6251 [==============================] - 167s 27ms/step - loss: 0.7186 - distance: 0.0225 - dist_vertex: 0.1026 - accuracy: 0.4590\n",
      "Epoch 82/10000\n",
      "6251/6251 [==============================] - 168s 27ms/step - loss: 0.7164 - distance: 0.0226 - dist_vertex: 0.1021 - accuracy: 0.4607\n",
      "Epoch 83/10000\n",
      "6251/6251 [==============================] - 167s 27ms/step - loss: 0.7159 - distance: 0.0223 - dist_vertex: 0.1023 - accuracy: 0.4635\n",
      "Epoch 84/10000\n",
      "6251/6251 [==============================] - 167s 27ms/step - loss: 0.7053 - distance: 0.0223 - dist_vertex: 0.1016 - accuracy: 0.4692\n",
      "Epoch 85/10000\n",
      "6251/6251 [==============================] - 167s 27ms/step - loss: 0.7082 - distance: 0.0221 - dist_vertex: 0.1018 - accuracy: 0.4697\n",
      "Epoch 86/10000\n",
      "6251/6251 [==============================] - 168s 27ms/step - loss: 0.7059 - distance: 0.0219 - dist_vertex: 0.1006 - accuracy: 0.4741\n",
      "Epoch 87/10000\n",
      "6251/6251 [==============================] - 167s 27ms/step - loss: 0.7053 - distance: 0.0217 - dist_vertex: 0.1005 - accuracy: 0.4769\n",
      "Epoch 88/10000\n",
      "6251/6251 [==============================] - 168s 27ms/step - loss: 0.7023 - distance: 0.0217 - dist_vertex: 0.1002 - accuracy: 0.4770\n",
      "Epoch 89/10000\n",
      "6251/6251 [==============================] - 167s 27ms/step - loss: 0.6957 - distance: 0.0214 - dist_vertex: 0.1002 - accuracy: 0.4828\n",
      "Epoch 90/10000\n",
      "6251/6251 [==============================] - 168s 27ms/step - loss: 0.6930 - distance: 0.0213 - dist_vertex: 0.0997 - accuracy: 0.4867\n",
      "Epoch 91/10000\n",
      "6251/6251 [==============================] - 167s 27ms/step - loss: 0.6926 - distance: 0.0210 - dist_vertex: 0.1002 - accuracy: 0.4844\n",
      "Epoch 92/10000\n",
      "6251/6251 [==============================] - 167s 27ms/step - loss: 0.6891 - distance: 0.0210 - dist_vertex: 0.0998 - accuracy: 0.4918\n",
      "Epoch 93/10000\n",
      "6251/6251 [==============================] - 167s 27ms/step - loss: 0.6870 - distance: 0.0209 - dist_vertex: 0.0995 - accuracy: 0.4957\n",
      "Epoch 94/10000\n",
      "6251/6251 [==============================] - 168s 27ms/step - loss: 0.6845 - distance: 0.0207 - dist_vertex: 0.0991 - accuracy: 0.4947\n",
      "Epoch 95/10000\n",
      "6251/6251 [==============================] - 167s 27ms/step - loss: 0.6823 - distance: 0.0206 - dist_vertex: 0.0990 - accuracy: 0.4998\n",
      "Epoch 96/10000\n",
      "6251/6251 [==============================] - 168s 27ms/step - loss: 0.6842 - distance: 0.0204 - dist_vertex: 0.0989 - accuracy: 0.5003\n",
      "Epoch 97/10000\n",
      "6251/6251 [==============================] - 167s 27ms/step - loss: 0.6818 - distance: 0.0202 - dist_vertex: 0.0983 - accuracy: 0.5066\n",
      "Epoch 98/10000\n",
      "6251/6251 [==============================] - 167s 27ms/step - loss: 0.6778 - distance: 0.0203 - dist_vertex: 0.0983 - accuracy: 0.5101\n",
      "Epoch 99/10000\n",
      "6251/6251 [==============================] - 167s 27ms/step - loss: 0.6813 - distance: 0.0201 - dist_vertex: 0.0983 - accuracy: 0.5109\n",
      "Epoch 100/10000\n",
      "6251/6251 [==============================] - 168s 27ms/step - loss: 0.6726 - distance: 0.0199 - dist_vertex: 0.0985 - accuracy: 0.5155\n",
      "Epoch 101/10000\n",
      "6251/6251 [==============================] - 167s 27ms/step - loss: 0.6821 - distance: 0.0199 - dist_vertex: 0.0982 - accuracy: 0.5185\n",
      "Epoch 102/10000\n",
      "6251/6251 [==============================] - 167s 27ms/step - loss: 0.6653 - distance: 0.0197 - dist_vertex: 0.0976 - accuracy: 0.5193\n",
      "Epoch 103/10000\n",
      "6251/6251 [==============================] - 167s 27ms/step - loss: 0.6699 - distance: 0.0196 - dist_vertex: 0.0978 - accuracy: 0.5209\n",
      "Epoch 104/10000\n",
      "6251/6251 [==============================] - 168s 27ms/step - loss: 0.6604 - distance: 0.0193 - dist_vertex: 0.0974 - accuracy: 0.5258\n",
      "Epoch 105/10000\n",
      "6251/6251 [==============================] - 167s 27ms/step - loss: 0.6578 - distance: 0.0194 - dist_vertex: 0.0975 - accuracy: 0.5307\n",
      "Epoch 106/10000\n",
      "6251/6251 [==============================] - 167s 27ms/step - loss: 0.6555 - distance: 0.0193 - dist_vertex: 0.0973 - accuracy: 0.5334\n",
      "Epoch 107/10000\n",
      "6251/6251 [==============================] - 167s 27ms/step - loss: 0.6513 - distance: 0.0190 - dist_vertex: 0.0971 - accuracy: 0.5364\n",
      "Epoch 108/10000\n",
      "6251/6251 [==============================] - 167s 27ms/step - loss: 0.6476 - distance: 0.0192 - dist_vertex: 0.0973 - accuracy: 0.5382\n",
      "Epoch 109/10000\n"
     ]
    },
    {
     "name": "stdout",
     "output_type": "stream",
     "text": [
      "6251/6251 [==============================] - 167s 27ms/step - loss: 0.6539 - distance: 0.0189 - dist_vertex: 0.0974 - accuracy: 0.5423\n",
      "Epoch 110/10000\n",
      "6251/6251 [==============================] - 168s 27ms/step - loss: 0.6513 - distance: 0.0188 - dist_vertex: 0.0973 - accuracy: 0.5450\n",
      "Epoch 111/10000\n",
      "6251/6251 [==============================] - 167s 27ms/step - loss: 0.6480 - distance: 0.0189 - dist_vertex: 0.0968 - accuracy: 0.5470\n",
      "Epoch 112/10000\n",
      "6251/6251 [==============================] - 168s 27ms/step - loss: 0.6377 - distance: 0.0188 - dist_vertex: 0.0966 - accuracy: 0.5496\n",
      "Epoch 113/10000\n",
      "6251/6251 [==============================] - 167s 27ms/step - loss: 0.6347 - distance: 0.0185 - dist_vertex: 0.0964 - accuracy: 0.5524\n",
      "Epoch 114/10000\n",
      "6251/6251 [==============================] - 167s 27ms/step - loss: 0.6336 - distance: 0.0186 - dist_vertex: 0.0964 - accuracy: 0.5549\n",
      "Epoch 115/10000\n",
      "6251/6251 [==============================] - 167s 27ms/step - loss: 0.6351 - distance: 0.0184 - dist_vertex: 0.0961 - accuracy: 0.5586\n",
      "Epoch 116/10000\n",
      "6251/6251 [==============================] - 168s 27ms/step - loss: 0.6360 - distance: 0.0183 - dist_vertex: 0.0961 - accuracy: 0.5611\n",
      "Epoch 117/10000\n",
      "6251/6251 [==============================] - 167s 27ms/step - loss: 0.6263 - distance: 0.0182 - dist_vertex: 0.0955 - accuracy: 0.5657\n",
      "Epoch 118/10000\n",
      "6251/6251 [==============================] - 167s 27ms/step - loss: 0.6303 - distance: 0.0180 - dist_vertex: 0.0957 - accuracy: 0.5684\n",
      "Epoch 119/10000\n",
      "6251/6251 [==============================] - 167s 27ms/step - loss: 0.6236 - distance: 0.0181 - dist_vertex: 0.0958 - accuracy: 0.5717\n",
      "Epoch 120/10000\n",
      "6251/6251 [==============================] - 167s 27ms/step - loss: 0.6213 - distance: 0.0179 - dist_vertex: 0.0953 - accuracy: 0.5748\n",
      "Epoch 121/10000\n",
      "6251/6251 [==============================] - 167s 27ms/step - loss: 0.6221 - distance: 0.0179 - dist_vertex: 0.0955 - accuracy: 0.5758\n",
      "Epoch 122/10000\n",
      "6251/6251 [==============================] - 167s 27ms/step - loss: 0.6171 - distance: 0.0178 - dist_vertex: 0.0953 - accuracy: 0.5791\n",
      "Epoch 123/10000\n",
      "6251/6251 [==============================] - 167s 27ms/step - loss: 0.6206 - distance: 0.0177 - dist_vertex: 0.0954 - accuracy: 0.5842\n",
      "Epoch 124/10000\n",
      "6251/6251 [==============================] - 167s 27ms/step - loss: 0.6087 - distance: 0.0175 - dist_vertex: 0.0949 - accuracy: 0.5832\n",
      "Epoch 125/10000\n",
      "6251/6251 [==============================] - 167s 27ms/step - loss: 0.6161 - distance: 0.0175 - dist_vertex: 0.0950 - accuracy: 0.5891\n",
      "Epoch 126/10000\n",
      "6251/6251 [==============================] - 167s 27ms/step - loss: 0.6102 - distance: 0.0175 - dist_vertex: 0.0948 - accuracy: 0.5900\n",
      "Epoch 127/10000\n",
      "6251/6251 [==============================] - 167s 27ms/step - loss: 0.6020 - distance: 0.0174 - dist_vertex: 0.0948 - accuracy: 0.5953\n",
      "Epoch 128/10000\n",
      "6251/6251 [==============================] - 168s 27ms/step - loss: 0.6016 - distance: 0.0174 - dist_vertex: 0.0945 - accuracy: 0.5970\n",
      "Epoch 129/10000\n",
      "6251/6251 [==============================] - 168s 27ms/step - loss: 0.5971 - distance: 0.0172 - dist_vertex: 0.0944 - accuracy: 0.6004\n",
      "Epoch 130/10000\n",
      "6251/6251 [==============================] - 167s 27ms/step - loss: 0.6025 - distance: 0.0172 - dist_vertex: 0.0948 - accuracy: 0.6035\n",
      "Epoch 131/10000\n",
      "6251/6251 [==============================] - 167s 27ms/step - loss: 0.5928 - distance: 0.0171 - dist_vertex: 0.0942 - accuracy: 0.6064\n",
      "Epoch 132/10000\n",
      "6251/6251 [==============================] - 167s 27ms/step - loss: 0.5886 - distance: 0.0169 - dist_vertex: 0.0941 - accuracy: 0.6119\n",
      "Epoch 133/10000\n",
      "6251/6251 [==============================] - 167s 27ms/step - loss: 0.5922 - distance: 0.0170 - dist_vertex: 0.0943 - accuracy: 0.6113\n",
      "Epoch 134/10000\n",
      "6251/6251 [==============================] - 167s 27ms/step - loss: 0.5839 - distance: 0.0168 - dist_vertex: 0.0937 - accuracy: 0.6158\n",
      "Epoch 135/10000\n",
      "6251/6251 [==============================] - 167s 27ms/step - loss: 0.5850 - distance: 0.0168 - dist_vertex: 0.0937 - accuracy: 0.6197\n",
      "Epoch 136/10000\n",
      "6251/6251 [==============================] - 167s 27ms/step - loss: 0.5843 - distance: 0.0168 - dist_vertex: 0.0938 - accuracy: 0.6187\n",
      "Epoch 137/10000\n",
      "6251/6251 [==============================] - 167s 27ms/step - loss: 0.5823 - distance: 0.0167 - dist_vertex: 0.0934 - accuracy: 0.6243\n",
      "Epoch 138/10000\n",
      "6251/6251 [==============================] - 168s 27ms/step - loss: 0.5727 - distance: 0.0164 - dist_vertex: 0.0930 - accuracy: 0.6312\n",
      "Epoch 139/10000\n",
      "6251/6251 [==============================] - 167s 27ms/step - loss: 0.5737 - distance: 0.0166 - dist_vertex: 0.0933 - accuracy: 0.6332\n",
      "Epoch 140/10000\n",
      "6251/6251 [==============================] - 167s 27ms/step - loss: 0.5756 - distance: 0.0165 - dist_vertex: 0.0932 - accuracy: 0.6338\n",
      "Epoch 141/10000\n",
      "6251/6251 [==============================] - 167s 27ms/step - loss: 0.5683 - distance: 0.0165 - dist_vertex: 0.0929 - accuracy: 0.6403\n",
      "Epoch 142/10000\n",
      "6251/6251 [==============================] - 168s 27ms/step - loss: 0.5645 - distance: 0.0164 - dist_vertex: 0.0929 - accuracy: 0.6399\n",
      "Epoch 143/10000\n",
      "6251/6251 [==============================] - 167s 27ms/step - loss: 0.5655 - distance: 0.0163 - dist_vertex: 0.0928 - accuracy: 0.6418\n",
      "Epoch 144/10000\n",
      "6251/6251 [==============================] - 168s 27ms/step - loss: 0.5635 - distance: 0.0162 - dist_vertex: 0.0930 - accuracy: 0.6496\n",
      "Epoch 145/10000\n",
      "6251/6251 [==============================] - 167s 27ms/step - loss: 0.5593 - distance: 0.0163 - dist_vertex: 0.0927 - accuracy: 0.6534\n",
      "Epoch 146/10000\n",
      "6251/6251 [==============================] - 168s 27ms/step - loss: 0.5542 - distance: 0.0161 - dist_vertex: 0.0920 - accuracy: 0.6571\n",
      "Epoch 147/10000\n",
      "6251/6251 [==============================] - 167s 27ms/step - loss: 0.5493 - distance: 0.0160 - dist_vertex: 0.0922 - accuracy: 0.6555\n",
      "Epoch 148/10000\n",
      "6251/6251 [==============================] - 168s 27ms/step - loss: 0.5432 - distance: 0.0160 - dist_vertex: 0.0917 - accuracy: 0.6610\n",
      "Epoch 149/10000\n",
      "6251/6251 [==============================] - 167s 27ms/step - loss: 0.5492 - distance: 0.0160 - dist_vertex: 0.0920 - accuracy: 0.6609\n",
      "Epoch 150/10000\n",
      "6251/6251 [==============================] - 169s 27ms/step - loss: 0.5432 - distance: 0.0159 - dist_vertex: 0.0919 - accuracy: 0.6685\n",
      "Epoch 151/10000\n",
      "6251/6251 [==============================] - 167s 27ms/step - loss: 0.5353 - distance: 0.0158 - dist_vertex: 0.0919 - accuracy: 0.6728\n",
      "Epoch 152/10000\n",
      "6251/6251 [==============================] - 168s 27ms/step - loss: 0.5317 - distance: 0.0158 - dist_vertex: 0.0916 - accuracy: 0.6729\n",
      "Epoch 153/10000\n",
      "6251/6251 [==============================] - 167s 27ms/step - loss: 0.5321 - distance: 0.0157 - dist_vertex: 0.0920 - accuracy: 0.6760\n",
      "Epoch 154/10000\n",
      "6251/6251 [==============================] - 167s 27ms/step - loss: 0.5259 - distance: 0.0156 - dist_vertex: 0.0914 - accuracy: 0.6770\n",
      "Epoch 155/10000\n",
      "6251/6251 [==============================] - 167s 27ms/step - loss: 0.5265 - distance: 0.0157 - dist_vertex: 0.0920 - accuracy: 0.6782\n",
      "Epoch 156/10000\n",
      "6251/6251 [==============================] - 167s 27ms/step - loss: 0.5283 - distance: 0.0157 - dist_vertex: 0.0914 - accuracy: 0.6823\n",
      "Epoch 157/10000\n",
      "6251/6251 [==============================] - 168s 27ms/step - loss: 0.5240 - distance: 0.0156 - dist_vertex: 0.0915 - accuracy: 0.6872\n",
      "Epoch 158/10000\n",
      "6251/6251 [==============================] - 167s 27ms/step - loss: 0.5227 - distance: 0.0154 - dist_vertex: 0.0914 - accuracy: 0.6909\n",
      "Epoch 159/10000\n",
      "6251/6251 [==============================] - 167s 27ms/step - loss: 0.5182 - distance: 0.0154 - dist_vertex: 0.0913 - accuracy: 0.6949\n",
      "Epoch 160/10000\n",
      "6251/6251 [==============================] - 167s 27ms/step - loss: 0.5151 - distance: 0.0156 - dist_vertex: 0.0910 - accuracy: 0.6970\n",
      "Epoch 161/10000\n",
      "6251/6251 [==============================] - 167s 27ms/step - loss: 0.5166 - distance: 0.0153 - dist_vertex: 0.0910 - accuracy: 0.6995\n",
      "Epoch 162/10000\n",
      "6251/6251 [==============================] - 168s 27ms/step - loss: 0.5077 - distance: 0.0152 - dist_vertex: 0.0907 - accuracy: 0.7004\n",
      "Epoch 163/10000\n"
     ]
    },
    {
     "name": "stdout",
     "output_type": "stream",
     "text": [
      "6251/6251 [==============================] - 167s 27ms/step - loss: 0.5050 - distance: 0.0153 - dist_vertex: 0.0908 - accuracy: 0.7068\n",
      "Epoch 164/10000\n",
      "6251/6251 [==============================] - 168s 27ms/step - loss: 0.4974 - distance: 0.0152 - dist_vertex: 0.0906 - accuracy: 0.7114\n",
      "Epoch 165/10000\n",
      "6251/6251 [==============================] - 167s 27ms/step - loss: 0.4969 - distance: 0.0151 - dist_vertex: 0.0908 - accuracy: 0.7103\n",
      "Epoch 166/10000\n",
      "6251/6251 [==============================] - 167s 27ms/step - loss: 0.4969 - distance: 0.0151 - dist_vertex: 0.0904 - accuracy: 0.7123\n",
      "Epoch 167/10000\n",
      "6251/6251 [==============================] - 167s 27ms/step - loss: 0.4942 - distance: 0.0150 - dist_vertex: 0.0904 - accuracy: 0.7139\n",
      "Epoch 168/10000\n",
      "6251/6251 [==============================] - 167s 27ms/step - loss: 0.4912 - distance: 0.0151 - dist_vertex: 0.0900 - accuracy: 0.7227\n",
      "Epoch 169/10000\n",
      "6251/6251 [==============================] - 167s 27ms/step - loss: 0.4865 - distance: 0.0150 - dist_vertex: 0.0901 - accuracy: 0.7211\n",
      "Epoch 170/10000\n",
      "6251/6251 [==============================] - 168s 27ms/step - loss: 0.4846 - distance: 0.0149 - dist_vertex: 0.0902 - accuracy: 0.7216\n",
      "Epoch 171/10000\n",
      "6251/6251 [==============================] - 167s 27ms/step - loss: 0.4831 - distance: 0.0149 - dist_vertex: 0.0897 - accuracy: 0.7264\n",
      "Epoch 172/10000\n",
      "6251/6251 [==============================] - 167s 27ms/step - loss: 0.4760 - distance: 0.0148 - dist_vertex: 0.0896 - accuracy: 0.7315\n",
      "Epoch 173/10000\n",
      "6251/6251 [==============================] - 167s 27ms/step - loss: 0.4740 - distance: 0.0148 - dist_vertex: 0.0895 - accuracy: 0.7353\n",
      "Epoch 174/10000\n",
      "6251/6251 [==============================] - 168s 27ms/step - loss: 0.4710 - distance: 0.0147 - dist_vertex: 0.0894 - accuracy: 0.7364\n",
      "Epoch 175/10000\n",
      "6251/6251 [==============================] - 168s 27ms/step - loss: 0.4636 - distance: 0.0148 - dist_vertex: 0.0894 - accuracy: 0.7403\n",
      "Epoch 176/10000\n",
      "6251/6251 [==============================] - 168s 27ms/step - loss: 0.4668 - distance: 0.0147 - dist_vertex: 0.0893 - accuracy: 0.7411\n",
      "Epoch 177/10000\n",
      "6251/6251 [==============================] - 167s 27ms/step - loss: 0.4663 - distance: 0.0146 - dist_vertex: 0.0891 - accuracy: 0.7422\n",
      "Epoch 178/10000\n",
      "6251/6251 [==============================] - 167s 27ms/step - loss: 0.4629 - distance: 0.0147 - dist_vertex: 0.0892 - accuracy: 0.7439\n",
      "Epoch 179/10000\n",
      "6251/6251 [==============================] - 167s 27ms/step - loss: 0.4562 - distance: 0.0146 - dist_vertex: 0.0891 - accuracy: 0.7489\n",
      "Epoch 180/10000\n",
      "6251/6251 [==============================] - 168s 27ms/step - loss: 0.4569 - distance: 0.0145 - dist_vertex: 0.0891 - accuracy: 0.7506\n",
      "Epoch 181/10000\n",
      "6251/6251 [==============================] - 167s 27ms/step - loss: 0.4540 - distance: 0.0145 - dist_vertex: 0.0887 - accuracy: 0.7533\n",
      "Epoch 182/10000\n",
      "6251/6251 [==============================] - 167s 27ms/step - loss: 0.4550 - distance: 0.0145 - dist_vertex: 0.0887 - accuracy: 0.7511\n",
      "Epoch 183/10000\n",
      "6251/6251 [==============================] - 167s 27ms/step - loss: 0.4455 - distance: 0.0144 - dist_vertex: 0.0885 - accuracy: 0.7579\n",
      "Epoch 184/10000\n",
      "6251/6251 [==============================] - 168s 27ms/step - loss: 0.4443 - distance: 0.0145 - dist_vertex: 0.0887 - accuracy: 0.7579\n",
      "Epoch 185/10000\n",
      "6251/6251 [==============================] - 167s 27ms/step - loss: 0.4373 - distance: 0.0143 - dist_vertex: 0.0880 - accuracy: 0.7642\n",
      "Epoch 186/10000\n",
      "6251/6251 [==============================] - 168s 27ms/step - loss: 0.4435 - distance: 0.0143 - dist_vertex: 0.0883 - accuracy: 0.7631\n",
      "Epoch 187/10000\n",
      "6251/6251 [==============================] - 167s 27ms/step - loss: 0.4350 - distance: 0.0142 - dist_vertex: 0.0880 - accuracy: 0.7681\n",
      "Epoch 188/10000\n",
      "6251/6251 [==============================] - 167s 27ms/step - loss: 0.4259 - distance: 0.0143 - dist_vertex: 0.0878 - accuracy: 0.7733\n",
      "Epoch 189/10000\n",
      "6251/6251 [==============================] - 167s 27ms/step - loss: 0.4279 - distance: 0.0143 - dist_vertex: 0.0879 - accuracy: 0.7734\n",
      "Epoch 190/10000\n",
      "6251/6251 [==============================] - 167s 27ms/step - loss: 0.4189 - distance: 0.0141 - dist_vertex: 0.0873 - accuracy: 0.7764\n",
      "Epoch 191/10000\n",
      "6251/6251 [==============================] - 167s 27ms/step - loss: 0.4258 - distance: 0.0142 - dist_vertex: 0.0878 - accuracy: 0.7750\n",
      "Epoch 192/10000\n",
      "6251/6251 [==============================] - 167s 27ms/step - loss: 0.4290 - distance: 0.0141 - dist_vertex: 0.0878 - accuracy: 0.7759\n",
      "Epoch 193/10000\n",
      "6251/6251 [==============================] - 167s 27ms/step - loss: 0.4165 - distance: 0.0141 - dist_vertex: 0.0873 - accuracy: 0.7820\n",
      "Epoch 194/10000\n",
      "6251/6251 [==============================] - 170s 27ms/step - loss: 0.4107 - distance: 0.0140 - dist_vertex: 0.0873 - accuracy: 0.7857\n",
      "Epoch 195/10000\n",
      "6251/6251 [==============================] - 167s 27ms/step - loss: 0.4114 - distance: 0.0139 - dist_vertex: 0.0872 - accuracy: 0.7876\n",
      "Epoch 196/10000\n",
      "6251/6251 [==============================] - 167s 27ms/step - loss: 0.4122 - distance: 0.0140 - dist_vertex: 0.0870 - accuracy: 0.7875\n",
      "Epoch 197/10000\n",
      "6251/6251 [==============================] - 167s 27ms/step - loss: 0.4165 - distance: 0.0140 - dist_vertex: 0.0869 - accuracy: 0.7883\n",
      "Epoch 198/10000\n",
      "6251/6251 [==============================] - 167s 27ms/step - loss: 0.4062 - distance: 0.0139 - dist_vertex: 0.0867 - accuracy: 0.7924\n",
      "Epoch 199/10000\n",
      "6251/6251 [==============================] - 167s 27ms/step - loss: 0.4025 - distance: 0.0138 - dist_vertex: 0.0869 - accuracy: 0.7930\n",
      "Epoch 200/10000\n",
      "6251/6251 [==============================] - 167s 27ms/step - loss: 0.3955 - distance: 0.0138 - dist_vertex: 0.0866 - accuracy: 0.7973\n",
      "Epoch 201/10000\n",
      "6251/6251 [==============================] - 167s 27ms/step - loss: 0.3956 - distance: 0.0139 - dist_vertex: 0.0864 - accuracy: 0.7972\n",
      "Epoch 202/10000\n",
      "6251/6251 [==============================] - 167s 27ms/step - loss: 0.3981 - distance: 0.0137 - dist_vertex: 0.0864 - accuracy: 0.7999\n",
      "Epoch 203/10000\n",
      "6251/6251 [==============================] - 167s 27ms/step - loss: 0.3950 - distance: 0.0137 - dist_vertex: 0.0863 - accuracy: 0.8008\n",
      "Epoch 204/10000\n",
      "6251/6251 [==============================] - 168s 27ms/step - loss: 0.3892 - distance: 0.0139 - dist_vertex: 0.0861 - accuracy: 0.8029\n",
      "Epoch 205/10000\n",
      "6251/6251 [==============================] - 167s 27ms/step - loss: 0.3892 - distance: 0.0137 - dist_vertex: 0.0863 - accuracy: 0.8036\n",
      "Epoch 206/10000\n",
      "6251/6251 [==============================] - 168s 27ms/step - loss: 0.3876 - distance: 0.0136 - dist_vertex: 0.0859 - accuracy: 0.8066\n",
      "Epoch 207/10000\n",
      "6251/6251 [==============================] - 167s 27ms/step - loss: 0.3873 - distance: 0.0136 - dist_vertex: 0.0859 - accuracy: 0.8057\n",
      "Epoch 208/10000\n",
      "6251/6251 [==============================] - 167s 27ms/step - loss: 0.3850 - distance: 0.0135 - dist_vertex: 0.0856 - accuracy: 0.8091\n",
      "Epoch 209/10000\n",
      "6251/6251 [==============================] - 167s 27ms/step - loss: 0.3844 - distance: 0.0136 - dist_vertex: 0.0856 - accuracy: 0.8108\n",
      "Epoch 210/10000\n",
      "6251/6251 [==============================] - 167s 27ms/step - loss: 0.3829 - distance: 0.0136 - dist_vertex: 0.0857 - accuracy: 0.8105\n",
      "Epoch 211/10000\n",
      "6251/6251 [==============================] - 167s 27ms/step - loss: 0.3778 - distance: 0.0136 - dist_vertex: 0.0859 - accuracy: 0.8141\n",
      "Epoch 212/10000\n",
      "6251/6251 [==============================] - 167s 27ms/step - loss: 0.3766 - distance: 0.0135 - dist_vertex: 0.0851 - accuracy: 0.8161\n",
      "Epoch 213/10000\n",
      "6251/6251 [==============================] - 167s 27ms/step - loss: 0.3736 - distance: 0.0135 - dist_vertex: 0.0849 - accuracy: 0.8164\n",
      "Epoch 214/10000\n",
      "6251/6251 [==============================] - 167s 27ms/step - loss: 0.3679 - distance: 0.0135 - dist_vertex: 0.0849 - accuracy: 0.8196\n",
      "Epoch 215/10000\n",
      "6251/6251 [==============================] - 167s 27ms/step - loss: 0.3665 - distance: 0.0135 - dist_vertex: 0.0850 - accuracy: 0.8213\n",
      "Epoch 216/10000\n",
      "6251/6251 [==============================] - 168s 27ms/step - loss: 0.3703 - distance: 0.0134 - dist_vertex: 0.0851 - accuracy: 0.8224\n",
      "Epoch 217/10000\n"
     ]
    },
    {
     "name": "stdout",
     "output_type": "stream",
     "text": [
      "6251/6251 [==============================] - 167s 27ms/step - loss: 0.3679 - distance: 0.0134 - dist_vertex: 0.0844 - accuracy: 0.8214\n",
      "Epoch 218/10000\n",
      "6251/6251 [==============================] - 167s 27ms/step - loss: 0.3594 - distance: 0.0133 - dist_vertex: 0.0843 - accuracy: 0.8254\n",
      "Epoch 219/10000\n",
      "6251/6251 [==============================] - 167s 27ms/step - loss: 0.3583 - distance: 0.0134 - dist_vertex: 0.0843 - accuracy: 0.8277\n",
      "Epoch 220/10000\n",
      "6251/6251 [==============================] - 168s 27ms/step - loss: 0.3569 - distance: 0.0132 - dist_vertex: 0.0841 - accuracy: 0.8275\n",
      "Epoch 221/10000\n",
      "6251/6251 [==============================] - 167s 27ms/step - loss: 0.3527 - distance: 0.0133 - dist_vertex: 0.0840 - accuracy: 0.8303\n",
      "Epoch 222/10000\n",
      "6251/6251 [==============================] - 168s 27ms/step - loss: 0.3512 - distance: 0.0131 - dist_vertex: 0.0840 - accuracy: 0.8323\n",
      "Epoch 223/10000\n",
      "6251/6251 [==============================] - 167s 27ms/step - loss: 0.3536 - distance: 0.0131 - dist_vertex: 0.0837 - accuracy: 0.8349\n",
      "Epoch 224/10000\n",
      "6251/6251 [==============================] - 167s 27ms/step - loss: 0.3452 - distance: 0.0132 - dist_vertex: 0.0837 - accuracy: 0.8368\n",
      "Epoch 225/10000\n",
      "6251/6251 [==============================] - 167s 27ms/step - loss: 0.3457 - distance: 0.0132 - dist_vertex: 0.0835 - accuracy: 0.8370\n",
      "Epoch 226/10000\n",
      "6251/6251 [==============================] - 168s 27ms/step - loss: 0.3480 - distance: 0.0132 - dist_vertex: 0.0835 - accuracy: 0.8343\n",
      "Epoch 227/10000\n",
      "6251/6251 [==============================] - 168s 27ms/step - loss: 0.3423 - distance: 0.0131 - dist_vertex: 0.0835 - accuracy: 0.8408\n",
      "Epoch 228/10000\n",
      "6251/6251 [==============================] - 168s 27ms/step - loss: 0.3455 - distance: 0.0131 - dist_vertex: 0.0837 - accuracy: 0.8398\n",
      "Epoch 229/10000\n",
      "6251/6251 [==============================] - 167s 27ms/step - loss: 0.3441 - distance: 0.0131 - dist_vertex: 0.0830 - accuracy: 0.8407\n",
      "Epoch 230/10000\n",
      "6251/6251 [==============================] - 167s 27ms/step - loss: 0.3419 - distance: 0.0132 - dist_vertex: 0.0834 - accuracy: 0.8363\n",
      "Epoch 231/10000\n",
      "6251/6251 [==============================] - 167s 27ms/step - loss: 0.3400 - distance: 0.0130 - dist_vertex: 0.0827 - accuracy: 0.8405\n",
      "Epoch 232/10000\n",
      "6251/6251 [==============================] - 168s 27ms/step - loss: 0.3392 - distance: 0.0131 - dist_vertex: 0.0829 - accuracy: 0.8398\n",
      "Epoch 233/10000\n",
      "6251/6251 [==============================] - 168s 27ms/step - loss: 0.3307 - distance: 0.0129 - dist_vertex: 0.0827 - accuracy: 0.8464\n",
      "Epoch 234/10000\n",
      "6251/6251 [==============================] - 168s 27ms/step - loss: 0.3295 - distance: 0.0129 - dist_vertex: 0.0825 - accuracy: 0.8449\n",
      "Epoch 235/10000\n",
      "6251/6251 [==============================] - 168s 27ms/step - loss: 0.3338 - distance: 0.0129 - dist_vertex: 0.0826 - accuracy: 0.8450\n",
      "Epoch 236/10000\n",
      "6251/6251 [==============================] - 168s 27ms/step - loss: 0.3332 - distance: 0.0129 - dist_vertex: 0.0823 - accuracy: 0.8491\n",
      "Epoch 237/10000\n",
      "6251/6251 [==============================] - 167s 27ms/step - loss: 0.3290 - distance: 0.0129 - dist_vertex: 0.0820 - accuracy: 0.8493\n",
      "Epoch 238/10000\n",
      "6251/6251 [==============================] - 167s 27ms/step - loss: 0.3206 - distance: 0.0129 - dist_vertex: 0.0819 - accuracy: 0.8505\n",
      "Epoch 239/10000\n",
      "6251/6251 [==============================] - 167s 27ms/step - loss: 0.3231 - distance: 0.0129 - dist_vertex: 0.0819 - accuracy: 0.8529\n",
      "Epoch 240/10000\n",
      "6251/6251 [==============================] - 168s 27ms/step - loss: 0.3222 - distance: 0.0129 - dist_vertex: 0.0817 - accuracy: 0.8521\n",
      "Epoch 241/10000\n",
      "6251/6251 [==============================] - 167s 27ms/step - loss: 0.3203 - distance: 0.0129 - dist_vertex: 0.0817 - accuracy: 0.8524\n",
      "Epoch 242/10000\n",
      "6251/6251 [==============================] - 168s 27ms/step - loss: 0.3206 - distance: 0.0127 - dist_vertex: 0.0815 - accuracy: 0.8533\n",
      "Epoch 243/10000\n",
      "6251/6251 [==============================] - 167s 27ms/step - loss: 0.3170 - distance: 0.0127 - dist_vertex: 0.0811 - accuracy: 0.8552\n",
      "Epoch 244/10000\n",
      "6251/6251 [==============================] - 167s 27ms/step - loss: 0.3169 - distance: 0.0127 - dist_vertex: 0.0812 - accuracy: 0.8553\n",
      "Epoch 245/10000\n",
      "6251/6251 [==============================] - 167s 27ms/step - loss: 0.3157 - distance: 0.0128 - dist_vertex: 0.0815 - accuracy: 0.8573\n",
      "Epoch 246/10000\n",
      "6251/6251 [==============================] - 168s 27ms/step - loss: 0.3136 - distance: 0.0128 - dist_vertex: 0.0810 - accuracy: 0.8575\n",
      "Epoch 247/10000\n",
      "6251/6251 [==============================] - 167s 27ms/step - loss: 0.3175 - distance: 0.0127 - dist_vertex: 0.0811 - accuracy: 0.8548\n",
      "Epoch 248/10000\n",
      "6251/6251 [==============================] - 168s 27ms/step - loss: 0.3151 - distance: 0.0126 - dist_vertex: 0.0808 - accuracy: 0.8587\n",
      "Epoch 249/10000\n",
      "6251/6251 [==============================] - 167s 27ms/step - loss: 0.3129 - distance: 0.0127 - dist_vertex: 0.0809 - accuracy: 0.8576\n",
      "Epoch 250/10000\n",
      "6251/6251 [==============================] - 167s 27ms/step - loss: 0.3091 - distance: 0.0126 - dist_vertex: 0.0808 - accuracy: 0.8624\n",
      "Epoch 251/10000\n",
      "6251/6251 [==============================] - 167s 27ms/step - loss: 0.3112 - distance: 0.0127 - dist_vertex: 0.0810 - accuracy: 0.8594\n",
      "Epoch 252/10000\n",
      "6251/6251 [==============================] - 168s 27ms/step - loss: 0.3058 - distance: 0.0125 - dist_vertex: 0.0806 - accuracy: 0.8626\n",
      "Epoch 253/10000\n",
      "6251/6251 [==============================] - 167s 27ms/step - loss: 0.3055 - distance: 0.0125 - dist_vertex: 0.0804 - accuracy: 0.8632\n",
      "Epoch 254/10000\n",
      "6251/6251 [==============================] - 167s 27ms/step - loss: 0.3059 - distance: 0.0125 - dist_vertex: 0.0801 - accuracy: 0.8641\n",
      "Epoch 255/10000\n",
      "6251/6251 [==============================] - 167s 27ms/step - loss: 0.3029 - distance: 0.0126 - dist_vertex: 0.0799 - accuracy: 0.8645\n",
      "Epoch 256/10000\n",
      "6251/6251 [==============================] - 167s 27ms/step - loss: 0.3626 - distance: 0.0126 - dist_vertex: 0.0830 - accuracy: 0.8460\n",
      "Epoch 257/10000\n",
      "6251/6251 [==============================] - 167s 27ms/step - loss: 0.3076 - distance: 0.0125 - dist_vertex: 0.0797 - accuracy: 0.8606\n",
      "Epoch 258/10000\n",
      "6251/6251 [==============================] - 168s 27ms/step - loss: 0.3030 - distance: 0.0125 - dist_vertex: 0.0799 - accuracy: 0.8655\n",
      "Epoch 259/10000\n",
      "6251/6251 [==============================] - 167s 27ms/step - loss: 0.3018 - distance: 0.0125 - dist_vertex: 0.0795 - accuracy: 0.8654\n",
      "Epoch 260/10000\n",
      "6251/6251 [==============================] - 167s 27ms/step - loss: 0.3013 - distance: 0.0124 - dist_vertex: 0.0792 - accuracy: 0.8675\n",
      "Epoch 261/10000\n",
      "6251/6251 [==============================] - 167s 27ms/step - loss: 0.2964 - distance: 0.0124 - dist_vertex: 0.0791 - accuracy: 0.8694\n",
      "Epoch 262/10000\n",
      "6251/6251 [==============================] - 167s 27ms/step - loss: 0.2993 - distance: 0.0124 - dist_vertex: 0.0791 - accuracy: 0.8704\n",
      "Epoch 263/10000\n",
      "6251/6251 [==============================] - 167s 27ms/step - loss: 0.2977 - distance: 0.0124 - dist_vertex: 0.0790 - accuracy: 0.8701\n",
      "Epoch 264/10000\n",
      "6251/6251 [==============================] - 168s 27ms/step - loss: 0.2945 - distance: 0.0124 - dist_vertex: 0.0788 - accuracy: 0.8712\n",
      "Epoch 265/10000\n",
      "6251/6251 [==============================] - 167s 27ms/step - loss: 0.2947 - distance: 0.0124 - dist_vertex: 0.0787 - accuracy: 0.8716\n",
      "Epoch 266/10000\n",
      "6251/6251 [==============================] - 167s 27ms/step - loss: 0.2946 - distance: 0.0123 - dist_vertex: 0.0786 - accuracy: 0.8701\n",
      "Epoch 267/10000\n",
      "6251/6251 [==============================] - 167s 27ms/step - loss: 0.2919 - distance: 0.0123 - dist_vertex: 0.0783 - accuracy: 0.8695\n",
      "Epoch 268/10000\n",
      "6251/6251 [==============================] - 168s 27ms/step - loss: 0.2911 - distance: 0.0122 - dist_vertex: 0.0783 - accuracy: 0.8737\n",
      "Epoch 269/10000\n",
      "6251/6251 [==============================] - 167s 27ms/step - loss: 0.2879 - distance: 0.0122 - dist_vertex: 0.0779 - accuracy: 0.8750\n",
      "Epoch 270/10000\n",
      "6251/6251 [==============================] - 167s 27ms/step - loss: 0.2885 - distance: 0.0122 - dist_vertex: 0.0779 - accuracy: 0.8750\n",
      "Epoch 271/10000\n"
     ]
    },
    {
     "name": "stdout",
     "output_type": "stream",
     "text": [
      "6251/6251 [==============================] - 167s 27ms/step - loss: 0.2870 - distance: 0.0123 - dist_vertex: 0.0781 - accuracy: 0.8752\n",
      "Epoch 272/10000\n",
      "6251/6251 [==============================] - 167s 27ms/step - loss: 0.2894 - distance: 0.0122 - dist_vertex: 0.0776 - accuracy: 0.8736\n",
      "Epoch 273/10000\n",
      "6251/6251 [==============================] - 167s 27ms/step - loss: 0.2959 - distance: 0.0122 - dist_vertex: 0.0781 - accuracy: 0.8726\n",
      "Epoch 274/10000\n",
      "6251/6251 [==============================] - 167s 27ms/step - loss: 0.2874 - distance: 0.0121 - dist_vertex: 0.0773 - accuracy: 0.8748\n",
      "Epoch 275/10000\n",
      "6251/6251 [==============================] - 167s 27ms/step - loss: 0.2829 - distance: 0.0121 - dist_vertex: 0.0769 - accuracy: 0.8762\n",
      "Epoch 276/10000\n",
      "6251/6251 [==============================] - 167s 27ms/step - loss: 0.2810 - distance: 0.0121 - dist_vertex: 0.0771 - accuracy: 0.8773\n",
      "Epoch 277/10000\n",
      "6251/6251 [==============================] - 167s 27ms/step - loss: 0.2838 - distance: 0.0121 - dist_vertex: 0.0772 - accuracy: 0.8777\n",
      "Epoch 278/10000\n",
      "6251/6251 [==============================] - 168s 27ms/step - loss: 0.2807 - distance: 0.0122 - dist_vertex: 0.0768 - accuracy: 0.8793\n",
      "Epoch 279/10000\n",
      "6251/6251 [==============================] - 167s 27ms/step - loss: 0.2781 - distance: 0.0120 - dist_vertex: 0.0767 - accuracy: 0.8783\n",
      "Epoch 280/10000\n",
      "6251/6251 [==============================] - 168s 27ms/step - loss: 0.2837 - distance: 0.0121 - dist_vertex: 0.0765 - accuracy: 0.8795\n",
      "Epoch 281/10000\n",
      "6251/6251 [==============================] - 167s 27ms/step - loss: 0.2765 - distance: 0.0121 - dist_vertex: 0.0763 - accuracy: 0.8791\n",
      "Epoch 282/10000\n",
      "6251/6251 [==============================] - 168s 27ms/step - loss: 0.2772 - distance: 0.0121 - dist_vertex: 0.0761 - accuracy: 0.8795\n",
      "Epoch 283/10000\n",
      "6251/6251 [==============================] - 167s 27ms/step - loss: 0.2753 - distance: 0.0120 - dist_vertex: 0.0759 - accuracy: 0.8819\n",
      "Epoch 284/10000\n",
      "6251/6251 [==============================] - 167s 27ms/step - loss: 0.2727 - distance: 0.0121 - dist_vertex: 0.0760 - accuracy: 0.8808\n",
      "Epoch 285/10000\n",
      "6251/6251 [==============================] - 167s 27ms/step - loss: 0.2742 - distance: 0.0119 - dist_vertex: 0.0759 - accuracy: 0.8814\n",
      "Epoch 286/10000\n",
      "6251/6251 [==============================] - 167s 27ms/step - loss: 0.2707 - distance: 0.0121 - dist_vertex: 0.0757 - accuracy: 0.8823\n",
      "Epoch 287/10000\n",
      "6251/6251 [==============================] - 167s 27ms/step - loss: 0.2710 - distance: 0.0119 - dist_vertex: 0.0754 - accuracy: 0.8832\n",
      "Epoch 288/10000\n",
      "6251/6251 [==============================] - 167s 27ms/step - loss: 0.2717 - distance: 0.0119 - dist_vertex: 0.0753 - accuracy: 0.8846\n",
      "Epoch 289/10000\n",
      "6251/6251 [==============================] - 167s 27ms/step - loss: 0.2687 - distance: 0.0119 - dist_vertex: 0.0753 - accuracy: 0.8857\n",
      "Epoch 290/10000\n",
      "6251/6251 [==============================] - 167s 27ms/step - loss: 0.2711 - distance: 0.0119 - dist_vertex: 0.0753 - accuracy: 0.8847\n",
      "Epoch 291/10000\n",
      "6251/6251 [==============================] - 167s 27ms/step - loss: 0.2702 - distance: 0.0119 - dist_vertex: 0.0749 - accuracy: 0.8840\n",
      "Epoch 292/10000\n",
      "6251/6251 [==============================] - 167s 27ms/step - loss: 0.2684 - distance: 0.0120 - dist_vertex: 0.0750 - accuracy: 0.8861\n",
      "Epoch 293/10000\n",
      "6251/6251 [==============================] - 167s 27ms/step - loss: 0.2670 - distance: 0.0118 - dist_vertex: 0.0747 - accuracy: 0.8867\n",
      "Epoch 294/10000\n",
      "6251/6251 [==============================] - 168s 27ms/step - loss: 0.2684 - distance: 0.0118 - dist_vertex: 0.0747 - accuracy: 0.8874\n",
      "Epoch 295/10000\n",
      "6251/6251 [==============================] - 167s 27ms/step - loss: 0.2667 - distance: 0.0119 - dist_vertex: 0.0746 - accuracy: 0.8874\n",
      "Epoch 296/10000\n",
      "6251/6251 [==============================] - 168s 27ms/step - loss: 0.2741 - distance: 0.0118 - dist_vertex: 0.0747 - accuracy: 0.8839\n",
      "Epoch 297/10000\n",
      "6251/6251 [==============================] - 167s 27ms/step - loss: 0.2636 - distance: 0.0118 - dist_vertex: 0.0746 - accuracy: 0.8851\n",
      "Epoch 298/10000\n",
      "6251/6251 [==============================] - 167s 27ms/step - loss: 0.2622 - distance: 0.0118 - dist_vertex: 0.0744 - accuracy: 0.8884\n",
      "Epoch 299/10000\n",
      "6251/6251 [==============================] - 167s 27ms/step - loss: 0.2647 - distance: 0.0118 - dist_vertex: 0.0740 - accuracy: 0.8895\n",
      "Epoch 300/10000\n",
      "6251/6251 [==============================] - 167s 27ms/step - loss: 0.2629 - distance: 0.0117 - dist_vertex: 0.0738 - accuracy: 0.8887\n",
      "Epoch 301/10000\n",
      "6251/6251 [==============================] - 167s 27ms/step - loss: 0.2626 - distance: 0.0118 - dist_vertex: 0.0737 - accuracy: 0.8884\n",
      "Epoch 302/10000\n",
      "6251/6251 [==============================] - 168s 27ms/step - loss: 0.2593 - distance: 0.0117 - dist_vertex: 0.0736 - accuracy: 0.8908\n",
      "Epoch 303/10000\n",
      "6251/6251 [==============================] - 167s 27ms/step - loss: 0.2642 - distance: 0.0118 - dist_vertex: 0.0738 - accuracy: 0.8879\n",
      "Epoch 304/10000\n",
      "6251/6251 [==============================] - 168s 27ms/step - loss: 0.2594 - distance: 0.0117 - dist_vertex: 0.0735 - accuracy: 0.8899\n",
      "Epoch 305/10000\n",
      "6251/6251 [==============================] - 167s 27ms/step - loss: 0.2580 - distance: 0.0117 - dist_vertex: 0.0732 - accuracy: 0.8918\n",
      "Epoch 306/10000\n",
      "6251/6251 [==============================] - 168s 27ms/step - loss: 0.2584 - distance: 0.0116 - dist_vertex: 0.0731 - accuracy: 0.8910\n",
      "Epoch 307/10000\n",
      "6251/6251 [==============================] - 167s 27ms/step - loss: 0.2628 - distance: 0.0117 - dist_vertex: 0.0740 - accuracy: 0.8894\n",
      "Epoch 308/10000\n",
      "6251/6251 [==============================] - 168s 27ms/step - loss: 0.2572 - distance: 0.0116 - dist_vertex: 0.0729 - accuracy: 0.8918\n",
      "Epoch 309/10000\n",
      "6251/6251 [==============================] - 167s 27ms/step - loss: 0.2567 - distance: 0.0116 - dist_vertex: 0.0729 - accuracy: 0.8937\n",
      "Epoch 310/10000\n",
      "6251/6251 [==============================] - 167s 27ms/step - loss: 0.2579 - distance: 0.0116 - dist_vertex: 0.0727 - accuracy: 0.8922\n",
      "Epoch 311/10000\n",
      "6251/6251 [==============================] - 167s 27ms/step - loss: 0.2560 - distance: 0.0117 - dist_vertex: 0.0725 - accuracy: 0.8950\n",
      "Epoch 312/10000\n",
      "6251/6251 [==============================] - 167s 27ms/step - loss: 0.2537 - distance: 0.0116 - dist_vertex: 0.0725 - accuracy: 0.8947\n",
      "Epoch 313/10000\n",
      "6251/6251 [==============================] - 167s 27ms/step - loss: 0.2544 - distance: 0.0116 - dist_vertex: 0.0726 - accuracy: 0.8931\n",
      "Epoch 314/10000\n",
      "6251/6251 [==============================] - 167s 27ms/step - loss: 0.2544 - distance: 0.0116 - dist_vertex: 0.0727 - accuracy: 0.8926\n",
      "Epoch 315/10000\n",
      "6251/6251 [==============================] - 167s 27ms/step - loss: 0.2554 - distance: 0.0115 - dist_vertex: 0.0724 - accuracy: 0.8959\n",
      "Epoch 316/10000\n",
      "6251/6251 [==============================] - 168s 27ms/step - loss: 0.2527 - distance: 0.0116 - dist_vertex: 0.0719 - accuracy: 0.8939\n",
      "Epoch 317/10000\n",
      "6251/6251 [==============================] - 167s 27ms/step - loss: 0.2529 - distance: 0.0115 - dist_vertex: 0.0720 - accuracy: 0.8960\n",
      "Epoch 318/10000\n",
      "6251/6251 [==============================] - 168s 27ms/step - loss: 0.2557 - distance: 0.0115 - dist_vertex: 0.0722 - accuracy: 0.8947\n",
      "Epoch 319/10000\n",
      "6251/6251 [==============================] - 167s 27ms/step - loss: 0.2547 - distance: 0.0114 - dist_vertex: 0.0718 - accuracy: 0.8964\n",
      "Epoch 320/10000\n",
      "6251/6251 [==============================] - 167s 27ms/step - loss: 0.2490 - distance: 0.0114 - dist_vertex: 0.0718 - accuracy: 0.8963\n",
      "Epoch 321/10000\n",
      "6251/6251 [==============================] - 167s 27ms/step - loss: 0.2481 - distance: 0.0115 - dist_vertex: 0.0717 - accuracy: 0.8989\n",
      "Epoch 322/10000\n",
      "6251/6251 [==============================] - 167s 27ms/step - loss: 0.2492 - distance: 0.0115 - dist_vertex: 0.0714 - accuracy: 0.8986\n",
      "Epoch 323/10000\n",
      "6251/6251 [==============================] - 167s 27ms/step - loss: 0.2492 - distance: 0.0115 - dist_vertex: 0.0715 - accuracy: 0.8975\n",
      "Epoch 324/10000\n",
      "2171/6251 [=========>....................] - ETA: 1:51 - loss: 0.2912 - distance: 0.0115 - dist_vertex: 0.0744 - accuracy: 0.8789"
     ]
    },
    {
     "ename": "KeyboardInterrupt",
     "evalue": "",
     "output_type": "error",
     "traceback": [
      "\u001b[0;31m---------------------------------------------------------------------------\u001b[0m",
      "\u001b[0;31mKeyboardInterrupt\u001b[0m                         Traceback (most recent call last)",
      "\u001b[0;32m<ipython-input-490-14e119a0e459>\u001b[0m in \u001b[0;36m<module>\u001b[0;34m\u001b[0m\n\u001b[1;32m      1\u001b[0m \u001b[0mepochs\u001b[0m \u001b[0;34m=\u001b[0m \u001b[0;36m10000\u001b[0m\u001b[0;34m\u001b[0m\u001b[0;34m\u001b[0m\u001b[0m\n\u001b[0;32m----> 2\u001b[0;31m hist = model.fit(\n\u001b[0m\u001b[1;32m      3\u001b[0m     \u001b[0mtrain_dataset\u001b[0m\u001b[0;34m.\u001b[0m\u001b[0mtake\u001b[0m\u001b[0;34m(\u001b[0m\u001b[0;36m10000\u001b[0m\u001b[0;34m)\u001b[0m\u001b[0;34m,\u001b[0m\u001b[0;34m\u001b[0m\u001b[0;34m\u001b[0m\u001b[0m\n\u001b[1;32m      4\u001b[0m     \u001b[0mvalidation_data\u001b[0m\u001b[0;34m=\u001b[0m\u001b[0;32mNone\u001b[0m\u001b[0;34m,\u001b[0m\u001b[0;31m#val_dataset.take(2)\u001b[0m\u001b[0;34m\u001b[0m\u001b[0;34m\u001b[0m\u001b[0m\n\u001b[1;32m      5\u001b[0m     \u001b[0mepochs\u001b[0m\u001b[0;34m=\u001b[0m\u001b[0mepochs\u001b[0m\u001b[0;34m,\u001b[0m\u001b[0;34m\u001b[0m\u001b[0;34m\u001b[0m\u001b[0m\n",
      "\u001b[0;32m~/anaconda3/lib/python3.8/site-packages/tensorflow/python/keras/engine/training.py\u001b[0m in \u001b[0;36m_method_wrapper\u001b[0;34m(self, *args, **kwargs)\u001b[0m\n\u001b[1;32m    106\u001b[0m   \u001b[0;32mdef\u001b[0m \u001b[0m_method_wrapper\u001b[0m\u001b[0;34m(\u001b[0m\u001b[0mself\u001b[0m\u001b[0;34m,\u001b[0m \u001b[0;34m*\u001b[0m\u001b[0margs\u001b[0m\u001b[0;34m,\u001b[0m \u001b[0;34m**\u001b[0m\u001b[0mkwargs\u001b[0m\u001b[0;34m)\u001b[0m\u001b[0;34m:\u001b[0m\u001b[0;34m\u001b[0m\u001b[0;34m\u001b[0m\u001b[0m\n\u001b[1;32m    107\u001b[0m     \u001b[0;32mif\u001b[0m \u001b[0;32mnot\u001b[0m \u001b[0mself\u001b[0m\u001b[0;34m.\u001b[0m\u001b[0m_in_multi_worker_mode\u001b[0m\u001b[0;34m(\u001b[0m\u001b[0;34m)\u001b[0m\u001b[0;34m:\u001b[0m  \u001b[0;31m# pylint: disable=protected-access\u001b[0m\u001b[0;34m\u001b[0m\u001b[0;34m\u001b[0m\u001b[0m\n\u001b[0;32m--> 108\u001b[0;31m       \u001b[0;32mreturn\u001b[0m \u001b[0mmethod\u001b[0m\u001b[0;34m(\u001b[0m\u001b[0mself\u001b[0m\u001b[0;34m,\u001b[0m \u001b[0;34m*\u001b[0m\u001b[0margs\u001b[0m\u001b[0;34m,\u001b[0m \u001b[0;34m**\u001b[0m\u001b[0mkwargs\u001b[0m\u001b[0;34m)\u001b[0m\u001b[0;34m\u001b[0m\u001b[0;34m\u001b[0m\u001b[0m\n\u001b[0m\u001b[1;32m    109\u001b[0m \u001b[0;34m\u001b[0m\u001b[0m\n\u001b[1;32m    110\u001b[0m     \u001b[0;31m# Running inside `run_distribute_coordinator` already.\u001b[0m\u001b[0;34m\u001b[0m\u001b[0;34m\u001b[0m\u001b[0;34m\u001b[0m\u001b[0m\n",
      "\u001b[0;32m~/anaconda3/lib/python3.8/site-packages/tensorflow/python/keras/engine/training.py\u001b[0m in \u001b[0;36mfit\u001b[0;34m(self, x, y, batch_size, epochs, verbose, callbacks, validation_split, validation_data, shuffle, class_weight, sample_weight, initial_epoch, steps_per_epoch, validation_steps, validation_batch_size, validation_freq, max_queue_size, workers, use_multiprocessing)\u001b[0m\n\u001b[1;32m   1096\u001b[0m                 batch_size=batch_size):\n\u001b[1;32m   1097\u001b[0m               \u001b[0mcallbacks\u001b[0m\u001b[0;34m.\u001b[0m\u001b[0mon_train_batch_begin\u001b[0m\u001b[0;34m(\u001b[0m\u001b[0mstep\u001b[0m\u001b[0;34m)\u001b[0m\u001b[0;34m\u001b[0m\u001b[0;34m\u001b[0m\u001b[0m\n\u001b[0;32m-> 1098\u001b[0;31m               \u001b[0mtmp_logs\u001b[0m \u001b[0;34m=\u001b[0m \u001b[0mtrain_function\u001b[0m\u001b[0;34m(\u001b[0m\u001b[0miterator\u001b[0m\u001b[0;34m)\u001b[0m\u001b[0;34m\u001b[0m\u001b[0;34m\u001b[0m\u001b[0m\n\u001b[0m\u001b[1;32m   1099\u001b[0m               \u001b[0;32mif\u001b[0m \u001b[0mdata_handler\u001b[0m\u001b[0;34m.\u001b[0m\u001b[0mshould_sync\u001b[0m\u001b[0;34m:\u001b[0m\u001b[0;34m\u001b[0m\u001b[0;34m\u001b[0m\u001b[0m\n\u001b[1;32m   1100\u001b[0m                 \u001b[0mcontext\u001b[0m\u001b[0;34m.\u001b[0m\u001b[0masync_wait\u001b[0m\u001b[0;34m(\u001b[0m\u001b[0;34m)\u001b[0m\u001b[0;34m\u001b[0m\u001b[0;34m\u001b[0m\u001b[0m\n",
      "\u001b[0;32m~/anaconda3/lib/python3.8/site-packages/tensorflow/python/eager/def_function.py\u001b[0m in \u001b[0;36m__call__\u001b[0;34m(self, *args, **kwds)\u001b[0m\n\u001b[1;32m    778\u001b[0m       \u001b[0;32melse\u001b[0m\u001b[0;34m:\u001b[0m\u001b[0;34m\u001b[0m\u001b[0;34m\u001b[0m\u001b[0m\n\u001b[1;32m    779\u001b[0m         \u001b[0mcompiler\u001b[0m \u001b[0;34m=\u001b[0m \u001b[0;34m\"nonXla\"\u001b[0m\u001b[0;34m\u001b[0m\u001b[0;34m\u001b[0m\u001b[0m\n\u001b[0;32m--> 780\u001b[0;31m         \u001b[0mresult\u001b[0m \u001b[0;34m=\u001b[0m \u001b[0mself\u001b[0m\u001b[0;34m.\u001b[0m\u001b[0m_call\u001b[0m\u001b[0;34m(\u001b[0m\u001b[0;34m*\u001b[0m\u001b[0margs\u001b[0m\u001b[0;34m,\u001b[0m \u001b[0;34m**\u001b[0m\u001b[0mkwds\u001b[0m\u001b[0;34m)\u001b[0m\u001b[0;34m\u001b[0m\u001b[0;34m\u001b[0m\u001b[0m\n\u001b[0m\u001b[1;32m    781\u001b[0m \u001b[0;34m\u001b[0m\u001b[0m\n\u001b[1;32m    782\u001b[0m       \u001b[0mnew_tracing_count\u001b[0m \u001b[0;34m=\u001b[0m \u001b[0mself\u001b[0m\u001b[0;34m.\u001b[0m\u001b[0m_get_tracing_count\u001b[0m\u001b[0;34m(\u001b[0m\u001b[0;34m)\u001b[0m\u001b[0;34m\u001b[0m\u001b[0;34m\u001b[0m\u001b[0m\n",
      "\u001b[0;32m~/anaconda3/lib/python3.8/site-packages/tensorflow/python/eager/def_function.py\u001b[0m in \u001b[0;36m_call\u001b[0;34m(self, *args, **kwds)\u001b[0m\n\u001b[1;32m    805\u001b[0m       \u001b[0;31m# In this case we have created variables on the first call, so we run the\u001b[0m\u001b[0;34m\u001b[0m\u001b[0;34m\u001b[0m\u001b[0;34m\u001b[0m\u001b[0m\n\u001b[1;32m    806\u001b[0m       \u001b[0;31m# defunned version which is guaranteed to never create variables.\u001b[0m\u001b[0;34m\u001b[0m\u001b[0;34m\u001b[0m\u001b[0;34m\u001b[0m\u001b[0m\n\u001b[0;32m--> 807\u001b[0;31m       \u001b[0;32mreturn\u001b[0m \u001b[0mself\u001b[0m\u001b[0;34m.\u001b[0m\u001b[0m_stateless_fn\u001b[0m\u001b[0;34m(\u001b[0m\u001b[0;34m*\u001b[0m\u001b[0margs\u001b[0m\u001b[0;34m,\u001b[0m \u001b[0;34m**\u001b[0m\u001b[0mkwds\u001b[0m\u001b[0;34m)\u001b[0m  \u001b[0;31m# pylint: disable=not-callable\u001b[0m\u001b[0;34m\u001b[0m\u001b[0;34m\u001b[0m\u001b[0m\n\u001b[0m\u001b[1;32m    808\u001b[0m     \u001b[0;32melif\u001b[0m \u001b[0mself\u001b[0m\u001b[0;34m.\u001b[0m\u001b[0m_stateful_fn\u001b[0m \u001b[0;32mis\u001b[0m \u001b[0;32mnot\u001b[0m \u001b[0;32mNone\u001b[0m\u001b[0;34m:\u001b[0m\u001b[0;34m\u001b[0m\u001b[0;34m\u001b[0m\u001b[0m\n\u001b[1;32m    809\u001b[0m       \u001b[0;31m# Release the lock early so that multiple threads can perform the call\u001b[0m\u001b[0;34m\u001b[0m\u001b[0;34m\u001b[0m\u001b[0;34m\u001b[0m\u001b[0m\n",
      "\u001b[0;32m~/anaconda3/lib/python3.8/site-packages/tensorflow/python/eager/function.py\u001b[0m in \u001b[0;36m__call__\u001b[0;34m(self, *args, **kwargs)\u001b[0m\n\u001b[1;32m   2827\u001b[0m     \u001b[0;32mwith\u001b[0m \u001b[0mself\u001b[0m\u001b[0;34m.\u001b[0m\u001b[0m_lock\u001b[0m\u001b[0;34m:\u001b[0m\u001b[0;34m\u001b[0m\u001b[0;34m\u001b[0m\u001b[0m\n\u001b[1;32m   2828\u001b[0m       \u001b[0mgraph_function\u001b[0m\u001b[0;34m,\u001b[0m \u001b[0margs\u001b[0m\u001b[0;34m,\u001b[0m \u001b[0mkwargs\u001b[0m \u001b[0;34m=\u001b[0m \u001b[0mself\u001b[0m\u001b[0;34m.\u001b[0m\u001b[0m_maybe_define_function\u001b[0m\u001b[0;34m(\u001b[0m\u001b[0margs\u001b[0m\u001b[0;34m,\u001b[0m \u001b[0mkwargs\u001b[0m\u001b[0;34m)\u001b[0m\u001b[0;34m\u001b[0m\u001b[0;34m\u001b[0m\u001b[0m\n\u001b[0;32m-> 2829\u001b[0;31m     \u001b[0;32mreturn\u001b[0m \u001b[0mgraph_function\u001b[0m\u001b[0;34m.\u001b[0m\u001b[0m_filtered_call\u001b[0m\u001b[0;34m(\u001b[0m\u001b[0margs\u001b[0m\u001b[0;34m,\u001b[0m \u001b[0mkwargs\u001b[0m\u001b[0;34m)\u001b[0m  \u001b[0;31m# pylint: disable=protected-access\u001b[0m\u001b[0;34m\u001b[0m\u001b[0;34m\u001b[0m\u001b[0m\n\u001b[0m\u001b[1;32m   2830\u001b[0m \u001b[0;34m\u001b[0m\u001b[0m\n\u001b[1;32m   2831\u001b[0m   \u001b[0;34m@\u001b[0m\u001b[0mproperty\u001b[0m\u001b[0;34m\u001b[0m\u001b[0;34m\u001b[0m\u001b[0m\n",
      "\u001b[0;32m~/anaconda3/lib/python3.8/site-packages/tensorflow/python/eager/function.py\u001b[0m in \u001b[0;36m_filtered_call\u001b[0;34m(self, args, kwargs, cancellation_manager)\u001b[0m\n\u001b[1;32m   1841\u001b[0m       \u001b[0;31m`\u001b[0m\u001b[0margs\u001b[0m\u001b[0;31m`\u001b[0m \u001b[0;32mand\u001b[0m\u001b[0;31m \u001b[0m\u001b[0;31m`\u001b[0m\u001b[0mkwargs\u001b[0m\u001b[0;31m`\u001b[0m\u001b[0;34m.\u001b[0m\u001b[0;34m\u001b[0m\u001b[0;34m\u001b[0m\u001b[0m\n\u001b[1;32m   1842\u001b[0m     \"\"\"\n\u001b[0;32m-> 1843\u001b[0;31m     return self._call_flat(\n\u001b[0m\u001b[1;32m   1844\u001b[0m         [t for t in nest.flatten((args, kwargs), expand_composites=True)\n\u001b[1;32m   1845\u001b[0m          if isinstance(t, (ops.Tensor,\n",
      "\u001b[0;32m~/anaconda3/lib/python3.8/site-packages/tensorflow/python/eager/function.py\u001b[0m in \u001b[0;36m_call_flat\u001b[0;34m(self, args, captured_inputs, cancellation_manager)\u001b[0m\n\u001b[1;32m   1921\u001b[0m         and executing_eagerly):\n\u001b[1;32m   1922\u001b[0m       \u001b[0;31m# No tape is watching; skip to running the function.\u001b[0m\u001b[0;34m\u001b[0m\u001b[0;34m\u001b[0m\u001b[0;34m\u001b[0m\u001b[0m\n\u001b[0;32m-> 1923\u001b[0;31m       return self._build_call_outputs(self._inference_function.call(\n\u001b[0m\u001b[1;32m   1924\u001b[0m           ctx, args, cancellation_manager=cancellation_manager))\n\u001b[1;32m   1925\u001b[0m     forward_backward = self._select_forward_and_backward_functions(\n",
      "\u001b[0;32m~/anaconda3/lib/python3.8/site-packages/tensorflow/python/eager/function.py\u001b[0m in \u001b[0;36mcall\u001b[0;34m(self, ctx, args, cancellation_manager)\u001b[0m\n\u001b[1;32m    543\u001b[0m       \u001b[0;32mwith\u001b[0m \u001b[0m_InterpolateFunctionError\u001b[0m\u001b[0;34m(\u001b[0m\u001b[0mself\u001b[0m\u001b[0;34m)\u001b[0m\u001b[0;34m:\u001b[0m\u001b[0;34m\u001b[0m\u001b[0;34m\u001b[0m\u001b[0m\n\u001b[1;32m    544\u001b[0m         \u001b[0;32mif\u001b[0m \u001b[0mcancellation_manager\u001b[0m \u001b[0;32mis\u001b[0m \u001b[0;32mNone\u001b[0m\u001b[0;34m:\u001b[0m\u001b[0;34m\u001b[0m\u001b[0;34m\u001b[0m\u001b[0m\n\u001b[0;32m--> 545\u001b[0;31m           outputs = execute.execute(\n\u001b[0m\u001b[1;32m    546\u001b[0m               \u001b[0mstr\u001b[0m\u001b[0;34m(\u001b[0m\u001b[0mself\u001b[0m\u001b[0;34m.\u001b[0m\u001b[0msignature\u001b[0m\u001b[0;34m.\u001b[0m\u001b[0mname\u001b[0m\u001b[0;34m)\u001b[0m\u001b[0;34m,\u001b[0m\u001b[0;34m\u001b[0m\u001b[0;34m\u001b[0m\u001b[0m\n\u001b[1;32m    547\u001b[0m               \u001b[0mnum_outputs\u001b[0m\u001b[0;34m=\u001b[0m\u001b[0mself\u001b[0m\u001b[0;34m.\u001b[0m\u001b[0m_num_outputs\u001b[0m\u001b[0;34m,\u001b[0m\u001b[0;34m\u001b[0m\u001b[0;34m\u001b[0m\u001b[0m\n",
      "\u001b[0;32m~/anaconda3/lib/python3.8/site-packages/tensorflow/python/eager/execute.py\u001b[0m in \u001b[0;36mquick_execute\u001b[0;34m(op_name, num_outputs, inputs, attrs, ctx, name)\u001b[0m\n\u001b[1;32m     57\u001b[0m   \u001b[0;32mtry\u001b[0m\u001b[0;34m:\u001b[0m\u001b[0;34m\u001b[0m\u001b[0;34m\u001b[0m\u001b[0m\n\u001b[1;32m     58\u001b[0m     \u001b[0mctx\u001b[0m\u001b[0;34m.\u001b[0m\u001b[0mensure_initialized\u001b[0m\u001b[0;34m(\u001b[0m\u001b[0;34m)\u001b[0m\u001b[0;34m\u001b[0m\u001b[0;34m\u001b[0m\u001b[0m\n\u001b[0;32m---> 59\u001b[0;31m     tensors = pywrap_tfe.TFE_Py_Execute(ctx._handle, device_name, op_name,\n\u001b[0m\u001b[1;32m     60\u001b[0m                                         inputs, attrs, num_outputs)\n\u001b[1;32m     61\u001b[0m   \u001b[0;32mexcept\u001b[0m \u001b[0mcore\u001b[0m\u001b[0;34m.\u001b[0m\u001b[0m_NotOkStatusException\u001b[0m \u001b[0;32mas\u001b[0m \u001b[0me\u001b[0m\u001b[0;34m:\u001b[0m\u001b[0;34m\u001b[0m\u001b[0;34m\u001b[0m\u001b[0m\n",
      "\u001b[0;31mKeyboardInterrupt\u001b[0m: "
     ]
    }
   ],
   "source": [
    "epochs = 10000\n",
    "hist = model.fit(\n",
    "    train_dataset.take(10000),\n",
    "    validation_data=None,#val_dataset.take(2)\n",
    "    epochs=epochs, \n",
    "    callbacks=callbacks_list,#callbacks_list\n",
    "    verbose=1,\n",
    ")# b1:64ms, b2:62ms, b5:62ms"
   ]
  },
  {
   "cell_type": "code",
   "execution_count": 491,
   "metadata": {},
   "outputs": [],
   "source": [
    "model.save_weights(path_weight)"
   ]
  },
  {
   "cell_type": "code",
   "execution_count": 493,
   "metadata": {},
   "outputs": [
    {
     "name": "stdout",
     "output_type": "stream",
     "text": [
      "cls_score (1, 9, 118)\n",
      "y tf.Tensor([[ 7  7 39  2  6  4  3 -1 -1]], shape=(1, 9), dtype=int64)\n",
      "h tf.Tensor([[ 7  7 39  2  6  4  3 37 56]], shape=(1, 9), dtype=int64)\n",
      "\n",
      "cls_score (1, 9, 118)\n",
      "y tf.Tensor([[ 8  0 64  7  3  5  9 -1 -1]], shape=(1, 9), dtype=int64)\n",
      "h tf.Tensor([[ 8  0 64  7  3  5  9 38 38]], shape=(1, 9), dtype=int64)\n",
      "\n",
      "cls_score (1, 9, 118)\n",
      "y tf.Tensor([[ 8  9 73  8  7  8  3 -1 -1]], shape=(1, 9), dtype=int64)\n",
      "h tf.Tensor([[ 8  9 73  8  7  8  3 67 59]], shape=(1, 9), dtype=int64)\n",
      "\n",
      "cls_score (1, 9, 118)\n",
      "y tf.Tensor([[ 1  2 37  6  0  7  9 -1 -1]], shape=(1, 9), dtype=int64)\n",
      "h tf.Tensor([[ 1  2 37  6  0  7  9 56 38]], shape=(1, 9), dtype=int64)\n",
      "\n",
      "cls_score (1, 9, 118)\n",
      "y tf.Tensor([[52 93  5  8 44  7  1  1  4]], shape=(1, 9), dtype=int64)\n",
      "h tf.Tensor([[52 93  5  8 44  7  1  1  4]], shape=(1, 9), dtype=int64)\n",
      "\n",
      "cls_score (1, 9, 118)\n",
      "y tf.Tensor([[94 98  6 51 64 63 38 37 47]], shape=(1, 9), dtype=int64)\n",
      "h tf.Tensor([[94 98  6 51 64 51 62 40 37]], shape=(1, 9), dtype=int64)\n",
      "\n",
      "cls_score (1, 9, 118)\n",
      "y tf.Tensor([[ 4  5  0 55  4  9  8  0 -1]], shape=(1, 9), dtype=int64)\n",
      "h tf.Tensor([[ 4  5  0 55  4  9  8  0 55]], shape=(1, 9), dtype=int64)\n",
      "\n",
      "cls_score (1, 9, 118)\n",
      "y tf.Tensor([[95 96  4  2 44  3  8  8  8]], shape=(1, 9), dtype=int64)\n",
      "h tf.Tensor([[95 96  4  2 44  3  8  8  8]], shape=(1, 9), dtype=int64)\n",
      "\n",
      "cls_score (1, 9, 118)\n",
      "y tf.Tensor([[97 98  2  5 43  4  8  2  9]], shape=(1, 9), dtype=int64)\n",
      "h tf.Tensor([[97 98  2  5 43  4  8  2  9]], shape=(1, 9), dtype=int64)\n",
      "\n",
      "cls_score (1, 9, 118)\n",
      "y tf.Tensor([[94 98  2  5 42  1  6  3  9]], shape=(1, 9), dtype=int64)\n",
      "h tf.Tensor([[94 98  2  5 42  1  6  3  9]], shape=(1, 9), dtype=int64)\n",
      "\n",
      "cls_score (1, 9, 118)\n",
      "y tf.Tensor([[52 93  4  9 42  1  1  1  0]], shape=(1, 9), dtype=int64)\n",
      "h tf.Tensor([[52 93  6  9 42  1  1  1  1]], shape=(1, 9), dtype=int64)\n",
      "\n",
      "cls_score (1, 9, 118)\n",
      "y tf.Tensor([[94 98  7  3 43  6  2  9  9]], shape=(1, 9), dtype=int64)\n",
      "h tf.Tensor([[94 98  7  3 43  6  2  9  9]], shape=(1, 9), dtype=int64)\n",
      "\n",
      "cls_score (1, 9, 118)\n",
      "y tf.Tensor([[ 94 100   9   3  42   3   3   1   4]], shape=(1, 9), dtype=int64)\n",
      "h tf.Tensor([[ 94 100   9   3  42   3   3   3   0]], shape=(1, 9), dtype=int64)\n",
      "\n",
      "cls_score (1, 9, 118)\n",
      "y tf.Tensor([[ 8  4 70  5  0  3  4 -1 -1]], shape=(1, 9), dtype=int64)\n",
      "h tf.Tensor([[ 8  4 70  5  0  3  4 73 69]], shape=(1, 9), dtype=int64)\n",
      "\n",
      "cls_score (1, 9, 118)\n",
      "y tf.Tensor([[ 4  3 49  2  8  5  5 -1 -1]], shape=(1, 9), dtype=int64)\n",
      "h tf.Tensor([[ 4  3 49  2  8  5  5  2  2]], shape=(1, 9), dtype=int64)\n",
      "\n",
      "cls_score (1, 9, 118)\n",
      "y tf.Tensor([[52 93  8 58 59 45 59 36 72]], shape=(1, 9), dtype=int64)\n",
      "h tf.Tensor([[52 93  8 58 59 57 45 64  9]], shape=(1, 9), dtype=int64)\n",
      "\n",
      "cls_score (1, 9, 118)\n",
      "y tf.Tensor([[101  98   0  52  74  61  72  59  43]], shape=(1, 9), dtype=int64)\n",
      "h tf.Tensor([[101  98   0  52  74  59  72  52  72]], shape=(1, 9), dtype=int64)\n",
      "\n",
      "cls_score (1, 9, 118)\n",
      "y tf.Tensor([[95 96  7 74 56 59 52 39 48]], shape=(1, 9), dtype=int64)\n",
      "h tf.Tensor([[95 96  7 74 56 72 48 54 58]], shape=(1, 9), dtype=int64)\n",
      "\n",
      "cls_score (1, 9, 118)\n",
      "y tf.Tensor([[ 1  1 60  0  7  4  3 -1 -1]], shape=(1, 9), dtype=int64)\n",
      "h tf.Tensor([[ 1  1 60  0  7  4  3  2  2]], shape=(1, 9), dtype=int64)\n",
      "\n",
      "cls_score (1, 9, 118)\n",
      "y tf.Tensor([[83 84  7  2 42  4  7  4  3]], shape=(1, 9), dtype=int64)\n",
      "h tf.Tensor([[83 84  7  2 42  4  7  4  3]], shape=(1, 9), dtype=int64)\n",
      "\n",
      "cls_score (1, 9, 118)\n",
      "y tf.Tensor([[ 71 102   5   8  43   9   2   8   0]], shape=(1, 9), dtype=int64)\n",
      "h tf.Tensor([[ 71 102   5   5  43   9   2   8   0]], shape=(1, 9), dtype=int64)\n",
      "\n",
      "cls_score (1, 9, 118)\n",
      "y tf.Tensor([[101 100   3   2  43   3   1   9   8]], shape=(1, 9), dtype=int64)\n",
      "h tf.Tensor([[101 100   3   2  43   3   1   9   8]], shape=(1, 9), dtype=int64)\n",
      "\n",
      "cls_score (1, 9, 118)\n",
      "y tf.Tensor([[ 1  0 69  5  8  7  2 -1 -1]], shape=(1, 9), dtype=int64)\n",
      "h tf.Tensor([[ 1  0 69  5  8  7  2 47  2]], shape=(1, 9), dtype=int64)\n",
      "\n",
      "cls_score (1, 9, 118)\n",
      "y tf.Tensor([[ 71 102   3   2  41   0   2   3   1]], shape=(1, 9), dtype=int64)\n",
      "h tf.Tensor([[ 71 102   3   2  41   0   2   3   1]], shape=(1, 9), dtype=int64)\n",
      "\n",
      "cls_score (1, 9, 118)\n",
      "y tf.Tensor([[ 1  3 39  7  9  3  2 -1 -1]], shape=(1, 9), dtype=int64)\n",
      "h tf.Tensor([[ 1  3 39  7  9  3  2 39  0]], shape=(1, 9), dtype=int64)\n",
      "\n",
      "cls_score (1, 9, 118)\n",
      "y tf.Tensor([[ 97 100   3  66  56  49  41  59  48]], shape=(1, 9), dtype=int64)\n",
      "h tf.Tensor([[ 97 100   3  66  56  49  51  53  49]], shape=(1, 9), dtype=int64)\n",
      "\n",
      "cls_score (1, 9, 118)\n",
      "y tf.Tensor([[ 8  5 70  0  2  1  5 -1 -1]], shape=(1, 9), dtype=int64)\n",
      "h tf.Tensor([[ 8  5 70  0  2  1  5 69 59]], shape=(1, 9), dtype=int64)\n",
      "\n",
      "cls_score (1, 9, 118)\n",
      "y tf.Tensor([[ 94 100   2  53  37  71  69  59  71]], shape=(1, 9), dtype=int64)\n",
      "h tf.Tensor([[ 94 100   2  53  37  69  63  59  68]], shape=(1, 9), dtype=int64)\n",
      "\n",
      "cls_score (1, 9, 118)\n",
      "y tf.Tensor([[101  98   9   0  44   3   5   1   4]], shape=(1, 9), dtype=int64)\n",
      "h tf.Tensor([[101  98   9   0  44   3   5   1   4]], shape=(1, 9), dtype=int64)\n",
      "\n",
      "cls_score (1, 9, 118)\n",
      "y tf.Tensor([[ 1  8 50  9  9  5  6 -1 -1]], shape=(1, 9), dtype=int64)\n",
      "h tf.Tensor([[ 1  8 50  9  9  5  6  8 50]], shape=(1, 9), dtype=int64)\n",
      "\n",
      "cls_score (1, 9, 118)\n",
      "y tf.Tensor([[ 2  3  4 74  1  9  8  7 -1]], shape=(1, 9), dtype=int64)\n",
      "h tf.Tensor([[ 2  3  4 74  1  9  8  7 58]], shape=(1, 9), dtype=int64)\n",
      "\n",
      "cls_score (1, 9, 118)\n",
      "y tf.Tensor([[103  74   3  58  74  36  37  71  44]], shape=(1, 9), dtype=int64)\n",
      "h tf.Tensor([[103  74   3  58  66  65  47  66  37]], shape=(1, 9), dtype=int64)\n",
      "\n",
      "cls_score (1, 9, 118)\n",
      "y tf.Tensor([[ 2  6 57  2  9  7  9 -1 -1]], shape=(1, 9), dtype=int64)\n",
      "h tf.Tensor([[ 2  6 57  2  9  7  9  7 57]], shape=(1, 9), dtype=int64)\n",
      "\n",
      "cls_score (1, 9, 118)\n",
      "y tf.Tensor([[ 4  4 59  4  9  2  8 -1 -1]], shape=(1, 9), dtype=int64)\n",
      "h tf.Tensor([[ 4  4 59  4  9  2  8 62 62]], shape=(1, 9), dtype=int64)\n",
      "\n",
      "cls_score (1, 9, 118)\n",
      "y tf.Tensor([[ 6  0 73  8  2  9  7 -1 -1]], shape=(1, 9), dtype=int64)\n",
      "h tf.Tensor([[ 6  0 73  8  2  9  7 73 69]], shape=(1, 9), dtype=int64)\n",
      "\n",
      "cls_score (1, 9, 118)\n",
      "y tf.Tensor([[ 7  9 40  5  6  4  1 -1 -1]], shape=(1, 9), dtype=int64)\n",
      "h tf.Tensor([[ 7  9 40  5  6  4  1 40 65]], shape=(1, 9), dtype=int64)\n",
      "\n",
      "cls_score (1, 9, 118)\n",
      "y tf.Tensor([[ 8  6 48  9  6  7  5 -1 -1]], shape=(1, 9), dtype=int64)\n",
      "h tf.Tensor([[ 8  6 48  9  6  7  5 39  7]], shape=(1, 9), dtype=int64)\n",
      "\n",
      "cls_score (1, 9, 118)\n",
      "y tf.Tensor([[ 9  7 72  4  7  2  6 -1 -1]], shape=(1, 9), dtype=int64)\n",
      "h tf.Tensor([[ 9  7 72  4  7  2  6 57 72]], shape=(1, 9), dtype=int64)\n",
      "\n",
      "cls_score (1, 9, 118)\n",
      "y tf.Tensor([[ 5  6 48  6  6  3  5 -1 -1]], shape=(1, 9), dtype=int64)\n",
      "h tf.Tensor([[ 5  6 48  6  6  3  5  6  6]], shape=(1, 9), dtype=int64)\n",
      "\n",
      "cls_score (1, 9, 118)\n",
      "y tf.Tensor([[103  74   7   5  44   7   0   7   4]], shape=(1, 9), dtype=int64)\n",
      "h tf.Tensor([[103  74   7   5  44   7   0   7   4]], shape=(1, 9), dtype=int64)\n",
      "\n",
      "cls_score (1, 9, 118)\n",
      "y tf.Tensor([[ 7  5 70  2  2  6  8 -1 -1]], shape=(1, 9), dtype=int64)\n",
      "h tf.Tensor([[ 7  5 70  2  2  6  8 68 47]], shape=(1, 9), dtype=int64)\n",
      "\n",
      "cls_score (1, 9, 118)\n",
      "y tf.Tensor([[ 3  3 64  1  5  6  9 -1 -1]], shape=(1, 9), dtype=int64)\n",
      "h tf.Tensor([[ 3  3 64  1  5  6  9  9 64]], shape=(1, 9), dtype=int64)\n",
      "\n",
      "cls_score (1, 9, 118)\n",
      "y tf.Tensor([[ 4  7  6 59  6  8  2  5 -1]], shape=(1, 9), dtype=int64)\n",
      "h tf.Tensor([[ 4  7  6 59  6  8  2  5 58]], shape=(1, 9), dtype=int64)\n",
      "\n",
      "cls_score (1, 9, 118)\n",
      "y tf.Tensor([[ 2  7 47  5  0  2  8 -1 -1]], shape=(1, 9), dtype=int64)\n",
      "h tf.Tensor([[ 2  7 47  5  0  2  8 58 58]], shape=(1, 9), dtype=int64)\n",
      "\n",
      "cls_score (1, 9, 118)\n",
      "y tf.Tensor([[101  98   1   8  44   1   2   8   1]], shape=(1, 9), dtype=int64)\n",
      "h tf.Tensor([[101  98   1   8  44   1   2   8   1]], shape=(1, 9), dtype=int64)\n",
      "\n",
      "cls_score (1, 9, 118)\n",
      "y tf.Tensor([[ 1  1 64  7  3  9  5 -1 -1]], shape=(1, 9), dtype=int64)\n",
      "h tf.Tensor([[ 1  1 64  7  3  9  5  9  1]], shape=(1, 9), dtype=int64)\n",
      "\n",
      "cls_score (1, 9, 118)\n",
      "y tf.Tensor([[ 93 102   9   1  43   1   9   9   2]], shape=(1, 9), dtype=int64)\n",
      "h tf.Tensor([[ 93 102   9   1  43   1   9   9   2]], shape=(1, 9), dtype=int64)\n",
      "\n",
      "cls_score (1, 9, 118)\n",
      "y tf.Tensor([[101 100   3   6  43   2   6   4   2]], shape=(1, 9), dtype=int64)\n",
      "h tf.Tensor([[101 100   3   6  43   2   6   4   2]], shape=(1, 9), dtype=int64)\n",
      "\n",
      "cls_score (1, 9, 118)\n",
      "y tf.Tensor([[ 2  9 62  4  7  7  9 -1 -1]], shape=(1, 9), dtype=int64)\n",
      "h tf.Tensor([[ 2  9 62  4  7  7  9  9 62]], shape=(1, 9), dtype=int64)\n",
      "\n",
      "cls_score (1, 9, 118)\n",
      "y tf.Tensor([[97 98  7  3 43  8  7  2  4]], shape=(1, 9), dtype=int64)\n",
      "h tf.Tensor([[97 98  7  3 43  8  7  2  4]], shape=(1, 9), dtype=int64)\n",
      "\n"
     ]
    },
    {
     "name": "stdout",
     "output_type": "stream",
     "text": [
      "cls_score (1, 9, 118)\n",
      "y tf.Tensor([[ 3  2 55  2  3  0  1 -1 -1]], shape=(1, 9), dtype=int64)\n",
      "h tf.Tensor([[ 3  2 55  2  3  0  1  1  2]], shape=(1, 9), dtype=int64)\n",
      "\n",
      "cls_score (1, 9, 118)\n",
      "y tf.Tensor([[94 98  6  5 44  1  6  5  4]], shape=(1, 9), dtype=int64)\n",
      "h tf.Tensor([[94 98  6  5 44  1  6  5  4]], shape=(1, 9), dtype=int64)\n",
      "\n",
      "cls_score (1, 9, 118)\n",
      "y tf.Tensor([[ 93 102   5   7  41   9   4   7   0]], shape=(1, 9), dtype=int64)\n",
      "h tf.Tensor([[ 93 102   5   7  41   9   4   7   0]], shape=(1, 9), dtype=int64)\n",
      "\n",
      "cls_score (1, 9, 118)\n",
      "y tf.Tensor([[ 75 101   9   7  42   5   5   7   5]], shape=(1, 9), dtype=int64)\n",
      "h tf.Tensor([[ 75 101   9   7  42   5   5   3   5]], shape=(1, 9), dtype=int64)\n",
      "\n",
      "cls_score (1, 9, 118)\n",
      "y tf.Tensor([[ 75 101   8  56  41  43  68  71  68]], shape=(1, 9), dtype=int64)\n",
      "h tf.Tensor([[ 75 101   8  56  41  43  69  69  69]], shape=(1, 9), dtype=int64)\n",
      "\n",
      "cls_score (1, 9, 118)\n",
      "y tf.Tensor([[ 6  9  4 65  6  3  0  2 -1]], shape=(1, 9), dtype=int64)\n",
      "h tf.Tensor([[ 6  9  4 65  6  3  0  2 47]], shape=(1, 9), dtype=int64)\n",
      "\n"
     ]
    },
    {
     "ename": "KeyboardInterrupt",
     "evalue": "",
     "output_type": "error",
     "traceback": [
      "\u001b[0;31m---------------------------------------------------------------------------\u001b[0m",
      "\u001b[0;31mKeyboardInterrupt\u001b[0m                         Traceback (most recent call last)",
      "\u001b[0;32m<ipython-input-493-6e6b6bb8e3c6>\u001b[0m in \u001b[0;36m<module>\u001b[0;34m\u001b[0m\n\u001b[1;32m      1\u001b[0m \u001b[0;32mfor\u001b[0m \u001b[0mimage\u001b[0m\u001b[0;34m,\u001b[0m \u001b[0mlabel\u001b[0m \u001b[0;32min\u001b[0m \u001b[0mtrain_dataset\u001b[0m\u001b[0;34m:\u001b[0m\u001b[0;34m\u001b[0m\u001b[0;34m\u001b[0m\u001b[0m\n\u001b[1;32m      2\u001b[0m \u001b[0;34m\u001b[0m\u001b[0m\n\u001b[0;32m----> 3\u001b[0;31m     \u001b[0my_decode\u001b[0m \u001b[0;34m=\u001b[0m \u001b[0mlabel\u001b[0m\u001b[0;34m[\u001b[0m\u001b[0;34m:\u001b[0m\u001b[0;34m,\u001b[0m \u001b[0;36m6\u001b[0m\u001b[0;34m:\u001b[0m\u001b[0;34m]\u001b[0m\u001b[0;34m\u001b[0m\u001b[0;34m\u001b[0m\u001b[0m\n\u001b[0m\u001b[1;32m      4\u001b[0m     \u001b[0my_cls\u001b[0m \u001b[0;34m=\u001b[0m \u001b[0mtf\u001b[0m\u001b[0;34m.\u001b[0m\u001b[0mcast\u001b[0m\u001b[0;34m(\u001b[0m\u001b[0my_decode\u001b[0m\u001b[0;34m[\u001b[0m\u001b[0;34m:\u001b[0m\u001b[0;34m,\u001b[0m \u001b[0;34m:\u001b[0m\u001b[0mmax_sequence\u001b[0m\u001b[0;34m]\u001b[0m\u001b[0;34m,\u001b[0m \u001b[0mtf\u001b[0m\u001b[0;34m.\u001b[0m\u001b[0mint64\u001b[0m\u001b[0;34m)\u001b[0m\u001b[0;34m\u001b[0m\u001b[0;34m\u001b[0m\u001b[0m\n\u001b[1;32m      5\u001b[0m     \u001b[0my_cxy\u001b[0m \u001b[0;34m=\u001b[0m \u001b[0mtf\u001b[0m\u001b[0;34m.\u001b[0m\u001b[0mreshape\u001b[0m\u001b[0;34m(\u001b[0m\u001b[0my_decode\u001b[0m\u001b[0;34m[\u001b[0m\u001b[0;34m:\u001b[0m\u001b[0;34m,\u001b[0m \u001b[0mmax_sequence\u001b[0m\u001b[0;34m:\u001b[0m\u001b[0;34m]\u001b[0m\u001b[0;34m,\u001b[0m\u001b[0;34m[\u001b[0m\u001b[0;34m-\u001b[0m\u001b[0;36m1\u001b[0m\u001b[0;34m,\u001b[0m\u001b[0mmax_sequence\u001b[0m\u001b[0;34m,\u001b[0m\u001b[0;36m2\u001b[0m\u001b[0;34m]\u001b[0m\u001b[0;34m)\u001b[0m\u001b[0;34m\u001b[0m\u001b[0;34m\u001b[0m\u001b[0m\n",
      "\u001b[0;32m~/anaconda3/lib/python3.8/site-packages/tensorflow/python/util/dispatch.py\u001b[0m in \u001b[0;36mwrapper\u001b[0;34m(*args, **kwargs)\u001b[0m\n\u001b[1;32m    199\u001b[0m     \u001b[0;34m\"\"\"Call target, and fall back on dispatchers if there is a TypeError.\"\"\"\u001b[0m\u001b[0;34m\u001b[0m\u001b[0;34m\u001b[0m\u001b[0m\n\u001b[1;32m    200\u001b[0m     \u001b[0;32mtry\u001b[0m\u001b[0;34m:\u001b[0m\u001b[0;34m\u001b[0m\u001b[0;34m\u001b[0m\u001b[0m\n\u001b[0;32m--> 201\u001b[0;31m       \u001b[0;32mreturn\u001b[0m \u001b[0mtarget\u001b[0m\u001b[0;34m(\u001b[0m\u001b[0;34m*\u001b[0m\u001b[0margs\u001b[0m\u001b[0;34m,\u001b[0m \u001b[0;34m**\u001b[0m\u001b[0mkwargs\u001b[0m\u001b[0;34m)\u001b[0m\u001b[0;34m\u001b[0m\u001b[0;34m\u001b[0m\u001b[0m\n\u001b[0m\u001b[1;32m    202\u001b[0m     \u001b[0;32mexcept\u001b[0m \u001b[0;34m(\u001b[0m\u001b[0mTypeError\u001b[0m\u001b[0;34m,\u001b[0m \u001b[0mValueError\u001b[0m\u001b[0;34m)\u001b[0m\u001b[0;34m:\u001b[0m\u001b[0;34m\u001b[0m\u001b[0;34m\u001b[0m\u001b[0m\n\u001b[1;32m    203\u001b[0m       \u001b[0;31m# Note: convert_to_eager_tensor currently raises a ValueError, not a\u001b[0m\u001b[0;34m\u001b[0m\u001b[0;34m\u001b[0m\u001b[0;34m\u001b[0m\u001b[0m\n",
      "\u001b[0;32m~/anaconda3/lib/python3.8/site-packages/tensorflow/python/ops/array_ops.py\u001b[0m in \u001b[0;36m_slice_helper\u001b[0;34m(tensor, slice_spec, var)\u001b[0m\n\u001b[1;32m   1011\u001b[0m       \u001b[0mvar_empty\u001b[0m \u001b[0;34m=\u001b[0m \u001b[0mconstant\u001b[0m\u001b[0;34m(\u001b[0m\u001b[0;34m[\u001b[0m\u001b[0;34m]\u001b[0m\u001b[0;34m,\u001b[0m \u001b[0mdtype\u001b[0m\u001b[0;34m=\u001b[0m\u001b[0mdtypes\u001b[0m\u001b[0;34m.\u001b[0m\u001b[0mint32\u001b[0m\u001b[0;34m)\u001b[0m\u001b[0;34m\u001b[0m\u001b[0;34m\u001b[0m\u001b[0m\n\u001b[1;32m   1012\u001b[0m       \u001b[0mpacked_begin\u001b[0m \u001b[0;34m=\u001b[0m \u001b[0mpacked_end\u001b[0m \u001b[0;34m=\u001b[0m \u001b[0mpacked_strides\u001b[0m \u001b[0;34m=\u001b[0m \u001b[0mvar_empty\u001b[0m\u001b[0;34m\u001b[0m\u001b[0;34m\u001b[0m\u001b[0m\n\u001b[0;32m-> 1013\u001b[0;31m     return strided_slice(\n\u001b[0m\u001b[1;32m   1014\u001b[0m         \u001b[0mtensor\u001b[0m\u001b[0;34m,\u001b[0m\u001b[0;34m\u001b[0m\u001b[0;34m\u001b[0m\u001b[0m\n\u001b[1;32m   1015\u001b[0m         \u001b[0mpacked_begin\u001b[0m\u001b[0;34m,\u001b[0m\u001b[0;34m\u001b[0m\u001b[0;34m\u001b[0m\u001b[0m\n",
      "\u001b[0;32m~/anaconda3/lib/python3.8/site-packages/tensorflow/python/util/dispatch.py\u001b[0m in \u001b[0;36mwrapper\u001b[0;34m(*args, **kwargs)\u001b[0m\n\u001b[1;32m    199\u001b[0m     \u001b[0;34m\"\"\"Call target, and fall back on dispatchers if there is a TypeError.\"\"\"\u001b[0m\u001b[0;34m\u001b[0m\u001b[0;34m\u001b[0m\u001b[0m\n\u001b[1;32m    200\u001b[0m     \u001b[0;32mtry\u001b[0m\u001b[0;34m:\u001b[0m\u001b[0;34m\u001b[0m\u001b[0;34m\u001b[0m\u001b[0m\n\u001b[0;32m--> 201\u001b[0;31m       \u001b[0;32mreturn\u001b[0m \u001b[0mtarget\u001b[0m\u001b[0;34m(\u001b[0m\u001b[0;34m*\u001b[0m\u001b[0margs\u001b[0m\u001b[0;34m,\u001b[0m \u001b[0;34m**\u001b[0m\u001b[0mkwargs\u001b[0m\u001b[0;34m)\u001b[0m\u001b[0;34m\u001b[0m\u001b[0;34m\u001b[0m\u001b[0m\n\u001b[0m\u001b[1;32m    202\u001b[0m     \u001b[0;32mexcept\u001b[0m \u001b[0;34m(\u001b[0m\u001b[0mTypeError\u001b[0m\u001b[0;34m,\u001b[0m \u001b[0mValueError\u001b[0m\u001b[0;34m)\u001b[0m\u001b[0;34m:\u001b[0m\u001b[0;34m\u001b[0m\u001b[0;34m\u001b[0m\u001b[0m\n\u001b[1;32m    203\u001b[0m       \u001b[0;31m# Note: convert_to_eager_tensor currently raises a ValueError, not a\u001b[0m\u001b[0;34m\u001b[0m\u001b[0;34m\u001b[0m\u001b[0;34m\u001b[0m\u001b[0m\n",
      "\u001b[0;32m~/anaconda3/lib/python3.8/site-packages/tensorflow/python/ops/array_ops.py\u001b[0m in \u001b[0;36mstrided_slice\u001b[0;34m(input_, begin, end, strides, begin_mask, end_mask, ellipsis_mask, new_axis_mask, shrink_axis_mask, var, name)\u001b[0m\n\u001b[1;32m   1184\u001b[0m     \u001b[0mstrides\u001b[0m \u001b[0;34m=\u001b[0m \u001b[0mones_like\u001b[0m\u001b[0;34m(\u001b[0m\u001b[0mbegin\u001b[0m\u001b[0;34m)\u001b[0m\u001b[0;34m\u001b[0m\u001b[0;34m\u001b[0m\u001b[0m\n\u001b[1;32m   1185\u001b[0m \u001b[0;34m\u001b[0m\u001b[0m\n\u001b[0;32m-> 1186\u001b[0;31m   op = gen_array_ops.strided_slice(\n\u001b[0m\u001b[1;32m   1187\u001b[0m       \u001b[0minput\u001b[0m\u001b[0;34m=\u001b[0m\u001b[0minput_\u001b[0m\u001b[0;34m,\u001b[0m\u001b[0;34m\u001b[0m\u001b[0;34m\u001b[0m\u001b[0m\n\u001b[1;32m   1188\u001b[0m       \u001b[0mbegin\u001b[0m\u001b[0;34m=\u001b[0m\u001b[0mbegin\u001b[0m\u001b[0;34m,\u001b[0m\u001b[0;34m\u001b[0m\u001b[0;34m\u001b[0m\u001b[0m\n",
      "\u001b[0;32m~/anaconda3/lib/python3.8/site-packages/tensorflow/python/ops/gen_array_ops.py\u001b[0m in \u001b[0;36mstrided_slice\u001b[0;34m(input, begin, end, strides, begin_mask, end_mask, ellipsis_mask, new_axis_mask, shrink_axis_mask, name)\u001b[0m\n\u001b[1;32m  10311\u001b[0m   \u001b[0;32mif\u001b[0m \u001b[0mtld\u001b[0m\u001b[0;34m.\u001b[0m\u001b[0mis_eager\u001b[0m\u001b[0;34m:\u001b[0m\u001b[0;34m\u001b[0m\u001b[0;34m\u001b[0m\u001b[0m\n\u001b[1;32m  10312\u001b[0m     \u001b[0;32mtry\u001b[0m\u001b[0;34m:\u001b[0m\u001b[0;34m\u001b[0m\u001b[0;34m\u001b[0m\u001b[0m\n\u001b[0;32m> 10313\u001b[0;31m       _result = pywrap_tfe.TFE_Py_FastPathExecute(\n\u001b[0m\u001b[1;32m  10314\u001b[0m         \u001b[0m_ctx\u001b[0m\u001b[0;34m.\u001b[0m\u001b[0m_context_handle\u001b[0m\u001b[0;34m,\u001b[0m \u001b[0mtld\u001b[0m\u001b[0;34m.\u001b[0m\u001b[0mdevice_name\u001b[0m\u001b[0;34m,\u001b[0m \u001b[0;34m\"StridedSlice\"\u001b[0m\u001b[0;34m,\u001b[0m \u001b[0mname\u001b[0m\u001b[0;34m,\u001b[0m\u001b[0;34m\u001b[0m\u001b[0;34m\u001b[0m\u001b[0m\n\u001b[1;32m  10315\u001b[0m         \u001b[0mtld\u001b[0m\u001b[0;34m.\u001b[0m\u001b[0mop_callbacks\u001b[0m\u001b[0;34m,\u001b[0m \u001b[0minput\u001b[0m\u001b[0;34m,\u001b[0m \u001b[0mbegin\u001b[0m\u001b[0;34m,\u001b[0m \u001b[0mend\u001b[0m\u001b[0;34m,\u001b[0m \u001b[0mstrides\u001b[0m\u001b[0;34m,\u001b[0m \u001b[0;34m\"begin_mask\"\u001b[0m\u001b[0;34m,\u001b[0m\u001b[0;34m\u001b[0m\u001b[0;34m\u001b[0m\u001b[0m\n",
      "\u001b[0;31mKeyboardInterrupt\u001b[0m: "
     ]
    }
   ],
   "source": [
    "for image, label in train_dataset: \n",
    "    \n",
    "    y_decode = label[:, 6:]\n",
    "    y_cls = tf.cast(y_decode[:, :max_sequence], tf.int64)\n",
    "    y_cxy = tf.reshape(y_decode[:, max_sequence:],[-1,max_sequence,2])\n",
    "    output = model.predict(image)\n",
    "    #print('output', output.shape)\n",
    "    output_decode = tf.reshape(output[:, 6:], [-1, max_sequence, 2 + num_classes])\n",
    "    cxy = output_decode[:, :, :2]\n",
    "    cls_score = output_decode[:, :, 2:]\n",
    "    #h_text_score = y_pred[:, :, 2:]\n",
    "    #h_text = tf.argmax(h_text_score, -1)\n",
    "    print('cls_score', cls_score.shape)\n",
    "    cls = tf.argmax(cls_score, -1)    \n",
    "    print('y', y_cls)\n",
    "    print('h', cls)\n",
    "    #print('y_cxy', y_cxy)\n",
    "    #print('cxy',cxy)\n",
    "    print('')\n",
    "    #break\n",
    "    "
   ]
  },
  {
   "cell_type": "code",
   "execution_count": null,
   "metadata": {},
   "outputs": [],
   "source": [
    "plt.figure(figsize=(15,10))\n",
    "plt.imshow(x_sample_concat)"
   ]
  },
  {
   "cell_type": "markdown",
   "metadata": {},
   "source": [
    "### tflite"
   ]
  },
  {
   "cell_type": "code",
   "execution_count": null,
   "metadata": {},
   "outputs": [],
   "source": [
    "saved_model_pb = './LPR_pb'"
   ]
  },
  {
   "cell_type": "code",
   "execution_count": null,
   "metadata": {
    "scrolled": true
   },
   "outputs": [],
   "source": [
    "model.save(saved_model_pb)"
   ]
  },
  {
   "cell_type": "code",
   "execution_count": null,
   "metadata": {},
   "outputs": [],
   "source": [
    "#custom_objects = {'recall':recall,'precision':precision, 'flip_accuracy':flip_accuracy}\n",
    "custom_objects = {'distance':distance, 'accuracy': accuracy}\n",
    "model_loaded = keras.models.load_model(saved_model_pb, custom_objects=custom_objects, compile=False)"
   ]
  },
  {
   "cell_type": "code",
   "execution_count": null,
   "metadata": {},
   "outputs": [],
   "source": [
    "model_loaded.compile()"
   ]
  },
  {
   "cell_type": "code",
   "execution_count": null,
   "metadata": {},
   "outputs": [],
   "source": [
    "for image, label in train_dataset: \n",
    "    y_cls = tf.cast(label[:, :max_sequence], tf.int64)\n",
    "    output = model_loaded.predict(image)\n",
    "    cxy = output[:, :, :2]\n",
    "    cls_score = output[:, :, 2:]\n",
    "    cls = tf.argmax(cls_score, -1)\n",
    "    print('y', y_cls)\n",
    "    print('h', cls)\n",
    "    print('')"
   ]
  },
  {
   "cell_type": "code",
   "execution_count": null,
   "metadata": {},
   "outputs": [],
   "source": [
    "converter = tf.lite.TFLiteConverter.from_saved_model(saved_model_pb)\n",
    "converter.optimizations = [tf.lite.Optimize.DEFAULT]\n",
    "converter"
   ]
  },
  {
   "cell_type": "code",
   "execution_count": 248,
   "metadata": {},
   "outputs": [],
   "source": [
    "tflite_model = converter.convert()"
   ]
  },
  {
   "cell_type": "code",
   "execution_count": 249,
   "metadata": {},
   "outputs": [],
   "source": [
    "# Save the TF Lite model.\n",
    "with tf.io.gfile.GFile('model.tflite', 'wb') as f:\n",
    "  f.write(tflite_model)"
   ]
  },
  {
   "cell_type": "code",
   "execution_count": 250,
   "metadata": {},
   "outputs": [
    {
     "name": "stdout",
     "output_type": "stream",
     "text": [
      "model.tflite\r\n"
     ]
    }
   ],
   "source": [
    "!ls *.tflite"
   ]
  },
  {
   "cell_type": "code",
   "execution_count": 251,
   "metadata": {
    "scrolled": true
   },
   "outputs": [
    {
     "name": "stdout",
     "output_type": "stream",
     "text": [
      "INFO:tensorflow:Assets written to: /tmp/tmp7k636kex/assets\n"
     ]
    },
    {
     "name": "stderr",
     "output_type": "stream",
     "text": [
      "INFO:tensorflow:Assets written to: /tmp/tmp7k636kex/assets\n"
     ]
    }
   ],
   "source": [
    "# Convert the model.\n",
    "converter = tf.lite.TFLiteConverter.from_keras_model(model)\n",
    "tflite_model = converter.convert()"
   ]
  },
  {
   "cell_type": "code",
   "execution_count": 269,
   "metadata": {},
   "outputs": [
    {
     "data": {
      "text/plain": [
       "(220, 1040, 3)"
      ]
     },
     "execution_count": 269,
     "metadata": {},
     "output_type": "execute_result"
    }
   ],
   "source": [
    "input_sample = input_list_train[0]\n",
    "input_sample.shape"
   ]
  },
  {
   "cell_type": "code",
   "execution_count": 270,
   "metadata": {},
   "outputs": [
    {
     "data": {
      "image/png": "[encoded data removed]",
      "text/plain": [
       "<PIL.Image.Image image mode=RGB size=530x116 at 0x7F9DB0E1DC40>"
      ]
     },
     "execution_count": 270,
     "metadata": {},
     "output_type": "execute_result"
    }
   ],
   "source": [
    "img = Image.fromarray(input_sample[52:-52,255:-255])\n",
    "img"
   ]
  },
  {
   "cell_type": "code",
   "execution_count": 271,
   "metadata": {},
   "outputs": [
    {
     "data": {
      "image/png": "[encoded data removed]",
      "text/plain": [
       "<PIL.Image.Image image mode=RGB size=384x128 at 0x7F9DB0E14430>"
      ]
     },
     "execution_count": 271,
     "metadata": {},
     "output_type": "execute_result"
    }
   ],
   "source": [
    "img_resized = img.resize((padded_image_shape[1],padded_image_shape[0]))\n",
    "img_resized"
   ]
  },
  {
   "cell_type": "code",
   "execution_count": 272,
   "metadata": {},
   "outputs": [],
   "source": [
    "input_sample = np.expand_dims(np.array(img_resized), 0)"
   ]
  },
  {
   "cell_type": "code",
   "execution_count": 273,
   "metadata": {},
   "outputs": [
    {
     "data": {
      "text/plain": [
       "118"
      ]
     },
     "execution_count": 273,
     "metadata": {},
     "output_type": "execute_result"
    }
   ],
   "source": [
    "num_classes"
   ]
  },
  {
   "cell_type": "code",
   "execution_count": 274,
   "metadata": {},
   "outputs": [
    {
     "data": {
      "text/plain": [
       "((1, 9, 120), array([ 4,  9, 46,  9,  9,  3,  9,  9,  9]))"
      ]
     },
     "execution_count": 274,
     "metadata": {},
     "output_type": "execute_result"
    }
   ],
   "source": [
    "# Load TFLite model and allocate tensors.\n",
    "interpreter = tf.lite.Interpreter(model_content=tflite_model)\n",
    "interpreter.allocate_tensors()\n",
    "\n",
    "# Get input and output tensors.\n",
    "input_details = interpreter.get_input_details()\n",
    "output_details = interpreter.get_output_details()\n",
    "\n",
    "# Test the TensorFlow Lite model on random input data.\n",
    "input_shape = input_details[0]['shape']\n",
    "input_data = np.array(input_sample, dtype=np.float32)\n",
    "interpreter.set_tensor(input_details[0]['index'], input_data)\n",
    "\n",
    "interpreter.invoke()\n",
    "\n",
    "# The function `get_tensor()` returns a copy of the tensor data.\n",
    "# Use `tensor()` in order to get a pointer to the tensor.\n",
    "tflite_results = interpreter.get_tensor(output_details[0]['index'])\n",
    "cls_score = tflite_results[0, :, 2:]\n",
    "cls_arg_max = np.argmax(cls_score, -1)\n",
    "tflite_results.shape, cls_arg_max"
   ]
  },
  {
   "cell_type": "code",
   "execution_count": 329,
   "metadata": {},
   "outputs": [
    {
     "name": "stdout",
     "output_type": "stream",
     "text": [
      "conv2d_775/kernel:0 (7, 7, 3, 64)\n",
      "conv2d_775/bias:0 (64,)\n",
      "conv2d_776/kernel:0 (3, 3, 64, 64)\n",
      "conv2d_776/bias:0 (64,)\n",
      "conv2d_777/kernel:0 (3, 3, 64, 64)\n",
      "conv2d_777/bias:0 (64,)\n",
      "conv2d_778/kernel:0 (3, 3, 64, 64)\n",
      "conv2d_778/bias:0 (64,)\n",
      "conv2d_779/kernel:0 (3, 3, 64, 64)\n",
      "conv2d_779/bias:0 (64,)\n",
      "conv2d_780/kernel:0 (3, 3, 64, 128)\n",
      "conv2d_780/bias:0 (128,)\n",
      "conv2d_782/kernel:0 (3, 3, 64, 128)\n",
      "conv2d_782/bias:0 (128,)\n",
      "conv2d_781/kernel:0 (3, 3, 128, 128)\n",
      "conv2d_781/bias:0 (128,)\n",
      "conv2d_783/kernel:0 (3, 3, 128, 128)\n",
      "conv2d_783/bias:0 (128,)\n",
      "conv2d_784/kernel:0 (3, 3, 128, 128)\n",
      "conv2d_784/bias:0 (128,)\n",
      "conv2d_785/kernel:0 (3, 3, 128, 256)\n",
      "conv2d_785/bias:0 (256,)\n",
      "conv2d_787/kernel:0 (3, 3, 128, 256)\n",
      "conv2d_787/bias:0 (256,)\n",
      "conv2d_786/kernel:0 (3, 3, 256, 256)\n",
      "conv2d_786/bias:0 (256,)\n",
      "conv2d_788/kernel:0 (3, 3, 256, 256)\n",
      "conv2d_788/bias:0 (256,)\n",
      "conv2d_789/kernel:0 (3, 3, 256, 256)\n",
      "conv2d_789/bias:0 (256,)\n",
      "dense_embedding/kernel:0 (118, 256)\n",
      "key/kernel:0 (3, 3, 256, 256)\n",
      "key/bias:0 (256,)\n",
      "value/kernel:0 (3, 3, 256, 256)\n",
      "value/bias:0 (256,)\n",
      "dense_to_score/kernel:0 (256, 118)\n",
      "dense_to_score/bias:0 (118,)\n",
      "conv2d_755/kernel:0 (7, 7, 3, 64)\n",
      "conv2d_755/bias:0 (64,)\n",
      "conv2d_756/kernel:0 (3, 3, 64, 64)\n",
      "conv2d_756/bias:0 (64,)\n",
      "conv2d_757/kernel:0 (3, 3, 64, 64)\n",
      "conv2d_757/bias:0 (64,)\n",
      "conv2d_758/kernel:0 (3, 3, 64, 64)\n",
      "conv2d_758/bias:0 (64,)\n",
      "conv2d_759/kernel:0 (3, 3, 64, 64)\n",
      "conv2d_759/bias:0 (64,)\n",
      "conv2d_760/kernel:0 (3, 3, 64, 128)\n",
      "conv2d_760/bias:0 (128,)\n",
      "conv2d_762/kernel:0 (3, 3, 64, 128)\n",
      "conv2d_762/bias:0 (128,)\n",
      "conv2d_761/kernel:0 (3, 3, 128, 128)\n",
      "conv2d_761/bias:0 (128,)\n",
      "conv2d_763/kernel:0 (3, 3, 128, 128)\n",
      "conv2d_763/bias:0 (128,)\n",
      "conv2d_764/kernel:0 (3, 3, 128, 128)\n",
      "conv2d_764/bias:0 (128,)\n",
      "conv2d_765/kernel:0 (3, 3, 128, 256)\n",
      "conv2d_765/bias:0 (256,)\n",
      "conv2d_767/kernel:0 (3, 3, 128, 256)\n",
      "conv2d_767/bias:0 (256,)\n",
      "conv2d_766/kernel:0 (3, 3, 256, 256)\n",
      "conv2d_766/bias:0 (256,)\n",
      "conv2d_768/kernel:0 (3, 3, 256, 256)\n",
      "conv2d_768/bias:0 (256,)\n",
      "conv2d_769/kernel:0 (3, 3, 256, 256)\n",
      "conv2d_769/bias:0 (256,)\n",
      "conv2d_770/kernel:0 (3, 3, 256, 512)\n",
      "conv2d_770/bias:0 (512,)\n",
      "conv2d_772/kernel:0 (3, 3, 256, 512)\n",
      "conv2d_772/bias:0 (512,)\n",
      "conv2d_771/kernel:0 (3, 3, 512, 512)\n",
      "conv2d_771/bias:0 (512,)\n",
      "conv2d_773/kernel:0 (3, 3, 512, 512)\n",
      "conv2d_773/bias:0 (512,)\n",
      "conv2d_774/kernel:0 (3, 3, 512, 512)\n",
      "conv2d_774/bias:0 (512,)\n",
      "dense_42/kernel:0 (13824, 256)\n",
      "dense_42/bias:0 (256,)\n",
      "dense_43/kernel:0 (256, 6)\n",
      "dense_43/bias:0 (6,)\n"
     ]
    }
   ],
   "source": [
    "for var in model.trainable_variables:\n",
    "    print(var.name, var.shape)"
   ]
  }
 ],
 "metadata": {
  "kernelspec": {
   "display_name": "Python 3",
   "language": "python",
   "name": "python3"
  },
  "language_info": {
   "codemirror_mode": {
    "name": "ipython",
    "version": 3
   },
   "file_extension": ".py",
   "mimetype": "text/x-python",
   "name": "python",
   "nbconvert_exporter": "python",
   "pygments_lexer": "ipython3",
   "version": "3.8.3"
  }
 },
 "nbformat": 4,
 "nbformat_minor": 4
}
